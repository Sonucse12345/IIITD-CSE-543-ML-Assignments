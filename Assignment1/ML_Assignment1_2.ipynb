{
  "nbformat": 4,
  "nbformat_minor": 0,
  "metadata": {
    "colab": {
      "name": "ML Assignment1_2.ipynb",
      "provenance": [],
      "collapsed_sections": []
    },
    "kernelspec": {
      "name": "python3",
      "display_name": "Python 3"
    }
  },
  "cells": [
    {
      "cell_type": "code",
      "metadata": {
        "id": "vUaF95qGj0qc"
      },
      "source": [
        "# train=df.sample(frac=0.8,random_state=200) #random state is a seed value\n",
        "# test=df.drop(train.index)"
      ],
      "execution_count": null,
      "outputs": []
    },
    {
      "cell_type": "code",
      "metadata": {
        "id": "r4o7s3gmpwLA"
      },
      "source": [
        "# def split_to_train_test(df, label_column, train_frac=0.8):\n",
        "#     train_df, test_df = pd.DataFrame(), pd.DataFrame()\n",
        "#     labels = df[label_column].unique()\n",
        "#     for lbl in labels:\n",
        "#         lbl_df = df[df[label_column] == lbl]\n",
        "#         lbl_train_df = lbl_df.sample(frac=train_frac)\n",
        "#         lbl_test_df = lbl_df.drop(lbl_train_df.index)\n",
        "#         print '\\n%s:\\n---------\\ntotal:%d\\ntrain_df:%d\\ntest_df:%d' % (lbl, len(lbl_df), len(lbl_train_df), len(lbl_test_df))\n",
        "#         train_df = train_df.append(lbl_train_df)\n",
        "#         test_df = test_df.append(lbl_test_df)\n",
        "\n",
        "#     return train_df, test_df\n",
        "\n",
        "\n",
        "# and use it:\n",
        "\n",
        "# train, test = split_to_train_test(data, 'class', 0.7)"
      ],
      "execution_count": null,
      "outputs": []
    },
    {
      "cell_type": "code",
      "metadata": {
        "id": "KrdWGulIpySh"
      },
      "source": [
        "# probs = np.random.rand(len(df))\n",
        "# training_mask = probs < 0.7\n",
        "# test_mask = (probs>=0.7) & (probs < 0.85)\n",
        "# validatoin_mask = probs >= 0.85\n",
        "\n",
        "\n",
        "# df_training = df[training_mask]\n",
        "# df_test = df[test_mask]\n",
        "# df_validation = df[validatoin_mask]"
      ],
      "execution_count": null,
      "outputs": []
    },
    {
      "cell_type": "code",
      "metadata": {
        "id": "6lKGi2xFp0Pc"
      },
      "source": [
        "# shuffle = np.random.permutation(len(df))\n",
        "# test_size = int(len(df) * 0.2)\n",
        "# test_aux = shuffle[:test_size]\n",
        "# train_aux = shuffle[test_size:]\n",
        "# TRAIN_DF =df.iloc[train_aux]\n",
        "# TEST_DF = df.iloc[test_aux]"
      ],
      "execution_count": null,
      "outputs": []
    },
    {
      "cell_type": "code",
      "metadata": {
        "id": "Nq77s7wsqHyE",
        "colab": {
          "base_uri": "https://localhost:8080/",
          "height": 51
        },
        "outputId": "575076a2-f739-4800-eaf8-9e50a9d5eda9"
      },
      "source": [
        "from google.colab import drive\n",
        "drive.mount('gdrive')\n",
        "%cd /content/gdrive/'My Drive'/Dataset"
      ],
      "execution_count": null,
      "outputs": [
        {
          "output_type": "stream",
          "text": [
            "Mounted at gdrive\n",
            "/content/gdrive/My Drive/Dataset\n"
          ],
          "name": "stdout"
        }
      ]
    },
    {
      "cell_type": "code",
      "metadata": {
        "id": "7pNwUXsiqaGs"
      },
      "source": [
        "import numpy as np\n",
        "import pandas as pd\n",
        "import sklearn\n",
        "import scipy.io as sio\n",
        "from sklearn.tree import DecisionTreeClassifier\n",
        "from sklearn import metrics\n",
        "import matplotlib.pyplot as plt"
      ],
      "execution_count": null,
      "outputs": []
    },
    {
      "cell_type": "code",
      "metadata": {
        "id": "LnpRrij5qcl1",
        "colab": {
          "base_uri": "https://localhost:8080/",
          "height": 34
        },
        "outputId": "32ba25aa-c571-4b3f-cbda-cb6479984fa7"
      },
      "source": [
        "dataset2 = sio.loadmat('dataset_2.mat')\n",
        "dataset2.keys()"
      ],
      "execution_count": null,
      "outputs": [
        {
          "output_type": "execute_result",
          "data": {
            "text/plain": [
              "dict_keys(['__header__', '__version__', '__globals__', 'samples', 'labels'])"
            ]
          },
          "metadata": {
            "tags": []
          },
          "execution_count": 3
        }
      ]
    },
    {
      "cell_type": "code",
      "metadata": {
        "id": "EKi6tTnyqtxb",
        "colab": {
          "base_uri": "https://localhost:8080/",
          "height": 119
        },
        "outputId": "dd3f3ab0-e440-482b-97ad-7df6257e8805"
      },
      "source": [
        "X = dataset2['samples']\n",
        "Y = dataset2['labels']\n",
        "# print(header1)\n",
        "print(X.ndim)\n",
        "print(X.shape)\n",
        "print(Y.ndim)\n",
        "print(Y.shape)\n",
        "for i in Y:\n",
        "  print(i)\n",
        "setlist = set(Y[0])\n",
        "print(setlist)"
      ],
      "execution_count": null,
      "outputs": [
        {
          "output_type": "stream",
          "text": [
            "2\n",
            "(20000, 2)\n",
            "2\n",
            "(1, 20000)\n",
            "[0 3 2 ... 3 3 3]\n",
            "{0, 1, 2, 3}\n"
          ],
          "name": "stdout"
        }
      ]
    },
    {
      "cell_type": "markdown",
      "metadata": {
        "id": "UG8XiQie22HB"
      },
      "source": [
        "## Train Test Split (Custom)"
      ]
    },
    {
      "cell_type": "code",
      "metadata": {
        "id": "CrUdKBdgrgdy"
      },
      "source": [
        "def traintestsplit(X, Y):\n",
        "  df = pd.DataFrame(data = X, columns=(\"var1\", \"var2\"))\n",
        "  #print(df)\n",
        "  df['var3'] = Y.T\n",
        "  #print(df)\n",
        "  shuffle = np.random.permutation(len(df))\n",
        "  test_size = int(len(df) * 0.3)\n",
        "  test_aux = shuffle[:test_size]\n",
        "  train_aux = shuffle[test_size:]\n",
        "  TRAIN_DF =df.iloc[train_aux]\n",
        "  TEST_DF = df.iloc[test_aux]\n",
        "  print(len(TRAIN_DF))\n",
        "  print(len(TEST_DF))\n",
        "  return TRAIN_DF, TEST_DF"
      ],
      "execution_count": null,
      "outputs": []
    },
    {
      "cell_type": "code",
      "metadata": {
        "id": "d3VcXa08txs3",
        "colab": {
          "base_uri": "https://localhost:8080/",
          "height": 493
        },
        "outputId": "f28430b8-3ee9-410c-f97c-2fca2b4f6f8f"
      },
      "source": [
        "train, test = traintestsplit(X, Y)\n",
        "features = ['var1', 'var2']\n",
        "xtrain = train[features]\n",
        "xtest = test[features]\n",
        "ytrain = train.var3\n",
        "ytest = test.var3\n",
        "print(xtrain)\n",
        "print(ytrain)"
      ],
      "execution_count": null,
      "outputs": [
        {
          "output_type": "stream",
          "text": [
            "14000\n",
            "6000\n",
            "           var1      var2\n",
            "19892  3.872398  3.150598\n",
            "14604  3.582460  6.338983\n",
            "13140  5.562752  3.232313\n",
            "16151  4.632021  5.949401\n",
            "8373  -3.672978  4.670883\n",
            "...         ...       ...\n",
            "17535  4.778078  4.965683\n",
            "10809  5.516527  2.369430\n",
            "16764  6.194226  5.107394\n",
            "9672   4.784541  0.476804\n",
            "13996 -3.056068 -0.827004\n",
            "\n",
            "[14000 rows x 2 columns]\n",
            "19892    2\n",
            "14604    3\n",
            "13140    2\n",
            "16151    3\n",
            "8373     1\n",
            "        ..\n",
            "17535    3\n",
            "10809    2\n",
            "16764    3\n",
            "9672     2\n",
            "13996    0\n",
            "Name: var3, Length: 14000, dtype: int64\n"
          ],
          "name": "stdout"
        }
      ]
    },
    {
      "cell_type": "code",
      "metadata": {
        "id": "IspUUYsT5LYT"
      },
      "source": [
        "# For Ploting\n",
        "plot_x = []\n",
        "plot_y = []"
      ],
      "execution_count": null,
      "outputs": []
    },
    {
      "cell_type": "markdown",
      "metadata": {
        "id": "b9bAXLSE286Q"
      },
      "source": [
        "## Decision Tree Clf"
      ]
    },
    {
      "cell_type": "code",
      "metadata": {
        "id": "MrYgf7yrr7au"
      },
      "source": [
        "def dt(xtrain, ytrain, depth):\n",
        "  # Create Decision Tree classifer object\n",
        "  clf = DecisionTreeClassifier(max_depth=depth)\n",
        "\n",
        "  # Train Decision Tree Classifer\n",
        "  clf = clf.fit(xtrain,ytrain)\n",
        "\n",
        "  #Predict the response for test dataset\n",
        "  y_predict = clf.predict(xtest)\n",
        "  plot_x.append(clf.tree_.max_depth)\n",
        "  return y_predict"
      ],
      "execution_count": null,
      "outputs": []
    },
    {
      "cell_type": "markdown",
      "metadata": {
        "id": "AeVEW9uC2AVY"
      },
      "source": [
        "## Find Accuracy\n",
        "\n",
        "Accuracy = (TP + TN)/ Total Number"
      ]
    },
    {
      "cell_type": "code",
      "metadata": {
        "id": "X77dKj271YEx"
      },
      "source": [
        "def findAccuracy(ytest, y_predict):\n",
        "  ptr = 0\n",
        "  neg = 0\n",
        "  total = len(ytest)\n",
        "  for i in ytest:\n",
        "    if(i != y_predict[ptr]):\n",
        "      neg+=1\n",
        "    ptr+=1\n",
        "  return (total - neg)/total"
      ],
      "execution_count": null,
      "outputs": []
    },
    {
      "cell_type": "markdown",
      "metadata": {
        "id": "Fpum4X233B64"
      },
      "source": [
        "## Testing data with depth range(1 - 15)"
      ]
    },
    {
      "cell_type": "code",
      "metadata": {
        "id": "Ztf0eM86tMIQ"
      },
      "source": [
        "for i in range(1, 16):\n",
        "  y_predict = dt(xtrain, ytrain, i)\n",
        "  #print(\"Accuracy:\",metrics.accuracy_score(y_test, y_pred))\n",
        "  plot_y.append(findAccuracy(ytest, y_predict)*100)\n",
        "# y_predict = dt(xtrain, ytrain, i)\n",
        "# from sklearn.metrics import confusion_matrix\n",
        "# print('Confusion Matrix : \\n' + str(confusion_matrix(ytest,y_predict)))"
      ],
      "execution_count": null,
      "outputs": []
    },
    {
      "cell_type": "markdown",
      "metadata": {
        "id": "JWMmAjSB6S_X"
      },
      "source": [
        "## Graph Plot"
      ]
    },
    {
      "cell_type": "code",
      "metadata": {
        "id": "f48iGpEm5kKj"
      },
      "source": [
        "plt.plot(plot_x, plot_y) \n",
        "# naming the x axis \n",
        "plt.xlabel('x - axis') \n",
        "# naming the y axis \n",
        "plt.ylabel('y - axis') \n",
        "plt.show()"
      ],
      "execution_count": null,
      "outputs": []
    },
    {
      "cell_type": "markdown",
      "metadata": {
        "id": "jfiKtA9G59zv"
      },
      "source": [
        " ## b) Train Acc vs Test Acc"
      ]
    },
    {
      "cell_type": "markdown",
      "metadata": {
        "id": "hPCgvoLm8iyd"
      },
      "source": [
        "### Training Accuracy"
      ]
    },
    {
      "cell_type": "code",
      "metadata": {
        "id": "aLa17yDU9lSN"
      },
      "source": [
        "plot_train_x = []\n",
        "plot_train_y = []"
      ],
      "execution_count": null,
      "outputs": []
    },
    {
      "cell_type": "code",
      "metadata": {
        "id": "W2j8gWzj9gi8"
      },
      "source": [
        "def dt2(xtrain, ytrain, depth):\n",
        "  # Create Decision Tree classifer object\n",
        "  clf = DecisionTreeClassifier(max_depth=depth)\n",
        "\n",
        "  # Train Decision Tree Classifer\n",
        "  clf = clf.fit(xtrain,ytrain)\n",
        "\n",
        "  #Predict the response for test dataset\n",
        "  y_predict = clf.predict(xtrain)\n",
        "  plot_train_x.append(clf.tree_.max_depth)\n",
        "  return y_predict"
      ],
      "execution_count": null,
      "outputs": []
    },
    {
      "cell_type": "code",
      "metadata": {
        "id": "LHG3C9ym6B00"
      },
      "source": [
        "for i in range(1, 16):\n",
        "  y_predict = dt2(xtrain, ytrain, i)\n",
        "  plot_train_y.append(findAccuracy(ytrain, y_predict)*100)"
      ],
      "execution_count": null,
      "outputs": []
    },
    {
      "cell_type": "code",
      "metadata": {
        "id": "8YpgGwVa-Lgg",
        "colab": {
          "base_uri": "https://localhost:8080/",
          "height": 71
        },
        "outputId": "514a5dbe-8180-4ade-a2ee-2b9dd2fd3df3"
      },
      "source": [
        "print(plot_train_x)\n",
        "print(plot_train_y)"
      ],
      "execution_count": null,
      "outputs": [
        {
          "output_type": "stream",
          "text": [
            "[1, 2, 3, 4, 5, 6, 7, 8, 9, 10, 11, 12, 13, 14, 15]\n",
            "[50.41428571428571, 96.67857142857143, 96.67857142857143, 96.67857142857143, 96.82857142857144, 96.96428571428571, 97.07142857142857, 97.25714285714285, 97.55, 97.75, 97.95, 98.22857142857143, 98.42857142857143, 98.76428571428572, 98.96428571428572]\n"
          ],
          "name": "stdout"
        }
      ]
    },
    {
      "cell_type": "markdown",
      "metadata": {
        "id": "qeuItIPa-nJS"
      },
      "source": [
        "## Validation Accuracy"
      ]
    },
    {
      "cell_type": "code",
      "metadata": {
        "id": "vVo6q2L2_F3E"
      },
      "source": [
        "plot_val_x = plot_x\n",
        "plot_val_y = plot_y"
      ],
      "execution_count": null,
      "outputs": []
    },
    {
      "cell_type": "code",
      "metadata": {
        "id": "wEnLrsQW_Nde",
        "colab": {
          "base_uri": "https://localhost:8080/",
          "height": 71
        },
        "outputId": "6a4919fb-81c7-470c-9756-c9870faff348"
      },
      "source": [
        "print(plot_val_x)\n",
        "print(plot_val_y)"
      ],
      "execution_count": null,
      "outputs": [
        {
          "output_type": "stream",
          "text": [
            "[1, 2, 3, 4, 5, 6, 7, 8, 9, 10, 11, 12, 13, 14, 15]\n",
            "[49.016666666666666, 96.63333333333334, 96.63333333333334, 96.63333333333334, 96.5, 96.55, 96.36666666666667, 96.36666666666667, 95.86666666666666, 95.83333333333334, 95.96666666666667, 95.68333333333334, 95.45, 95.46666666666667, 95.3]\n"
          ],
          "name": "stdout"
        }
      ]
    }
  ]
}