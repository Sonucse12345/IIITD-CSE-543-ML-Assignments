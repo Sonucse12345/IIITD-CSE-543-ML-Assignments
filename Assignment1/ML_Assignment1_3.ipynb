{
  "nbformat": 4,
  "nbformat_minor": 0,
  "metadata": {
    "colab": {
      "name": "ML Assignment1_3.ipynb",
      "provenance": [],
      "collapsed_sections": []
    },
    "kernelspec": {
      "name": "python3",
      "display_name": "Python 3"
    }
  },
  "cells": [
    {
      "cell_type": "code",
      "metadata": {
        "id": "aqzZ48xq_1yM",
        "colab": {
          "base_uri": "https://localhost:8080/",
          "height": 51
        },
        "outputId": "a04b422d-595a-412a-9a01-af0e6143be85"
      },
      "source": [
        "from google.colab import drive\n",
        "drive.mount('gdrive')\n",
        "%cd /content/gdrive/'My Drive'/Dataset"
      ],
      "execution_count": null,
      "outputs": [
        {
          "output_type": "stream",
          "text": [
            "Mounted at gdrive\n",
            "/content/gdrive/My Drive/Dataset\n"
          ],
          "name": "stdout"
        }
      ]
    },
    {
      "cell_type": "code",
      "metadata": {
        "id": "fyKYdH56BeAU",
        "colab": {
          "base_uri": "https://localhost:8080/",
          "height": 68
        },
        "outputId": "00706f84-c954-4543-ee00-6f66a3891b91"
      },
      "source": [
        "%ls"
      ],
      "execution_count": null,
      "outputs": [
        {
          "output_type": "stream",
          "text": [
            "abc10.png  abc3.png  abc6.png  abc9.png       PRSA_data_2010.1.1-2014.12.31.csv\n",
            "abc1.png   abc4.png  abc7.png  dataset_1.mat\n",
            "abc2.png   abc5.png  abc8.png  dataset_2.mat\n"
          ],
          "name": "stdout"
        }
      ]
    },
    {
      "cell_type": "code",
      "metadata": {
        "id": "dYshVXlwBYdc"
      },
      "source": [
        "import numpy as np\n",
        "import pandas as pd\n",
        "import sklearn\n",
        "import scipy.io as sio\n",
        "from sklearn.tree import DecisionTreeClassifier\n",
        "from sklearn import metrics\n",
        "import matplotlib.pyplot as plt\n",
        "import random"
      ],
      "execution_count": null,
      "outputs": []
    },
    {
      "cell_type": "code",
      "metadata": {
        "id": "OptrUppsByMB"
      },
      "source": [
        "data = pd.read_csv(\"PRSA_data_2010.1.1-2014.12.31.csv\")\n",
        "del data['No']"
      ],
      "execution_count": null,
      "outputs": []
    },
    {
      "cell_type": "code",
      "metadata": {
        "id": "ptIzumEOJc9a"
      },
      "source": [
        "data['pm2.5'].fillna((data['pm2.5'].mean()), inplace=True)"
      ],
      "execution_count": null,
      "outputs": []
    },
    {
      "cell_type": "code",
      "metadata": {
        "id": "J1AZp08WLRAV"
      },
      "source": [
        "data[\"cbwd\"].replace(\"NW\", \"0\", inplace=True)\n",
        "data[\"cbwd\"].replace(\"cv\", \"1\", inplace=True)\n",
        "data[\"cbwd\"].replace(\"NE\", \"2\", inplace=True)\n",
        "data[\"cbwd\"].replace(\"SE\", \"3\", inplace=True)"
      ],
      "execution_count": null,
      "outputs": []
    },
    {
      "cell_type": "code",
      "metadata": {
        "id": "u3INsRQTCBlo",
        "colab": {
          "base_uri": "https://localhost:8080/",
          "height": 255
        },
        "outputId": "c4f25216-646b-46d5-d9e3-d19ede1c7b94"
      },
      "source": [
        "print(data)"
      ],
      "execution_count": null,
      "outputs": [
        {
          "output_type": "stream",
          "text": [
            "       year  month  day  hour      pm2.5  ...    PRES  cbwd     Iws Is  Ir\n",
            "0      2010      1    1     0  98.613215  ...  1021.0     0    1.79  0   0\n",
            "1      2010      1    1     1  98.613215  ...  1020.0     0    4.92  0   0\n",
            "2      2010      1    1     2  98.613215  ...  1019.0     0    6.71  0   0\n",
            "3      2010      1    1     3  98.613215  ...  1019.0     0    9.84  0   0\n",
            "4      2010      1    1     4  98.613215  ...  1018.0     0   12.97  0   0\n",
            "...     ...    ...  ...   ...        ...  ...     ...   ...     ... ..  ..\n",
            "43819  2014     12   31    19   8.000000  ...  1034.0     0  231.97  0   0\n",
            "43820  2014     12   31    20  10.000000  ...  1034.0     0  237.78  0   0\n",
            "43821  2014     12   31    21  10.000000  ...  1034.0     0  242.70  0   0\n",
            "43822  2014     12   31    22   8.000000  ...  1034.0     0  246.72  0   0\n",
            "43823  2014     12   31    23  12.000000  ...  1034.0     0  249.85  0   0\n",
            "\n",
            "[43824 rows x 12 columns]\n"
          ],
          "name": "stdout"
        }
      ]
    },
    {
      "cell_type": "code",
      "metadata": {
        "id": "FUH1KN8JCVMP"
      },
      "source": [
        "def traintestsplit(df):\n",
        "  shuffle = np.random.permutation(len(df))\n",
        "  test_size = int(len(df) * 0.2)\n",
        "  test_aux = shuffle[:test_size]\n",
        "  train_aux = shuffle[test_size:]\n",
        "  TRAIN_DF =df.iloc[train_aux]\n",
        "  TEST_DF = df.iloc[test_aux]\n",
        "  print(len(TRAIN_DF))\n",
        "  print(len(TEST_DF))\n",
        "  return TRAIN_DF, TEST_DF"
      ],
      "execution_count": null,
      "outputs": []
    },
    {
      "cell_type": "code",
      "metadata": {
        "id": "WuXRb5taCpZ4",
        "colab": {
          "base_uri": "https://localhost:8080/",
          "height": 493
        },
        "outputId": "be8e63fc-158d-4638-fc69-9663bf121ba4"
      },
      "source": [
        "train, test = traintestsplit(data)\n",
        "features = ['year', 'day', 'hour', 'pm2.5', 'DEWP', 'TEMP', 'PRES', 'Iws', 'Is', 'Ir']\n",
        "xtrain = train[features]\n",
        "xtest = test[features]\n",
        "ytrain = train.month\n",
        "ytest = test.month\n",
        "print(xtrain)\n",
        "print(ytrain)"
      ],
      "execution_count": null,
      "outputs": [
        {
          "output_type": "stream",
          "text": [
            "35060\n",
            "8764\n",
            "       year  day  hour  pm2.5  DEWP  TEMP    PRES     Iws  Is  Ir\n",
            "22091  2012    9    11  104.0    24  25.0  1003.0    1.79   0   0\n",
            "4799   2010   19    23   50.0    20  22.0  1005.0    1.79   0   1\n",
            "36875  2014   17    11  124.0   -10  16.0  1012.0   20.12   0   0\n",
            "26976  2013   29     0  508.0    -6  -6.0  1024.0    1.78   0   0\n",
            "6183   2010   15    15  236.0    19  30.0  1009.0   23.25   0   0\n",
            "...     ...  ...   ...    ...   ...   ...     ...     ...  ..  ..\n",
            "27146  2013    5     2   60.0    -6  -3.0  1026.0   23.69   0   0\n",
            "22940  2012   13    20   33.0    18  22.0  1009.0    0.89   0   0\n",
            "29052  2013   25    12   10.0    -9  21.0  1013.0  113.53   0   0\n",
            "3235   2010   15    19  117.0    10  24.0  1011.0   14.30   0   0\n",
            "23429  2012    3     5    6.0    10  17.0  1012.0   18.32   0   0\n",
            "\n",
            "[35060 rows x 10 columns]\n",
            "22091    7\n",
            "4799     7\n",
            "36875    3\n",
            "26976    1\n",
            "6183     9\n",
            "        ..\n",
            "27146    2\n",
            "22940    8\n",
            "29052    4\n",
            "3235     5\n",
            "23429    9\n",
            "Name: month, Length: 35060, dtype: int64\n"
          ],
          "name": "stdout"
        }
      ]
    },
    {
      "cell_type": "code",
      "metadata": {
        "id": "EugwRKSkFovc"
      },
      "source": [
        "def dt(xtrain, ytrain):\n",
        "  # Create Decision Tree classifer object\n",
        "  clf = DecisionTreeClassifier(criterion=\"entropy\")\n",
        "\n",
        "  # Train Decision Tree Classifer\n",
        "  clf = clf.fit(xtrain,ytrain)\n",
        "\n",
        "  #Predict the response for test dataset\n",
        "  y_predict = clf.predict(xtest)\n",
        "  return y_predict"
      ],
      "execution_count": null,
      "outputs": []
    },
    {
      "cell_type": "code",
      "metadata": {
        "id": "uiqXgPsKF2Hz"
      },
      "source": [
        "def findAccuracy(ytest, y_predict):\n",
        "  ptr = 0\n",
        "  neg = 0\n",
        "  total = len(ytest)\n",
        "  for i in ytest:\n",
        "    if(i != y_predict[ptr]):\n",
        "      neg+=1\n",
        "    ptr+=1\n",
        "  return (total - neg)/total"
      ],
      "execution_count": null,
      "outputs": []
    },
    {
      "cell_type": "code",
      "metadata": {
        "id": "8NDpTI2zF8pc",
        "colab": {
          "base_uri": "https://localhost:8080/",
          "height": 34
        },
        "outputId": "c1ac8e51-0209-4bbf-bc4c-4c05a75e5ec5"
      },
      "source": [
        "y_predict = dt(xtrain, ytrain)\n",
        "print(findAccuracy(ytest, y_predict)*100)"
      ],
      "execution_count": null,
      "outputs": [
        {
          "output_type": "stream",
          "text": [
            "85.06389776357828\n"
          ],
          "name": "stdout"
        }
      ]
    },
    {
      "cell_type": "markdown",
      "metadata": {
        "id": "W8hEeWR9QeYI"
      },
      "source": [
        "# b) Find Accuracy at different levels"
      ]
    },
    {
      "cell_type": "code",
      "metadata": {
        "id": "4bXCSUybQQcc"
      },
      "source": [
        "# For Ploting\n",
        "plot_x = []\n",
        "plot_y = []"
      ],
      "execution_count": null,
      "outputs": []
    },
    {
      "cell_type": "code",
      "metadata": {
        "id": "3rrj33RMOp2p"
      },
      "source": [
        "def dt2(xtrain, ytrain, depth):\n",
        "  # Create Decision Tree classifer object\n",
        "  clf = DecisionTreeClassifier(max_depth=depth)\n",
        "\n",
        "  # Train Decision Tree Classifer\n",
        "  clf = clf.fit(xtrain,ytrain)\n",
        "\n",
        "  #Predict the response for test dataset\n",
        "  y_predict = clf.predict(xtest)\n",
        "  plot_x.append(clf.tree_.max_depth)\n",
        "  return y_predict"
      ],
      "execution_count": null,
      "outputs": []
    },
    {
      "cell_type": "code",
      "metadata": {
        "id": "IIMvH603QsJV",
        "colab": {
          "base_uri": "https://localhost:8080/",
          "height": 51
        },
        "outputId": "3c7fc037-2940-4045-c23c-8a180caab18a"
      },
      "source": [
        "l = [2, 4, 8, 10, 15, 30]\n",
        "for i in l:\n",
        "  y_predict = dt2(xtrain, ytrain, i)\n",
        "  #print(\"Accuracy:\",metrics.accuracy_score(y_test, y_pred))\n",
        "  plot_y.append(findAccuracy(ytest, y_predict)*100)\n",
        "print(plot_x)\n",
        "print(plot_y)"
      ],
      "execution_count": null,
      "outputs": [
        {
          "output_type": "stream",
          "text": [
            "[2, 4, 8, 10, 15, 24]\n",
            "[27.761296211775445, 39.02327704244637, 57.462345960748515, 67.18393427658603, 81.73208580556823, 84.56184390689184]\n"
          ],
          "name": "stdout"
        }
      ]
    },
    {
      "cell_type": "code",
      "metadata": {
        "id": "JDQ8fqmjQuT2",
        "colab": {
          "base_uri": "https://localhost:8080/",
          "height": 279
        },
        "outputId": "2525547f-07bf-42ae-f328-77e0f85eb988"
      },
      "source": [
        "plt.plot(plot_x, plot_y) \n",
        "# naming the x axis \n",
        "plt.xlabel('x - axis') \n",
        "# naming the y axis \n",
        "plt.ylabel('y - axis') \n",
        "plt.show()"
      ],
      "execution_count": null,
      "outputs": [
        {
          "output_type": "display_data",
          "data": {
            "image/png": "[encoded data removed]",
            "text/plain": [
              "<Figure size 432x288 with 1 Axes>"
            ]
          },
          "metadata": {
            "tags": [],
            "needs_background": "light"
          }
        }
      ]
    },
    {
      "cell_type": "code",
      "metadata": {
        "id": "vUUx55WpSAAF"
      },
      "source": [
        "plot_train_x = []\n",
        "plot_train_y = []"
      ],
      "execution_count": null,
      "outputs": []
    },
    {
      "cell_type": "code",
      "metadata": {
        "id": "dS0KMWHrSGcV"
      },
      "source": [
        "def dt3(xtrain, ytrain, depth):\n",
        "  # Create Decision Tree classifer object\n",
        "  clf = DecisionTreeClassifier(max_depth=depth)\n",
        "\n",
        "  # Train Decision Tree Classifer\n",
        "  clf = clf.fit(xtrain,ytrain)\n",
        "\n",
        "  #Predict the response for test dataset\n",
        "  y_predict = clf.predict(xtrain)\n",
        "  plot_train_x.append(clf.tree_.max_depth)\n",
        "  return y_predict"
      ],
      "execution_count": null,
      "outputs": []
    },
    {
      "cell_type": "code",
      "metadata": {
        "id": "2k3xyJKdSI1g",
        "colab": {
          "base_uri": "https://localhost:8080/",
          "height": 34
        },
        "outputId": "65e7d8bb-b65b-44e7-8de5-78529c9bdd06"
      },
      "source": [
        "l = [2, 4, 8, 10, 15, 30]\n",
        "for i in l:\n",
        "  y_predict = dt3(xtrain, ytrain, i)\n",
        "  plot_train_y.append(findAccuracy(ytrain, y_predict)*100)"
      ],
      "execution_count": null,
      "outputs": [
        {
          "output_type": "stream",
          "text": [
            "[7 7 3 ... 4 5 9]\n"
          ],
          "name": "stdout"
        }
      ]
    },
    {
      "cell_type": "code",
      "metadata": {
        "id": "-63OZDRJSKbl",
        "colab": {
          "base_uri": "https://localhost:8080/",
          "height": 279
        },
        "outputId": "dd096464-66b8-4c7d-cfd1-bd5c18438c29"
      },
      "source": [
        "plt.plot(plot_x, plot_y, label = \"Test\")\n",
        "plt.plot(plot_train_x, plot_train_y, label = \"Train\")\n",
        "# naming the x axis \n",
        "plt.xlabel('x - axis') \n",
        "# naming the y axis \n",
        "plt.ylabel('y - axis')\n",
        "plt.legend()\n",
        "plt.show()"
      ],
      "execution_count": null,
      "outputs": [
        {
          "output_type": "display_data",
          "data": {
            "image/png": "[encoded data removed]",
            "text/plain": [
              "<Figure size 432x288 with 1 Axes>"
            ]
          },
          "metadata": {
            "tags": [],
            "needs_background": "light"
          }
        }
      ]
    },
    {
      "cell_type": "markdown",
      "metadata": {
        "id": "88Mr7qkli1-b"
      },
      "source": [
        "## c) 100 Trees depth 3"
      ]
    },
    {
      "cell_type": "code",
      "metadata": {
        "id": "Nhs114xklaVo"
      },
      "source": [
        "def dt100(xtrain, ytrain, depth, xtest):\n",
        "  # Create Decision Tree classifer object\n",
        "  clf = DecisionTreeClassifier(max_depth=depth)\n",
        "\n",
        "  # Train Decision Tree Classifer\n",
        "  clf = clf.fit(xtrain,ytrain)\n",
        "  \n",
        "  #Predict the response for test dataset\n",
        "  y_predict = clf.predict(xtest)\n",
        "  return y_predict"
      ],
      "execution_count": null,
      "outputs": []
    },
    {
      "cell_type": "code",
      "metadata": {
        "id": "3UdXGGLepEzf"
      },
      "source": [
        "def most_frequent(List): \n",
        "    return max(set(List), key = List.count)"
      ],
      "execution_count": null,
      "outputs": []
    },
    {
      "cell_type": "code",
      "metadata": {
        "id": "gGTdaXSWp3IJ"
      },
      "source": [
        "output = []\n",
        "y_predict = []"
      ],
      "execution_count": null,
      "outputs": []
    },
    {
      "cell_type": "code",
      "metadata": {
        "id": "bXE0Ez58l2qN",
        "colab": {
          "base_uri": "https://localhost:8080/",
          "height": 51
        },
        "outputId": "2e9afce8-7c58-4b89-d303-2071f322910d"
      },
      "source": [
        "for i in range(100):\n",
        "  newtrain = train.sample(frac = 0.50, random_state=i)\n",
        "  xnewtrain = newtrain[features]\n",
        "  ynewtrain = newtrain.month\n",
        "  output.append(dt100(xnewtrain, ynewtrain, 3, xtest))\n",
        "\n",
        "print(len(output))\n",
        "print(len(output[0]))\n",
        "for i in range(len(xtest)):\n",
        "  temp = []\n",
        "  for j in range(100):\n",
        "    temp.append(output[j][i])\n",
        "  y_predict.append(most_frequent(temp))\n",
        "\n",
        "print(findAccuracy(ytest, y_predict)*100)"
      ],
      "execution_count": null,
      "outputs": [
        {
          "output_type": "stream",
          "text": [
            "100\n",
            "8764\n"
          ],
          "name": "stdout"
        }
      ]
    },
    {
      "cell_type": "markdown",
      "metadata": {
        "id": "1XK5l1YZv9F-"
      },
      "source": [
        "## d) Multiple depth values"
      ]
    },
    {
      "cell_type": "code",
      "metadata": {
        "id": "rKEm3SgNwS5L"
      },
      "source": [
        "def customRandomForest(depth):\n",
        "  output = []\n",
        "  y_predict = []\n",
        "  for i in range(100):\n",
        "    newtrain = train.sample(frac = 0.50, random_state=i)\n",
        "    xnewtrain = newtrain[features]\n",
        "    ynewtrain = newtrain.month\n",
        "    output.append(dt100(xnewtrain, ynewtrain, depth, xtest))\n",
        "\n",
        "  for i in range(len(xtest)):\n",
        "    temp = []\n",
        "    for j in range(100):\n",
        "      temp.append(output[j][i])\n",
        "    y_predict.append(most_frequent(temp))\n",
        "\n",
        "  print(findAccuracy(ytest, y_predict)*100)"
      ],
      "execution_count": null,
      "outputs": []
    },
    {
      "cell_type": "code",
      "metadata": {
        "id": "wy77ngCov8DZ",
        "colab": {
          "base_uri": "https://localhost:8080/",
          "height": 102
        },
        "outputId": "2c9cf01c-699c-4091-ee3a-07c921cb1bbc"
      },
      "source": [
        "l = [4, 8, 10, 15, 20]\n",
        "for d in l:\n",
        "  customRandomForest(d)"
      ],
      "execution_count": null,
      "outputs": [
        {
          "output_type": "stream",
          "text": [
            "39.94751255134641\n",
            "64.71930625285258\n",
            "76.30077590141488\n",
            "91.60200821542675\n",
            "93.33637608397993\n"
          ],
          "name": "stdout"
        }
      ]
    },
    {
      "cell_type": "markdown",
      "metadata": {
        "id": "V-hafNSfTbb-"
      },
      "source": [
        "# Extra"
      ]
    },
    {
      "cell_type": "code",
      "metadata": {
        "id": "j3cC37bCTaYp"
      },
      "source": [
        "from sklearn.ensemble import RandomForestClassifier\n",
        "def randomforest(xtrain, ytrain):\n",
        "  # Create Decision Tree classifer object\n",
        "  clf = RandomForestClassifier(n_estimators=100)\n",
        "\n",
        "  # Train Decision Tree Classifer\n",
        "  clf = clf.fit(xtrain,ytrain)\n",
        "\n",
        "  #Predict the response for test dataset\n",
        "  y_predict = clf.predict(xtest)\n",
        "  #print(clf.tree_.max_depth)\n",
        "  return y_predict"
      ],
      "execution_count": null,
      "outputs": []
    },
    {
      "cell_type": "code",
      "metadata": {
        "id": "WH25GQiMT8eZ",
        "colab": {
          "base_uri": "https://localhost:8080/",
          "height": 34
        },
        "outputId": "a40b76ab-49fd-4efc-889b-d3b603f89be9"
      },
      "source": [
        "y_predict = randomforest(xtrain, ytrain)\n",
        "print(findAccuracy(ytest, y_predict)*100)"
      ],
      "execution_count": null,
      "outputs": [
        {
          "output_type": "stream",
          "text": [
            "95.12779552715655\n"
          ],
          "name": "stdout"
        }
      ]
    }
  ]
}