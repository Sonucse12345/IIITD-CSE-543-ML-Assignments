{
  "nbformat": 4,
  "nbformat_minor": 0,
  "metadata": {
    "colab": {
      "name": "MLassignment3_3.ipynb",
      "provenance": [],
      "collapsed_sections": []
    },
    "kernelspec": {
      "name": "python3",
      "display_name": "Python 3"
    }
  },
  "cells": [
    {
      "cell_type": "code",
      "metadata": {
        "id": "S8xBasSSmdH5",
        "colab": {
          "base_uri": "https://localhost:8080/"
        },
        "outputId": "5367f30e-6404-4743-8444-ab6345081a9a"
      },
      "source": [
        "from google.colab import drive\n",
        "drive.mount('gdrive')\n",
        "%cd /content/gdrive/'My Drive'/Dataset/Assignment3"
      ],
      "execution_count": null,
      "outputs": [
        {
          "output_type": "stream",
          "text": [
            "Mounted at gdrive\n",
            "/content/gdrive/My Drive/Dataset/Assignment3\n"
          ],
          "name": "stdout"
        }
      ]
    },
    {
      "cell_type": "code",
      "metadata": {
        "id": "T2Z-8olQmpf6"
      },
      "source": [
        "import scipy.io as sio\n",
        "import matplotlib.pyplot as plt\n",
        "import numpy as np\n",
        "import pandas as pd\n",
        "from sklearn.manifold import TSNE\n",
        "from sklearn.preprocessing import StandardScaler\n",
        "from mpl_toolkits.mplot3d import Axes3D\n",
        "from mpl_toolkits import mplot3d\n",
        "import seaborn as sn"
      ],
      "execution_count": null,
      "outputs": []
    },
    {
      "cell_type": "code",
      "metadata": {
        "id": "WdP-ncwxmwVc",
        "colab": {
          "base_uri": "https://localhost:8080/"
        },
        "outputId": "f3c36a5e-74db-4746-c3e0-31773d6038d5"
      },
      "source": [
        "test = sio.loadmat('dataset_b.mat')\n",
        "test.keys()"
      ],
      "execution_count": null,
      "outputs": [
        {
          "output_type": "execute_result",
          "data": {
            "text/plain": [
              "dict_keys(['__header__', '__version__', '__globals__', 'samples', 'labels'])"
            ]
          },
          "metadata": {
            "tags": []
          },
          "execution_count": 3
        }
      ]
    },
    {
      "cell_type": "code",
      "metadata": {
        "id": "GLXos_e9m0Pq",
        "colab": {
          "base_uri": "https://localhost:8080/"
        },
        "outputId": "381695c0-14a3-4bfa-a30c-d14ee6706045"
      },
      "source": [
        "print(type(test))\n",
        "for i in test:\n",
        "  print(i)\n",
        "header = test['__header__']\n",
        "data = test['samples']\n",
        "labels = test['labels']\n",
        "print(header)\n",
        "print(data.ndim)\n",
        "print(data.shape)\n",
        "print(labels.ndim)\n",
        "print(labels.shape)\n",
        "# for i in var2:\n",
        "#   print(i)"
      ],
      "execution_count": null,
      "outputs": [
        {
          "output_type": "stream",
          "text": [
            "<class 'dict'>\n",
            "__header__\n",
            "__version__\n",
            "__globals__\n",
            "samples\n",
            "labels\n",
            "b'MATLAB 5.0 MAT-file Platform: posix, Created on: Thu Oct 29 10:42:25 2020'\n",
            "2\n",
            "(10000, 2)\n",
            "2\n",
            "(1, 10000)\n"
          ],
          "name": "stdout"
        }
      ]
    },
    {
      "cell_type": "code",
      "metadata": {
        "id": "_Sc7F8IV0eYc",
        "colab": {
          "base_uri": "https://localhost:8080/",
          "height": 265
        },
        "outputId": "f828e7f7-6bb8-4b8a-b7b0-265658a0d87a"
      },
      "source": [
        "#to plot\n",
        "xaxis = []\n",
        "yaxis = []\n",
        "for x in data:\n",
        "  xaxis.append(x[0])\n",
        "  yaxis.append(x[1])\n",
        "\n",
        "df = pd.DataFrame(dict(x=xaxis, y=yaxis, label=labels[0]))\n",
        "groups = df.groupby('label')\n",
        "fig, ax = plt.subplots()\n",
        "ax.margins(0.05) # Optional, just adds 5% padding to the autoscaling\n",
        "for name, group in groups:\n",
        "    ax.plot(group.x, group.y, marker='o', linestyle='', ms=4, label=name)\n",
        "ax.legend()\n",
        "plt.show()"
      ],
      "execution_count": null,
      "outputs": [
        {
          "output_type": "display_data",
          "data": {
            "image/png": "[encoded data removed]",
            "text/plain": [
              "<Figure size 432x288 with 1 Axes>"
            ]
          },
          "metadata": {
            "tags": [],
            "needs_background": "light"
          }
        }
      ]
    },
    {
      "cell_type": "code",
      "metadata": {
        "id": "h8e3d0uQM_N0"
      },
      "source": [
        "def traintestsplit(df):\n",
        "  shuffle = np.random.permutation(len(df))\n",
        "  test_size = int(len(df) * 0.2)\n",
        "  set1 = shuffle[:test_size]\n",
        "  set2 = shuffle[test_size:test_size*2]\n",
        "  set3 = shuffle[test_size*2:test_size*3]\n",
        "  set4 = shuffle[test_size*3:test_size*4]\n",
        "  set5 = shuffle[test_size*4:]\n",
        "  dataset1 = df.iloc[set1]\n",
        "  dataset2 = df.iloc[set2]\n",
        "  dataset3 = df.iloc[set3]\n",
        "  dataset4 = df.iloc[set4]\n",
        "  dataset5 = df.iloc[set5]\n",
        "  return [dataset1, dataset2, dataset3, dataset4, dataset5]"
      ],
      "execution_count": null,
      "outputs": []
    },
    {
      "cell_type": "code",
      "metadata": {
        "id": "OmJlYE0k-_xg"
      },
      "source": [
        "data = traintestsplit(df)\n",
        "for i in range(5):\n",
        "  data[i] = data[i].reset_index()\n",
        "  data[i] = data[i].drop(columns=['index'])"
      ],
      "execution_count": null,
      "outputs": []
    }
  ]
}