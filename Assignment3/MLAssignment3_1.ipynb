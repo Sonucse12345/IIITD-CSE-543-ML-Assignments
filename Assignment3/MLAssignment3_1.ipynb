{
  "nbformat": 4,
  "nbformat_minor": 0,
  "metadata": {
    "colab": {
      "name": "MLAssignment3_1.ipynb",
      "provenance": [],
      "collapsed_sections": []
    },
    "kernelspec": {
      "display_name": "Python 3",
      "name": "python3"
    }
  },
  "cells": [
    {
      "cell_type": "code",
      "metadata": {
        "colab": {
          "base_uri": "https://localhost:8080/"
        },
        "id": "j4pLt1eA1Cdc",
        "outputId": "e1235f95-732a-4491-e30a-4ff200cab345"
      },
      "source": [
        "from google.colab import drive\n",
        "drive.mount('gdrive')\n",
        "%cd /content/gdrive/'My Drive'/Dataset/Assignment3"
      ],
      "execution_count": null,
      "outputs": [
        {
          "output_type": "stream",
          "text": [
            "Mounted at gdrive\n",
            "/content/gdrive/My Drive/Dataset/Assignment3\n"
          ],
          "name": "stdout"
        }
      ]
    },
    {
      "cell_type": "code",
      "metadata": {
        "id": "y7MOkOf21av1"
      },
      "source": [
        "import scipy.io as sio\n",
        "import matplotlib.pyplot as plt\n",
        "import numpy as np\n",
        "import pandas as pd\n",
        "from sklearn.manifold import TSNE\n",
        "from sklearn.preprocessing import StandardScaler\n",
        "from mpl_toolkits.mplot3d import Axes3D\n",
        "from mpl_toolkits import mplot3d\n",
        "import seaborn as sn\n",
        "import skimage.io, skimage.color\n",
        "import os"
      ],
      "execution_count": null,
      "outputs": []
    },
    {
      "cell_type": "code",
      "metadata": {
        "id": "LUo9HDY32CvU"
      },
      "source": [
        "#cifar-10-batches-py\n",
        "def unpickle(file):\n",
        "    import pickle\n",
        "    with open(file, 'rb') as fo:\n",
        "        dict = pickle.load(fo, encoding='bytes')\n",
        "    return dict"
      ],
      "execution_count": null,
      "outputs": []
    },
    {
      "cell_type": "code",
      "metadata": {
        "colab": {
          "base_uri": "https://localhost:8080/"
        },
        "id": "Tk31T8iF29cN",
        "outputId": "25d819f3-da98-41ca-c157-094a517efee9"
      },
      "source": [
        "data = []\n",
        "labels = []\n",
        "filename = []\n",
        "\n",
        "for i in range(5):\n",
        "  datafilename = \"cifar-10-batches-py/data_batch_\"+ str(i+1)\n",
        "  file1 = unpickle(datafilename)\n",
        "  d = file1[b'data']\n",
        "  l = file1[b'labels']\n",
        "  f = file1[b'filenames']\n",
        "\n",
        "  for x in d:\n",
        "    data.append(x)\n",
        "  for x in l:\n",
        "    labels.append(x)\n",
        "  for x in f:\n",
        "    filename.append(x)\n",
        "\n",
        "print(len(data), len(labels))"
      ],
      "execution_count": null,
      "outputs": [
        {
          "output_type": "stream",
          "text": [
            "50000 50000\n"
          ],
          "name": "stdout"
        }
      ]
    },
    {
      "cell_type": "code",
      "metadata": {
        "colab": {
          "base_uri": "https://localhost:8080/"
        },
        "id": "HnsdH6PX7_xi",
        "outputId": "fb4a684d-2634-4220-f1c6-3c9d72caafdb"
      },
      "source": [
        "data = np.array(data)\n",
        "labels = np.array(labels)\n",
        "print(data.shape, labels.shape)"
      ],
      "execution_count": null,
      "outputs": [
        {
          "output_type": "stream",
          "text": [
            "(50000, 3072) (50000,)\n"
          ],
          "name": "stdout"
        }
      ]
    },
    {
      "cell_type": "code",
      "metadata": {
        "colab": {
          "base_uri": "https://localhost:8080/"
        },
        "id": "y7lJgqLCTFSD",
        "outputId": "a8c50a3d-9519-4545-bd14-e9dc384922b4"
      },
      "source": [
        "print(np.unique(labels))"
      ],
      "execution_count": null,
      "outputs": [
        {
          "output_type": "stream",
          "text": [
            "[0 1 2 3 4 5 6 7 8 9]\n"
          ],
          "name": "stdout"
        }
      ]
    },
    {
      "cell_type": "markdown",
      "metadata": {
        "id": "4Avk_-J7PHv9"
      },
      "source": [
        "## PCA"
      ]
    },
    {
      "cell_type": "code",
      "metadata": {
        "id": "4CFNDXQOQqeT"
      },
      "source": [
        "from sklearn.preprocessing import StandardScaler\n",
        "from sklearn.decomposition import PCA\n",
        "# Standardizing the features\n",
        "pcadata = StandardScaler().fit_transform(data)"
      ],
      "execution_count": null,
      "outputs": []
    },
    {
      "cell_type": "code",
      "metadata": {
        "id": "XjoiWiT1uXkF"
      },
      "source": [
        "pca = PCA().fit(pcadata)"
      ],
      "execution_count": null,
      "outputs": []
    },
    {
      "cell_type": "code",
      "metadata": {
        "colab": {
          "base_uri": "https://localhost:8080/",
          "height": 283
        },
        "id": "aMRbw21iv2Sw",
        "outputId": "ad26463c-d9e4-4d08-fb1e-93e43dc1e9e5"
      },
      "source": [
        "plt.xlim([0,300])\n",
        "plt.ylim([0.8,1.0])\n",
        "plt.plot(np.cumsum(pca.explained_variance_ratio_))\n",
        "plt.xlabel('number of components')\n",
        "plt.ylabel('cumulative explained variance');"
      ],
      "execution_count": null,
      "outputs": [
        {
          "output_type": "display_data",
          "data": {
            "image/png": "[encoded data removed]",
            "text/plain": [
              "<Figure size 432x288 with 1 Axes>"
            ]
          },
          "metadata": {
            "tags": []
          }
        }
      ]
    },
    {
      "cell_type": "code",
      "metadata": {
        "colab": {
          "base_uri": "https://localhost:8080/"
        },
        "id": "UG6j-KDlPI0A",
        "outputId": "9b74c7ab-eee6-44a7-84e9-d415d4717601"
      },
      "source": [
        "pca = PCA(n_components=100)\n",
        "principalComponents = pca.fit_transform(pcadata)\n",
        "print(pca.explained_variance_)"
      ],
      "execution_count": null,
      "outputs": [
        {
          "output_type": "stream",
          "text": [
            "[827.00498385 349.30885544 220.11210827 118.77862208 110.13793689\n",
            "  90.93288468  86.3031569   66.1116588   64.68524539  46.1080737\n",
            "  40.32798952  34.71838596  34.09880672  32.31117274  29.06915324\n",
            "  25.49519534  23.655945    22.79820342  20.29413722  19.82623089\n",
            "  18.65903897  18.41318707  15.9985036   15.680724    15.5022905\n",
            "  15.00693767  14.35075136  14.11449761  12.85777841  12.43634024\n",
            "  11.6890026   10.61463135  10.26881905   9.8049063    9.68191307\n",
            "   9.10753204   8.42283092   8.36560874   8.18068537   7.99907954\n",
            "   7.79920276   7.2336676    7.21618291   6.98886299   6.67973104\n",
            "   6.55997643   6.14084335   6.03862545   5.88523672   5.76040412\n",
            "   5.64310264   5.53230204   5.37782905   5.34078715   5.10928458\n",
            "   5.05411492   5.03299343   4.90776377   4.89152505   4.78635236\n",
            "   4.77511793   4.58985996   4.50453488   4.32119958   4.27000226\n",
            "   4.22760042   4.13372132   3.93304291   3.88109682   3.84750833\n",
            "   3.80065619   3.64770353   3.61689798   3.57959553   3.54765543\n",
            "   3.46711028   3.37240049   3.31592614   3.25355768   3.22836483\n",
            "   3.20484095   3.12880069   3.10606388   3.06913701   3.01302514\n",
            "   2.98887317   2.96375968   2.85875302   2.85525396   2.80430141\n",
            "   2.73525023   2.71781903   2.67241084   2.57140404   2.55125119\n",
            "   2.51181906   2.42561411   2.36046849   2.34759221   2.3025729 ]\n"
          ],
          "name": "stdout"
        }
      ]
    },
    {
      "cell_type": "code",
      "metadata": {
        "id": "tx_AzhDQRv63"
      },
      "source": [
        "dflabels = pd.DataFrame({'target' : labels})\n",
        "principalDf = pd.DataFrame(principalComponents)"
      ],
      "execution_count": null,
      "outputs": []
    },
    {
      "cell_type": "code",
      "metadata": {
        "id": "fOo6zUm3RV19"
      },
      "source": [
        "# Merger will be done after HOG and Color Historgram\n",
        "#finalDf = pd.concat([principalDf, dflabels], axis = 1)"
      ],
      "execution_count": null,
      "outputs": []
    },
    {
      "cell_type": "code",
      "metadata": {
        "id": "dWnHLZ3oRGBm"
      },
      "source": [
        "# fig = plt.figure(figsize = (8,8))\n",
        "# ax = fig.add_subplot(1,1,1) \n",
        "# ax.set_xlabel('Principal Component 1', fontsize = 15)\n",
        "# ax.set_ylabel('Principal Component 2', fontsize = 15)\n",
        "# ax.set_title('2 component PCA', fontsize = 20)\n",
        "# targets = [0, 1, 2, 3, 4, 5, 6, 7, 8, 9]\n",
        "# colors = ['r', 'g', 'b', 'black', 'yellow', 'pink', 'orange']\n",
        "# for target, color in zip(targets,colors):\n",
        "#     indicesToKeep = finalDf['target'] == target\n",
        "#     ax.scatter(finalDf.loc[indicesToKeep, 'principal component 1']\n",
        "#                , finalDf.loc[indicesToKeep, 'principal component 2']\n",
        "#                , c = color\n",
        "#                , s = 20)\n",
        "# ax.legend(targets)\n",
        "# ax.grid()"
      ],
      "execution_count": null,
      "outputs": []
    },
    {
      "cell_type": "markdown",
      "metadata": {
        "id": "QLSuoj2T1535"
      },
      "source": [
        "### HOG"
      ]
    },
    {
      "cell_type": "code",
      "metadata": {
        "id": "uW00soqq2z7r"
      },
      "source": [
        "import skimage.io, skimage.color\n",
        "import numpy\n",
        "import matplotlib.pyplot\n",
        "\n",
        "def calculate_gradient(img, template):\n",
        "    ts = template.size #Number of elements in the template (3).\n",
        "    #New padded array to hold the resultant gradient image.\n",
        "    new_img = numpy.zeros((img.shape[0]+ts-1, \n",
        "                           img.shape[1]+ts-1))\n",
        "    new_img[numpy.uint16((ts-1)/2.0):img.shape[0]+numpy.uint16((ts-1)/2.0), \n",
        "            numpy.uint16((ts-1)/2.0):img.shape[1]+numpy.uint16((ts-1)/2.0)] = img\n",
        "    result = numpy.zeros((new_img.shape))\n",
        "    \n",
        "    for r in numpy.uint16(numpy.arange((ts-1)/2.0, img.shape[0]+(ts-1)/2.0)):\n",
        "        for c in numpy.uint16(numpy.arange((ts-1)/2.0, \n",
        "                              img.shape[1]+(ts-1)/2.0)):\n",
        "            curr_region = new_img[r-numpy.uint16((ts-1)/2.0):r+numpy.uint16((ts-1)/2.0)+1, \n",
        "                                  c-numpy.uint16((ts-1)/2.0):c+numpy.uint16((ts-1)/2.0)+1]\n",
        "            curr_result = curr_region * template\n",
        "            score = numpy.sum(curr_result)\n",
        "            result[r, c] = score\n",
        "    #Result of the same size as the original image after removing the padding.\n",
        "    result_img = result[numpy.uint16((ts-1)/2.0):result.shape[0]-numpy.uint16((ts-1)/2.0), \n",
        "                        numpy.uint16((ts-1)/2.0):result.shape[1]-numpy.uint16((ts-1)/2.0)]\n",
        "    return result_img\n",
        "\n",
        "def gradient_magnitude(horizontal_gradient, vertical_gradient):\n",
        "    horizontal_gradient_square = numpy.power(horizontal_gradient, 2)\n",
        "    vertical_gradient_square = numpy.power(vertical_gradient, 2)\n",
        "    sum_squares = horizontal_gradient_square + vertical_gradient_square\n",
        "    grad_magnitude = numpy.sqrt(sum_squares)\n",
        "    return grad_magnitude\n",
        "\n",
        "def gradient_direction(horizontal_gradient, vertical_gradient):\n",
        "    grad_direction = numpy.arctan(vertical_gradient/(horizontal_gradient+0.00000001))\n",
        "    grad_direction = numpy.rad2deg(grad_direction)\n",
        "    grad_direction = grad_direction%180\n",
        "    return grad_direction\n",
        "\n",
        "def HOG_cell_histogram(cell_direction, cell_magnitude, hist_bins):\n",
        "    HOG_cell_hist = numpy.zeros(shape=(hist_bins.size))\n",
        "    cell_size = cell_direction.shape[0]\n",
        "    \n",
        "    for row_idx in range(cell_size):\n",
        "        for col_idx in range(cell_size):\n",
        "            curr_direction = cell_direction[row_idx, col_idx]\n",
        "            curr_magnitude = cell_magnitude[row_idx, col_idx]\n",
        "    \n",
        "            diff = numpy.abs(curr_direction - hist_bins)\n",
        "            \n",
        "            if curr_direction < hist_bins[0]:\n",
        "                first_bin_idx = 0\n",
        "                second_bin_idx = hist_bins.size-1\n",
        "            elif curr_direction > hist_bins[-1]:\n",
        "                first_bin_idx = hist_bins.size-1\n",
        "                second_bin_idx = 0\n",
        "            else:\n",
        "                first_bin_idx = numpy.where(diff == numpy.min(diff))[0][0]\n",
        "                temp = hist_bins[[(first_bin_idx-1)%hist_bins.size, (first_bin_idx+1)%hist_bins.size]]\n",
        "                temp2 = numpy.abs(curr_direction - temp)\n",
        "                res = numpy.where(temp2 == numpy.min(temp2))[0][0]\n",
        "                if res == 0 and first_bin_idx != 0:\n",
        "                    second_bin_idx = first_bin_idx-1\n",
        "                else:\n",
        "                    second_bin_idx = first_bin_idx+1\n",
        "            \n",
        "            first_bin_value = hist_bins[first_bin_idx]\n",
        "            second_bin_value = hist_bins[second_bin_idx]\n",
        "            HOG_cell_hist[first_bin_idx] = HOG_cell_hist[first_bin_idx] + (numpy.abs(curr_direction - first_bin_value)/(180.0/hist_bins.size)) * curr_magnitude\n",
        "            HOG_cell_hist[second_bin_idx] = HOG_cell_hist[second_bin_idx] + (numpy.abs(curr_direction - second_bin_value)/(180.0/hist_bins.size)) * curr_magnitude\n",
        "    return HOG_cell_hist\n"
      ],
      "execution_count": null,
      "outputs": []
    },
    {
      "cell_type": "code",
      "metadata": {
        "id": "J0dTQm8a3avw"
      },
      "source": [
        "def onedtoimg(arr):\n",
        "  arr = np.reshape(arr, (3, 1024))\n",
        "  arr2 = np.add(arr[2], np.add(arr[0], arr[1]))\n",
        "  img = np.reshape(arr2, (32, 32))\n",
        "  img = np.divide(img, 255*3)\n",
        "  return img"
      ],
      "execution_count": null,
      "outputs": []
    },
    {
      "cell_type": "code",
      "metadata": {
        "id": "oAUf0vSFYRU2"
      },
      "source": [
        "#%ls\n",
        "#%rm finalcog.csv dfhog.csv finalDf.csv"
      ],
      "execution_count": null,
      "outputs": []
    },
    {
      "cell_type": "code",
      "metadata": {
        "id": "4pIgWw7g168-"
      },
      "source": [
        "if not os.path.isfile(\"dfhog.csv\"): \n",
        "  hogfeature = []\n",
        "  for i in range(len(data)):\n",
        "    img = onedtoimg(data[0])\n",
        "    img = skimage.color.rgb2gray(img)\n",
        "\n",
        "    horizontal_mask = numpy.array([-1, 0, 1])\n",
        "    vertical_mask = numpy.array([[-1],[0],[1]])\n",
        "\n",
        "    horizontal_gradient = calculate_gradient(img, horizontal_mask)\n",
        "    vertical_gradient = calculate_gradient(img, vertical_mask)\n",
        "\n",
        "    grad_magnitude = gradient_magnitude(horizontal_gradient, vertical_gradient)\n",
        "    grad_direction = gradient_direction(horizontal_gradient, vertical_gradient)\n",
        "\n",
        "    grad_direction = grad_direction % 180\n",
        "    hist_bins = numpy.array([10,20,30,40,50,60,70,80,90,100,110,120,130,140,150,160,170,180,190,200])\n",
        "\n",
        "    # Histogram of the first cell in the first block.\n",
        "    cell_direction = grad_direction[:19, :19]\n",
        "    cell_magnitude = grad_magnitude[:19, :19]\n",
        "    hogfeature.append(HOG_cell_histogram(cell_direction, cell_magnitude, hist_bins))\n",
        "    # matplotlib.pyplot.bar(x=numpy.arange(9), height=HOG_cell_hist, align=\"center\", width=0.8)\n",
        "    # matplotlib.pyplot.show()\n",
        "  dfhog = pd.DataFrame(data = hogfeature)\n",
        "  dfhog.to_csv('dfhog.csv', index=False)\n",
        "else:\n",
        "  dfhog = pd.read_csv('dfhog.csv')"
      ],
      "execution_count": null,
      "outputs": []
    },
    {
      "cell_type": "markdown",
      "metadata": {
        "id": "sdusVWXWJ5EF"
      },
      "source": [
        "### Color histogram"
      ]
    },
    {
      "cell_type": "code",
      "metadata": {
        "id": "_4a-cFXHJtwY"
      },
      "source": [
        "if not os.path.isfile(\"finalcog.csv\"): \n",
        "  finalcog = []\n",
        "  hist_bin = numpy.array([0,10,20,30,40,50,60,70,80,90,100,110,120,130,140,150,160,170,180,190,200])\n",
        "  for i in range(len(data)):\n",
        "  \n",
        "    r = []\n",
        "    g = []\n",
        "    b = []\n",
        "    hr = []\n",
        "    hg = []\n",
        "    hb = []\n",
        "    # INIT rgb                    [r, r]\n",
        "        #                         [r, r]\n",
        "    for j in range(256):\n",
        "      r.append(0)\n",
        "      g.append(0)\n",
        "      b.append(0)\n",
        "    # add rgb\n",
        "    for j in range(1024):              # [ 0, 1.-251,252,253,254,255] INDEX\n",
        "      r[data[i][j]] += 1               # [ 0.... 0,  0 , 0 , 0 , 4] r\n",
        "      g[data[i][j+1024]] += 1          # [ 4.... 0,  0 , 0 , 0 , 0] g\n",
        "      b[data[i][j+2048]] += 1          # [ 4.... 0,  0 , 0 , 0 , 0] b\n",
        "\n",
        "    # r value\n",
        "    displace = 0\n",
        "    for i in range(len(hist_bin) - 1):\n",
        "      start = hist_bin[i]\n",
        "      end = hist_bin[i+1]\n",
        "      sum = 0\n",
        "\n",
        "      for i in range(end - start):\n",
        "        sum = sum + r[i+ displace]\n",
        "      hr.append(sum)\n",
        "      displace += end - start\n",
        "\n",
        "    # g value\n",
        "    displace = 0\n",
        "    for i in range(len(hist_bin) - 1):\n",
        "      start = hist_bin[i]\n",
        "      end = hist_bin[i+1]\n",
        "      sum = 0\n",
        "\n",
        "      for i in range(end - start):\n",
        "        sum = sum + g[i+ displace]\n",
        "      hg.append(sum)\n",
        "      displace += end - start\n",
        "\n",
        "    # B value\n",
        "    displace = 0\n",
        "    for i in range(len(hist_bin) - 1):\n",
        "      start = hist_bin[i]\n",
        "      end = hist_bin[i+1]\n",
        "      sum = 0\n",
        "\n",
        "      for i in range(end - start):\n",
        "        sum = sum + b[i+ displace]\n",
        "      hb.append(sum)\n",
        "      displace += end - start\n",
        "\n",
        "    res = []\n",
        "    for i in range(20):\n",
        "      res.append(hr[i] + hg[i] + hb[i])\n",
        "    #print(res)\n",
        "\n",
        "    finalcog.append(res)\n",
        "  finalcogdf = pd.DataFrame(data = finalcog)\n",
        "  finalcogdf.to_csv('finalcog.csv', index=False)\n",
        "else:\n",
        "  finalcogdf = pd.read_csv('finalcog.csv')\n",
        "  finalcog = finalcogdf.to_numpy()"
      ],
      "execution_count": null,
      "outputs": []
    },
    {
      "cell_type": "code",
      "metadata": {
        "colab": {
          "base_uri": "https://localhost:8080/"
        },
        "id": "Dc6f5dq3or1e",
        "outputId": "f32e6911-e6e1-468e-cc9c-7c577e3125f9"
      },
      "source": [
        "print(dfhog)\n",
        "print(finalcogdf)"
      ],
      "execution_count": null,
      "outputs": [
        {
          "output_type": "stream",
          "text": [
            "              0         1         2  ...        17   18          19\n",
            "0      8.105717  9.428407  9.018274  ...  2.552681  0.0  105.397727\n",
            "1      8.105717  9.428407  9.018274  ...  2.552681  0.0  105.397727\n",
            "2      8.105717  9.428407  9.018274  ...  2.552681  0.0  105.397727\n",
            "3      8.105717  9.428407  9.018274  ...  2.552681  0.0  105.397727\n",
            "4      8.105717  9.428407  9.018274  ...  2.552681  0.0  105.397727\n",
            "...         ...       ...       ...  ...       ...  ...         ...\n",
            "49995  8.105717  9.428407  9.018274  ...  2.552681  0.0  105.397727\n",
            "49996  8.105717  9.428407  9.018274  ...  2.552681  0.0  105.397727\n",
            "49997  8.105717  9.428407  9.018274  ...  2.552681  0.0  105.397727\n",
            "49998  8.105717  9.428407  9.018274  ...  2.552681  0.0  105.397727\n",
            "49999  8.105717  9.428407  9.018274  ...  2.552681  0.0  105.397727\n",
            "\n",
            "[50000 rows x 20 columns]\n",
            "         0    1    2    3    4    5    6  ...   13   14   15   16   17   18   19\n",
            "0       21   48   79  160  192  245  177  ...  243  183  112   81   55   54   53\n",
            "1       11   38   49   71   90  124  160  ...  174  166  148  172  120  131  100\n",
            "2        0    0   45  123  187  202  247  ...   56   50   28   33   29   20   23\n",
            "3        4   40   68  162  278  369  346  ...   59   34   32   13   22   24   23\n",
            "4      142  108  102  112  110  138  172  ...   92   75   65  105  126   99   68\n",
            "...    ...  ...  ...  ...  ...  ...  ...  ...  ...  ...  ...  ...  ...  ...  ...\n",
            "49995    0    0    1   26  144  240  179  ...   25   51  119  244  293  369  269\n",
            "49996    0   37  249   48   55   82  170  ...  103   46   72   89  151  137   70\n",
            "49997   36  165  188  253  299  250  204  ...   55   55   54   57   73   84   94\n",
            "49998   46   21   14   22   30   31   33  ...  163  168  184  183  239  244  169\n",
            "49999    8   29   63   64  104   89  114  ...  181  159  133  135  167  107   52\n",
            "\n",
            "[50000 rows x 20 columns]\n"
          ],
          "name": "stdout"
        }
      ]
    },
    {
      "cell_type": "code",
      "metadata": {
        "id": "NStOjn5vXOCm"
      },
      "source": [
        "finalcog = finalcogdf.to_numpy()\n",
        "finalhog = dfhog.to_numpy()\n",
        "\n",
        "for i in range(len(finalcog)):\n",
        "  for j in range(len(finalcog[0])):\n",
        "    finalcog[i][j] += finalhog[i][j]\n",
        "dfhogcog = pd.DataFrame(data = finalcog)"
      ],
      "execution_count": null,
      "outputs": []
    },
    {
      "cell_type": "code",
      "metadata": {
        "id": "VY6Z9CJLYuHz"
      },
      "source": [
        "finalDf = pd.concat([principalDf, dfhog, finalcogdf], axis = 1)"
      ],
      "execution_count": null,
      "outputs": []
    },
    {
      "cell_type": "code",
      "metadata": {
        "colab": {
          "base_uri": "https://localhost:8080/"
        },
        "id": "FULSuXJhYdKM",
        "outputId": "5a368615-439c-4bc6-82cc-dc85f1b0c135"
      },
      "source": [
        "print(finalDf)"
      ],
      "execution_count": null,
      "outputs": [
        {
          "output_type": "stream",
          "text": [
            "               0          1          2          3  ...   16   17   18   19\n",
            "0     -22.055738  12.284904   8.961351  -2.201911  ...   84   57   54  158\n",
            "1       4.013549  -5.049156  25.395892   6.979457  ...  175  122  131  205\n",
            "2      21.112303 -47.687197 -12.573551  11.007741  ...   36   31   20  128\n",
            "3     -39.231269   2.334025   5.719679  -1.312523  ...   16   24   24  128\n",
            "4     -15.571606 -16.687922   5.620042  11.580972  ...  108  128   99  173\n",
            "...          ...        ...        ...        ...  ...  ...  ...  ...  ...\n",
            "49995  25.147650 -26.486161  37.585963   1.325465  ...  247  295  369  374\n",
            "49996  26.226940   5.532838 -28.546700 -14.302536  ...   92  153  137  175\n",
            "49997  -5.790113 -44.924414  -4.247257   3.065315  ...   60   75   84  199\n",
            "49998  42.391786 -16.551181  22.266030   4.706101  ...  186  241  244  274\n",
            "49999  13.075387  -3.192219 -17.317491  -0.777152  ...  138  169  107  157\n",
            "\n",
            "[50000 rows x 140 columns]\n"
          ],
          "name": "stdout"
        }
      ]
    },
    {
      "cell_type": "markdown",
      "metadata": {
        "id": "TRQY6dt2PF6w"
      },
      "source": [
        "## TSNE"
      ]
    },
    {
      "cell_type": "code",
      "metadata": {
        "colab": {
          "base_uri": "https://localhost:8080/"
        },
        "id": "FU4q1T3A5BxF",
        "outputId": "13d1d7cb-613c-43b6-e90e-15b56ce31c25"
      },
      "source": [
        "#data2df = pd.concat([principalDf, dfhog], axis = 1)\n",
        "data2 = finalDf.to_numpy()\n",
        "df = data2[0:50000,:]\n",
        "standardized_data = StandardScaler().fit_transform(df)\n",
        "standardized_data.shape"
      ],
      "execution_count": null,
      "outputs": [
        {
          "output_type": "execute_result",
          "data": {
            "text/plain": [
              "(50000, 140)"
            ]
          },
          "metadata": {
            "tags": []
          },
          "execution_count": 20
        }
      ]
    },
    {
      "cell_type": "code",
      "metadata": {
        "colab": {
          "base_uri": "https://localhost:8080/"
        },
        "id": "Ws8ZM3X87nqe",
        "outputId": "7937ebc9-8221-484b-9224-35bceb4acb53"
      },
      "source": [
        "labels_1000 = labels[0:50000]\n",
        "print(labels_1000.shape)\n",
        "# labels_1000 = np.rot90(labels_1000)\n",
        "# print(labels_1000.shape)\n",
        "model = TSNE(n_components=2, random_state=0)\n",
        "tsne_data = model.fit_transform(standardized_data)"
      ],
      "execution_count": null,
      "outputs": [
        {
          "output_type": "stream",
          "text": [
            "(50000,)\n"
          ],
          "name": "stdout"
        }
      ]
    },
    {
      "cell_type": "code",
      "metadata": {
        "colab": {
          "base_uri": "https://localhost:8080/"
        },
        "id": "glNElNH37squ",
        "outputId": "d0b5b0b6-c9f7-4e61-b92d-4004ea2af4c2"
      },
      "source": [
        "# creating a new data frame which help us in ploting the result data\n",
        "tsne_data = np.vstack((tsne_data.T, labels_1000)).T\n",
        "print(tsne_data)"
      ],
      "execution_count": null,
      "outputs": [
        {
          "output_type": "stream",
          "text": [
            "[[-11.13367367   2.93290043   6.        ]\n",
            " [ -1.82534301 -10.92248058   9.        ]\n",
            " [ 14.60501957 -14.23086929   9.        ]\n",
            " ...\n",
            " [  4.38260889 -14.86326313   9.        ]\n",
            " [ 25.11963654   4.38183641   1.        ]\n",
            " [ -0.40631199  16.76461411   1.        ]]\n"
          ],
          "name": "stdout"
        }
      ]
    },
    {
      "cell_type": "code",
      "metadata": {
        "colab": {
          "base_uri": "https://localhost:8080/",
          "height": 495
        },
        "id": "cQy-PhXR7z6n",
        "outputId": "f29f8463-c5f3-4a17-bcda-8852a28d09bb"
      },
      "source": [
        "tsne_df = pd.DataFrame(data=tsne_data, columns=(\"Dim_1\", \"Dim_2\", \"label\"))\n",
        "sn.FacetGrid(tsne_df, hue=\"label\", size=6).map(plt.scatter, 'Dim_1', 'Dim_2').add_legend()\n",
        "plt.show()"
      ],
      "execution_count": null,
      "outputs": [
        {
          "output_type": "stream",
          "text": [
            "/usr/local/lib/python3.6/dist-packages/seaborn/axisgrid.py:316: UserWarning: The `size` parameter has been renamed to `height`; please update your code.\n",
            "  warnings.warn(msg, UserWarning)\n"
          ],
          "name": "stderr"
        },
        {
          "output_type": "display_data",
          "data": {
            "image/png": "[encoded data removed]",
            "text/plain": [
              "<Figure size 483.875x432 with 1 Axes>"
            ]
          },
          "metadata": {
            "tags": []
          }
        }
      ]
    },
    {
      "cell_type": "markdown",
      "metadata": {
        "id": "FoFT-a5LDxBs"
      },
      "source": [
        "## Split"
      ]
    },
    {
      "cell_type": "code",
      "metadata": {
        "id": "DaOQ_m6LD9HX"
      },
      "source": [
        "def traintestsplit(df):\n",
        "  shuffle = np.random.permutation(len(df))\n",
        "  test_size = int(len(df) * 0.2)\n",
        "  test_aux = shuffle[:test_size]\n",
        "  train_aux = shuffle[test_size:]\n",
        "  TRAIN_DF =df.iloc[train_aux]\n",
        "  TEST_DF = df.iloc[test_aux]\n",
        "#   print(len(TRAIN_DF))\n",
        "#   print(len(TEST_DF))\n",
        "  return TRAIN_DF, TEST_DF"
      ],
      "execution_count": null,
      "outputs": []
    },
    {
      "cell_type": "code",
      "metadata": {
        "id": "FPyTlg2_DyVD"
      },
      "source": [
        "def split(train, test):\n",
        "  ytrain = train['label'].copy()\n",
        "  xtrain = train.drop(columns=['label'])\n",
        "  ytest = test['label'].copy()\n",
        "  xtest = test.drop(columns=['label'])\n",
        "\n",
        "  return xtrain, ytrain, xtest, ytest"
      ],
      "execution_count": null,
      "outputs": []
    },
    {
      "cell_type": "code",
      "metadata": {
        "id": "c8ovP30BDzRG"
      },
      "source": [
        "data_5000 = data2[0:50000,:]\n",
        "labels_5000 = labels[0:50000]\n",
        "dflabels = pd.DataFrame(data = labels_5000, columns= ['label'])\n",
        "dfdata = pd.DataFrame(data = data_5000)\n",
        "df = pd.concat([dfdata, dflabels], axis = 1)\n",
        "#print(df)\n",
        "train, test = traintestsplit(df)\n",
        "xtrain, ytrain, xtest, ytest = split(train, test)"
      ],
      "execution_count": null,
      "outputs": []
    },
    {
      "cell_type": "markdown",
      "metadata": {
        "id": "8K07gX9c-PON"
      },
      "source": [
        "## GridsearchCV"
      ]
    },
    {
      "cell_type": "code",
      "metadata": {
        "id": "XJfe17jbgFcL"
      },
      "source": [
        "from sklearn.model_selection import GridSearchCV \n",
        "from sklearn import svm"
      ],
      "execution_count": null,
      "outputs": []
    },
    {
      "cell_type": "code",
      "metadata": {
        "id": "jiLT8EGT-OZU"
      },
      "source": [
        "# from sklearn.model_selection import GridSearchCV \n",
        "# from sklearn import svm\n",
        "# # defining parameter range \n",
        "# param_grid = {'C': [0.1, 1, 10, 100, 1000],  \n",
        "#               'gamma': [1, 0.1, 0.01, 0.001, 0.0001], \n",
        "#               'kernel': ['rbf']} \n",
        "  \n",
        "# grid = GridSearchCV(svm.SVC(), param_grid, refit = True, verbose = 3, cv = 5, n_jobs= 2) \n",
        "  \n",
        "# # fitting the model for grid search \n",
        "# # print(xtr na\n",
        "\n",
        "# grid.fit(xtrain, ytrain)"
      ],
      "execution_count": null,
      "outputs": []
    },
    {
      "cell_type": "markdown",
      "metadata": {
        "id": "bptj1BPNLPi5"
      },
      "source": [
        "## Results"
      ]
    },
    {
      "cell_type": "markdown",
      "metadata": {
        "id": "g9kFRGeDLH__"
      },
      "source": [
        "![image.png](data:image/png;base64,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)"
      ]
    },
    {
      "cell_type": "code",
      "metadata": {
        "id": "YyLRAiUo-Ts0"
      },
      "source": [
        "# # print best parameter after tuning \n",
        "# print(grid.best_params_)\n",
        "# # print how our model looks after hyper-parameter tuning \n",
        "# print(grid.best_estimator_)"
      ],
      "execution_count": null,
      "outputs": []
    },
    {
      "cell_type": "code",
      "metadata": {
        "id": "_bXAgfYbDndy"
      },
      "source": [
        "# grid_predictions = grid.predict(xtest)\n",
        "# from sklearn.metrics import classification_report, confusion_matrix\n",
        "# # print classification report\n",
        "# print(classification_report(ytest, grid_predictions))"
      ],
      "execution_count": null,
      "outputs": []
    },
    {
      "cell_type": "code",
      "metadata": {
        "colab": {
          "background_save": true
        },
        "id": "-8Yluc2wIPQa",
        "outputId": "bcc12b22-189a-4d33-c405-bae44e90abea"
      },
      "source": [
        "import pickle\n",
        "filename = \"model1.sav\"\n",
        "# if not os.path.isfile(\"model1.sav\"):\n",
        "clf = svm.SVC(C = 10, gamma = 0.0001, kernel = 'rbf')\n",
        "clf.fit(xtrain, ytrain)\n",
        "clf.support_vectors_\n",
        "\n",
        "# pickle.dump(open(filename, 'wb'))\n",
        "# else:\n",
        "#   clf = pickle.load(open(filename, 'rb'))"
      ],
      "execution_count": null,
      "outputs": [
        {
          "output_type": "execute_result",
          "data": {
            "text/plain": [
              "array([[  6.7731066 ,   5.47338642,   5.74456634, ...,  22.        ,\n",
              "        733.        , 257.        ],\n",
              "       [ -7.6940801 , -14.36013285,  11.03069275, ..., 164.        ,\n",
              "        120.        , 142.        ],\n",
              "       [ 81.96966906,  30.38635527,  -4.09129542, ...,  52.        ,\n",
              "         50.        , 173.        ],\n",
              "       ...,\n",
              "       [ 36.21138973, -19.22567833, -15.42156231, ...,  58.        ,\n",
              "         31.        , 141.        ],\n",
              "       [ 16.8542626 , -27.87081196, -11.32932638, ..., 117.        ,\n",
              "         50.        , 160.        ],\n",
              "       [ 17.47986183, -35.24732721,  15.30321017, ..., 122.        ,\n",
              "        115.        , 244.        ]])"
            ]
          },
          "metadata": {
            "tags": []
          },
          "execution_count": 0
        }
      ]
    },
    {
      "cell_type": "code",
      "metadata": {
        "id": "zHnWpSMBhDRV"
      },
      "source": [
        "clf.score(xtest, ytest)"
      ],
      "execution_count": null,
      "outputs": []
    },
    {
      "cell_type": "code",
      "metadata": {
        "id": "iuUAnfpU1xa_"
      },
      "source": [
        "clf.score(xtrain, ytrain)"
      ],
      "execution_count": null,
      "outputs": []
    },
    {
      "cell_type": "code",
      "metadata": {
        "id": "Ep_1dpEoPI83"
      },
      "source": [
        "x_train = clf.support_vectors_\n",
        "y_train = clf.support_"
      ],
      "execution_count": null,
      "outputs": []
    },
    {
      "cell_type": "code",
      "metadata": {
        "id": "KC0mftqqknN7"
      },
      "source": [
        "clfnew = svm.SVC(C = 10, gamma = 0.0001, kernel = 'rbf')\n",
        "clfnew.fit(x_train, y_train)"
      ],
      "execution_count": null,
      "outputs": []
    },
    {
      "cell_type": "code",
      "metadata": {
        "id": "I_s9qUPNksAB"
      },
      "source": [
        "clfnew.score(x_train, y_train)"
      ],
      "execution_count": null,
      "outputs": []
    },
    {
      "cell_type": "code",
      "metadata": {
        "id": "t8VEHxK4FDe1"
      },
      "source": [
        "clfnew.score(xtest, ytest)"
      ],
      "execution_count": null,
      "outputs": []
    },
    {
      "cell_type": "code",
      "metadata": {
        "id": "jwEeJHdq159G"
      },
      "source": [
        "# support_vectors_indices = best_model.support_\n",
        "\n",
        "# x_train_support_vectors = []\n",
        "# y_train_support_vectors = []\n",
        "\n",
        "# for i in range(len(support_vectors_indices)):\n",
        "#   x_train_support_vectors.append(new_train_data[support_vectors_indices[i]])\n",
        "#   y_train_support_vectors.append(train_data_labels[support_vectors_indices[i]])\n",
        "\n",
        "# x_train_support_vectors = np.array(x_train_support_vectors)\n",
        "# y_train_support_vectors = np.array(y_train_support_vectors)\n",
        "\n",
        "# clf = svm.SVC(C=10)\n",
        "# clf.fit(x_train_support_vectors, y_train_support_vectors)\n",
        "# train_pred = clf.predict(x_train_support_vectors)\n",
        "# test_pred = clf.predict(new_test_data)\n",
        "# train_acc = accuracy_score(y_train_support_vectors,train_pred)\n",
        "# test_acc = accuracy_score(test_data_labels,test_pred)\n",
        "# print(\"train accuracy\", train_acc)\n",
        "# print(\"test accuracy\", test_acc)"
      ],
      "execution_count": null,
      "outputs": []
    }
  ]
}