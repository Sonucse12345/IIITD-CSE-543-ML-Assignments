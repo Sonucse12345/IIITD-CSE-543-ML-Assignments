{
  "nbformat": 4,
  "nbformat_minor": 0,
  "metadata": {
    "colab": {
      "name": "ML Assignment6_1.ipynb",
      "provenance": [],
      "collapsed_sections": []
    },
    "kernelspec": {
      "name": "python3",
      "display_name": "Python 3"
    },
    "accelerator": "GPU"
  },
  "cells": [
    {
      "cell_type": "code",
      "metadata": {
        "id": "SKjb2yAbPqs7"
      },
      "source": [
        "# from google.colab import drive\n",
        "# drive.mount('gdrive')\n",
        "# %cd /content/gdrive/'My Drive'/Dataset/Assignment6"
      ],
      "execution_count": null,
      "outputs": []
    },
    {
      "cell_type": "code",
      "metadata": {
        "id": "O1bpaD16QutG"
      },
      "source": [
        "###IMPORTS\n",
        "import os\n",
        "import numpy as np\n",
        "import pandas as pd\n",
        "from sklearn.model_selection import train_test_split\n",
        "import keras\n",
        "from keras.datasets import cifar10\n",
        "from keras.preprocessing.image import ImageDataGenerator\n",
        "from keras.models import Sequential, load_model\n",
        "from keras.layers import Dense, Dropout, Activation, Flatten\n",
        "from keras.layers import Conv2D, MaxPooling2D, BatchNormalization, ZeroPadding2D\n",
        "import seaborn as sns\n",
        "import matplotlib\n",
        "import matplotlib.pyplot as plt\n",
        "\n",
        "from sklearn.metrics import confusion_matrix, classification_report\n",
        "import itertools\n",
        "from keras.callbacks import ModelCheckpoint"
      ],
      "execution_count": null,
      "outputs": []
    },
    {
      "cell_type": "code",
      "metadata": {
        "id": "Ey2CDUg7QqrI"
      },
      "source": [
        "# #cifar-10-batches-py\n",
        "# def unpickle(file):\n",
        "#     import pickle\n",
        "#     with open(file, 'rb') as fo:\n",
        "#         dict = pickle.load(fo, encoding='bytes')\n",
        "#     return dict"
      ],
      "execution_count": null,
      "outputs": []
    },
    {
      "cell_type": "code",
      "metadata": {
        "id": "27nk_J0JQ1OO"
      },
      "source": [
        "# data = []\n",
        "# labels = []\n",
        "# filename = []\n",
        "\n",
        "# for i in range(6):\n",
        "#   datafilename = \"cifar-10-batches-py/data_batch_\"+ str(i+1)\n",
        "#   file1 = unpickle(datafilename)\n",
        "#   d = file1[b'data']\n",
        "#   l = file1[b'labels']\n",
        "#   f = file1[b'filenames']\n",
        "\n",
        "#   for x in d:\n",
        "#     data.append(x)\n",
        "#   for x in l:\n",
        "#     labels.append(x)\n",
        "#   for x in f:\n",
        "#     filename.append(x)\n",
        "\n",
        "# print(len(data), len(labels))"
      ],
      "execution_count": null,
      "outputs": []
    },
    {
      "cell_type": "code",
      "metadata": {
        "id": "JCkhu0flQ5qE"
      },
      "source": [
        "# data = np.array(data)\n",
        "# labels = np.array(labels)\n",
        "# print(data.shape, labels.shape)"
      ],
      "execution_count": null,
      "outputs": []
    },
    {
      "cell_type": "code",
      "metadata": {
        "id": "e192gKJNRCB2"
      },
      "source": [
        "# print(np.unique(labels))"
      ],
      "execution_count": null,
      "outputs": []
    },
    {
      "cell_type": "code",
      "metadata": {
        "id": "UBxIN3hWRHvk"
      },
      "source": [
        "# xtrain, xtest, ytrain, ytest = train_test_split(data, labels, test_size=0.3)"
      ],
      "execution_count": null,
      "outputs": []
    },
    {
      "cell_type": "markdown",
      "metadata": {
        "id": "52xjVLpfZg2H"
      },
      "source": [
        "## Global Variables"
      ]
    },
    {
      "cell_type": "code",
      "metadata": {
        "id": "CtY6pmm9ZgH5"
      },
      "source": [
        "batch_size = 32  # The default batch size of keras.\n",
        "num_classes = 10  # Number of class for the dataset\n",
        "epochs = 100\n",
        "data_augmentation = False"
      ],
      "execution_count": null,
      "outputs": []
    },
    {
      "cell_type": "code",
      "metadata": {
        "id": "kx9tTDy5QCq1"
      },
      "source": [
        "# print(xtrain)"
      ],
      "execution_count": null,
      "outputs": []
    },
    {
      "cell_type": "code",
      "metadata": {
        "id": "W4fc-VS0QKpn",
        "colab": {
          "base_uri": "https://localhost:8080/"
        },
        "outputId": "d3659213-16c0-4522-8301-934928e9bc95"
      },
      "source": [
        "from keras.datasets import cifar10\n",
        "(x_train, y_train), (x_test, y_test) = cifar10.load_data()\n",
        "print('x_train shape:', x_train.shape)\n",
        "print('y_train shape:', y_train.shape)\n",
        "print(x_train.shape[0], 'train samples')\n",
        "print(x_test.shape[0], 'test samples')\n",
        "X = []\n",
        "Y = []\n",
        "for i in x_train:\n",
        "  X.append(i)\n",
        "for i in x_test:\n",
        "  X.append(i)\n",
        "for i in y_train:\n",
        "  Y.append(i)\n",
        "for i in y_test:\n",
        "  Y.append(i)\n",
        "\n",
        "train = np.array(X)\n",
        "test = np.array(Y)\n",
        "\n",
        "xtrain, xtest, ytrain, ytest = train_test_split(train, test, test_size=0.3)\n",
        "print('xtrain shape:', xtrain.shape)\n",
        "print('ytrain shape:', ytrain.shape)\n",
        "print(xtrain.shape[0], 'train samples')\n",
        "print(xtest.shape[0], 'test samples')"
      ],
      "execution_count": null,
      "outputs": [
        {
          "output_type": "stream",
          "text": [
            "x_train shape: (50000, 32, 32, 3)\n",
            "y_train shape: (50000, 1)\n",
            "50000 train samples\n",
            "10000 test samples\n",
            "xtrain shape: (42000, 32, 32, 3)\n",
            "ytrain shape: (42000, 1)\n",
            "42000 train samples\n",
            "18000 test samples\n"
          ],
          "name": "stdout"
        }
      ]
    },
    {
      "cell_type": "code",
      "metadata": {
        "id": "29c1M1B0Zpn7"
      },
      "source": [
        "# fig, axs = plt.subplots(1,2,figsize=(15,5)) \n",
        "# # Count plot for training set\n",
        "# sns.countplot(ytrain.ravel(), ax=axs[0])\n",
        "# axs[0].set_title('Distribution of training data')\n",
        "# axs[0].set_xlabel('Classes')\n",
        "# # Count plot for testing set\n",
        "# sns.countplot(ytest.ravel(), ax=axs[1])\n",
        "# axs[1].set_title('Distribution of Testing data')\n",
        "# axs[1].set_xlabel('Classes')\n",
        "# plt.show()"
      ],
      "execution_count": null,
      "outputs": []
    },
    {
      "cell_type": "code",
      "metadata": {
        "id": "j3x1EoKaf72g"
      },
      "source": [
        "def plotmodelhistory(history): \n",
        "    fig, axs = plt.subplots(1,2,figsize=(15,5)) \n",
        "    # summarize history for accuracy\n",
        "    axs[0].plot(history.history['accuracy']) \n",
        "    axs[0].plot(history.history['val_accuracy']) \n",
        "    axs[0].set_title('Model Accuracy')\n",
        "    axs[0].set_ylabel('Accuracy') \n",
        "    axs[0].set_xlabel('Epoch')\n",
        "    axs[0].legend(['train', 'validate'], loc='upper left')\n",
        "    # summarize history for loss\n",
        "    axs[1].plot(history.history['loss']) \n",
        "    axs[1].plot(history.history['val_loss']) \n",
        "    axs[1].set_title('Model Loss')\n",
        "    axs[1].set_ylabel('Loss') \n",
        "    axs[1].set_xlabel('Epoch')\n",
        "    axs[1].legend(['train', 'validate'], loc='upper left')\n",
        "    plt.show()"
      ],
      "execution_count": null,
      "outputs": []
    },
    {
      "cell_type": "code",
      "metadata": {
        "id": "cwdchj7CVhy8"
      },
      "source": [
        "# Normalize the data. Before we need to connvert data type to float for computation.\n",
        "xtrain = xtrain.astype('float32')\n",
        "xtest = xtest.astype('float32')\n",
        "xtrain /= 255\n",
        "xtest /= 255\n",
        "\n",
        "# Convert class vectors to binary class matrices. This is called one hot encoding.\n",
        "ytrain = keras.utils.to_categorical(ytrain, num_classes)\n",
        "ytest = keras.utils.to_categorical(ytest, num_classes)"
      ],
      "execution_count": null,
      "outputs": []
    },
    {
      "cell_type": "code",
      "metadata": {
        "colab": {
          "base_uri": "https://localhost:8080/"
        },
        "id": "SCJfNFCuVy67",
        "outputId": "1e076f89-5b83-46fa-c7c9-8c1b0bb69d5b"
      },
      "source": [
        "print(ytrain)"
      ],
      "execution_count": null,
      "outputs": [
        {
          "output_type": "stream",
          "text": [
            "[[0. 0. 0. ... 1. 0. 0.]\n",
            " [1. 0. 0. ... 0. 0. 0.]\n",
            " [0. 0. 0. ... 0. 1. 0.]\n",
            " ...\n",
            " [0. 0. 0. ... 0. 0. 0.]\n",
            " [0. 1. 0. ... 0. 0. 0.]\n",
            " [1. 0. 0. ... 0. 0. 0.]]\n"
          ],
          "name": "stdout"
        }
      ]
    },
    {
      "cell_type": "code",
      "metadata": {
        "id": "6DDSgzuJOWq2"
      },
      "source": [
        "# #define the convnet\n",
        "# model = Sequential()\n",
        "# # CONV => RELU => CONV => RELU => POOL => DROPOUT\n",
        "# model.add(Conv2D(32, (3, 3), padding='same',input_shape=xtrain.shape[1:]))\n",
        "# model.add(Activation('relu'))\n",
        "# model.add(Conv2D(32, (3, 3)))\n",
        "# model.add(Activation('relu'))\n",
        "# model.add(MaxPooling2D(pool_size=(2, 2)))\n",
        "# model.add(Dropout(0.25))\n",
        "\n",
        "# # CONV => RELU => CONV => RELU => POOL => DROPOUT\n",
        "# model.add(Conv2D(64, (3, 3), padding='same'))\n",
        "# model.add(Activation('relu'))\n",
        "# model.add(Conv2D(64, (3, 3)))\n",
        "# model.add(Activation('relu'))\n",
        "# model.add(MaxPooling2D(pool_size=(2, 2)))\n",
        "# model.add(Dropout(0.25))\n",
        "\n",
        "# # FLATTERN => DENSE => RELU => DROPOUT\n",
        "# model.add(Flatten())\n",
        "# model.add(Dense(512))\n",
        "# model.add(Activation('relu'))\n",
        "# model.add(Dropout(0.5))\n",
        "# # a softmax classifier\n",
        "# model.add(Dense(num_classes))\n",
        "# model.add(Activation('softmax'))\n",
        "\n",
        "# model.summary()"
      ],
      "execution_count": null,
      "outputs": []
    },
    {
      "cell_type": "markdown",
      "metadata": {
        "id": "Egdk1xQqdxqG"
      },
      "source": [
        "## 1. No batch normalization"
      ]
    },
    {
      "cell_type": "code",
      "metadata": {
        "id": "uMCnLsVwZ7n4"
      },
      "source": [
        "#define the convnet\n",
        "model = Sequential()\n",
        "# CONV => RELU => CONV => RELU => POOL => DROPOUT\n",
        "#model.add(Conv2D(32, (3, 3), padding='valid',input_shape=xtrain.shape[1:]))\n",
        "model.add(ZeroPadding2D(padding=(1, 1), data_format=None))\n",
        "model.add(Activation('relu'))\n",
        "model.add(Conv2D(32, (3, 3)))\n",
        "model.add(Activation('relu'))\n",
        "model.add(MaxPooling2D(pool_size=(2, 2)))\n",
        "model.add(Dropout(0.5))\n",
        "\n",
        "# a softmax classifier\n",
        "model.add(Flatten())\n",
        "model.add(Dense(num_classes))\n",
        "model.add(Activation('softmax'))\n",
        "\n",
        "#model.summary()"
      ],
      "execution_count": null,
      "outputs": []
    },
    {
      "cell_type": "code",
      "metadata": {
        "id": "eQsFCTppOavB"
      },
      "source": [
        "# initiate RMSprop optimizer\n",
        "# opt = keras.optimizers.RMSprop(learning_rate=0.001, decay=1e-6)\n",
        "opt = keras.optimizers.SGD(learning_rate=0.001, momentum=0.0, nesterov=False, name=\"SGD\")\n",
        "\n",
        "# Let's train the model using RMSprop\n",
        "model.compile(loss='categorical_crossentropy',\n",
        "              optimizer=opt,\n",
        "              metrics=['accuracy'])"
      ],
      "execution_count": null,
      "outputs": []
    },
    {
      "cell_type": "code",
      "metadata": {
        "colab": {
          "base_uri": "https://localhost:8080/"
        },
        "id": "Ewu-FvjYOh5c",
        "outputId": "eb7df241-214c-442c-9a64-a41d7351ed09"
      },
      "source": [
        "history = None  # For recording the history of trainning process.\n",
        "history = model.fit(xtrain, ytrain,\n",
        "      batch_size=batch_size,\n",
        "      epochs=epochs,\n",
        "      validation_data=(xtest, ytest),\n",
        "      shuffle=True)\n",
        "model.summary()"
      ],
      "execution_count": null,
      "outputs": [
        {
          "output_type": "stream",
          "text": [
            "Epoch 1/100\n",
            "1313/1313 [==============================] - 5s 3ms/step - loss: 2.2127 - accuracy: 0.1803 - val_loss: 2.0863 - val_accuracy: 0.2796\n",
            "Epoch 2/100\n",
            "1313/1313 [==============================] - 4s 3ms/step - loss: 2.0511 - accuracy: 0.2650 - val_loss: 1.9839 - val_accuracy: 0.3182\n",
            "Epoch 3/100\n",
            "1313/1313 [==============================] - 4s 3ms/step - loss: 1.9704 - accuracy: 0.2989 - val_loss: 1.9285 - val_accuracy: 0.3380\n",
            "Epoch 4/100\n",
            "1313/1313 [==============================] - 4s 3ms/step - loss: 1.9235 - accuracy: 0.3218 - val_loss: 1.8928 - val_accuracy: 0.3559\n",
            "Epoch 5/100\n",
            "1313/1313 [==============================] - 4s 3ms/step - loss: 1.8873 - accuracy: 0.3391 - val_loss: 1.8626 - val_accuracy: 0.3611\n",
            "Epoch 6/100\n",
            "1313/1313 [==============================] - 4s 3ms/step - loss: 1.8579 - accuracy: 0.3502 - val_loss: 1.8339 - val_accuracy: 0.3780\n",
            "Epoch 7/100\n",
            "1313/1313 [==============================] - 4s 3ms/step - loss: 1.8292 - accuracy: 0.3592 - val_loss: 1.8093 - val_accuracy: 0.3809\n",
            "Epoch 8/100\n",
            "1313/1313 [==============================] - 4s 3ms/step - loss: 1.8053 - accuracy: 0.3714 - val_loss: 1.7852 - val_accuracy: 0.3917\n",
            "Epoch 9/100\n",
            "1313/1313 [==============================] - 4s 3ms/step - loss: 1.7829 - accuracy: 0.3808 - val_loss: 1.7653 - val_accuracy: 0.3996\n",
            "Epoch 10/100\n",
            "1313/1313 [==============================] - 4s 3ms/step - loss: 1.7610 - accuracy: 0.3878 - val_loss: 1.7453 - val_accuracy: 0.4083\n",
            "Epoch 11/100\n",
            "1313/1313 [==============================] - 4s 3ms/step - loss: 1.7400 - accuracy: 0.3968 - val_loss: 1.7285 - val_accuracy: 0.4114\n",
            "Epoch 12/100\n",
            "1313/1313 [==============================] - 4s 3ms/step - loss: 1.7219 - accuracy: 0.4019 - val_loss: 1.7110 - val_accuracy: 0.4171\n",
            "Epoch 13/100\n",
            "1313/1313 [==============================] - 4s 3ms/step - loss: 1.7015 - accuracy: 0.4104 - val_loss: 1.6896 - val_accuracy: 0.4246\n",
            "Epoch 14/100\n",
            "1313/1313 [==============================] - 4s 3ms/step - loss: 1.6832 - accuracy: 0.4153 - val_loss: 1.6724 - val_accuracy: 0.4312\n",
            "Epoch 15/100\n",
            "1313/1313 [==============================] - 5s 3ms/step - loss: 1.6663 - accuracy: 0.4221 - val_loss: 1.6515 - val_accuracy: 0.4373\n",
            "Epoch 16/100\n",
            "1313/1313 [==============================] - 4s 3ms/step - loss: 1.6481 - accuracy: 0.4279 - val_loss: 1.6379 - val_accuracy: 0.4400\n",
            "Epoch 17/100\n",
            "1313/1313 [==============================] - 4s 3ms/step - loss: 1.6311 - accuracy: 0.4345 - val_loss: 1.6184 - val_accuracy: 0.4499\n",
            "Epoch 18/100\n",
            "1313/1313 [==============================] - 4s 3ms/step - loss: 1.6123 - accuracy: 0.4420 - val_loss: 1.6001 - val_accuracy: 0.4586\n",
            "Epoch 19/100\n",
            "1313/1313 [==============================] - 4s 3ms/step - loss: 1.5964 - accuracy: 0.4488 - val_loss: 1.5839 - val_accuracy: 0.4603\n",
            "Epoch 20/100\n",
            "1313/1313 [==============================] - 5s 3ms/step - loss: 1.5773 - accuracy: 0.4527 - val_loss: 1.5657 - val_accuracy: 0.4686\n",
            "Epoch 21/100\n",
            "1313/1313 [==============================] - 5s 4ms/step - loss: 1.5614 - accuracy: 0.4593 - val_loss: 1.5520 - val_accuracy: 0.4714\n",
            "Epoch 22/100\n",
            "1313/1313 [==============================] - 5s 4ms/step - loss: 1.5460 - accuracy: 0.4640 - val_loss: 1.5347 - val_accuracy: 0.4774\n",
            "Epoch 23/100\n",
            "1313/1313 [==============================] - 4s 3ms/step - loss: 1.5295 - accuracy: 0.4700 - val_loss: 1.5197 - val_accuracy: 0.4793\n",
            "Epoch 24/100\n",
            "1313/1313 [==============================] - 4s 3ms/step - loss: 1.5173 - accuracy: 0.4733 - val_loss: 1.5071 - val_accuracy: 0.4817\n",
            "Epoch 25/100\n",
            "1313/1313 [==============================] - 4s 3ms/step - loss: 1.5050 - accuracy: 0.4777 - val_loss: 1.4928 - val_accuracy: 0.4931\n",
            "Epoch 26/100\n",
            "1313/1313 [==============================] - 4s 3ms/step - loss: 1.4893 - accuracy: 0.4840 - val_loss: 1.4798 - val_accuracy: 0.4987\n",
            "Epoch 27/100\n",
            "1313/1313 [==============================] - 4s 3ms/step - loss: 1.4771 - accuracy: 0.4885 - val_loss: 1.4703 - val_accuracy: 0.5002\n",
            "Epoch 28/100\n",
            "1313/1313 [==============================] - 4s 3ms/step - loss: 1.4665 - accuracy: 0.4915 - val_loss: 1.4581 - val_accuracy: 0.5047\n",
            "Epoch 29/100\n",
            "1313/1313 [==============================] - 4s 3ms/step - loss: 1.4541 - accuracy: 0.4944 - val_loss: 1.4454 - val_accuracy: 0.5074\n",
            "Epoch 30/100\n",
            "1313/1313 [==============================] - 4s 3ms/step - loss: 1.4425 - accuracy: 0.5007 - val_loss: 1.4357 - val_accuracy: 0.5139\n",
            "Epoch 31/100\n",
            "1313/1313 [==============================] - 4s 3ms/step - loss: 1.4325 - accuracy: 0.5055 - val_loss: 1.4252 - val_accuracy: 0.5132\n",
            "Epoch 32/100\n",
            "1313/1313 [==============================] - 5s 3ms/step - loss: 1.4225 - accuracy: 0.5065 - val_loss: 1.4157 - val_accuracy: 0.5149\n",
            "Epoch 33/100\n",
            "1313/1313 [==============================] - 4s 3ms/step - loss: 1.4141 - accuracy: 0.5098 - val_loss: 1.4072 - val_accuracy: 0.5212\n",
            "Epoch 34/100\n",
            "1313/1313 [==============================] - 5s 3ms/step - loss: 1.4047 - accuracy: 0.5115 - val_loss: 1.3985 - val_accuracy: 0.5213\n",
            "Epoch 35/100\n",
            "1313/1313 [==============================] - 4s 3ms/step - loss: 1.3994 - accuracy: 0.5116 - val_loss: 1.3929 - val_accuracy: 0.5245\n",
            "Epoch 36/100\n",
            "1313/1313 [==============================] - 5s 3ms/step - loss: 1.3910 - accuracy: 0.5172 - val_loss: 1.3825 - val_accuracy: 0.5276\n",
            "Epoch 37/100\n",
            "1313/1313 [==============================] - 4s 3ms/step - loss: 1.3803 - accuracy: 0.5198 - val_loss: 1.3765 - val_accuracy: 0.5312\n",
            "Epoch 38/100\n",
            "1313/1313 [==============================] - 5s 3ms/step - loss: 1.3735 - accuracy: 0.5237 - val_loss: 1.3670 - val_accuracy: 0.5312\n",
            "Epoch 39/100\n",
            "1313/1313 [==============================] - 4s 3ms/step - loss: 1.3668 - accuracy: 0.5245 - val_loss: 1.3594 - val_accuracy: 0.5361\n",
            "Epoch 40/100\n",
            "1313/1313 [==============================] - 4s 3ms/step - loss: 1.3584 - accuracy: 0.5265 - val_loss: 1.3542 - val_accuracy: 0.5353\n",
            "Epoch 41/100\n",
            "1313/1313 [==============================] - 4s 3ms/step - loss: 1.3548 - accuracy: 0.5278 - val_loss: 1.3492 - val_accuracy: 0.5397\n",
            "Epoch 42/100\n",
            "1313/1313 [==============================] - 4s 3ms/step - loss: 1.3480 - accuracy: 0.5328 - val_loss: 1.3418 - val_accuracy: 0.5407\n",
            "Epoch 43/100\n",
            "1313/1313 [==============================] - 5s 4ms/step - loss: 1.3433 - accuracy: 0.5334 - val_loss: 1.3379 - val_accuracy: 0.5406\n",
            "Epoch 44/100\n",
            "1313/1313 [==============================] - 5s 3ms/step - loss: 1.3372 - accuracy: 0.5353 - val_loss: 1.3333 - val_accuracy: 0.5411\n",
            "Epoch 45/100\n",
            "1313/1313 [==============================] - 4s 3ms/step - loss: 1.3312 - accuracy: 0.5395 - val_loss: 1.3271 - val_accuracy: 0.5453\n",
            "Epoch 46/100\n",
            "1313/1313 [==============================] - 4s 3ms/step - loss: 1.3299 - accuracy: 0.5362 - val_loss: 1.3234 - val_accuracy: 0.5469\n",
            "Epoch 47/100\n",
            "1313/1313 [==============================] - 4s 3ms/step - loss: 1.3215 - accuracy: 0.5420 - val_loss: 1.3179 - val_accuracy: 0.5462\n",
            "Epoch 48/100\n",
            "1313/1313 [==============================] - 4s 3ms/step - loss: 1.3174 - accuracy: 0.5415 - val_loss: 1.3118 - val_accuracy: 0.5504\n",
            "Epoch 49/100\n",
            "1313/1313 [==============================] - 4s 3ms/step - loss: 1.3099 - accuracy: 0.5448 - val_loss: 1.3110 - val_accuracy: 0.5502\n",
            "Epoch 50/100\n",
            "1313/1313 [==============================] - 5s 3ms/step - loss: 1.3103 - accuracy: 0.5444 - val_loss: 1.3077 - val_accuracy: 0.5512\n",
            "Epoch 51/100\n",
            "1313/1313 [==============================] - 5s 3ms/step - loss: 1.3030 - accuracy: 0.5488 - val_loss: 1.3025 - val_accuracy: 0.5519\n",
            "Epoch 52/100\n",
            "1313/1313 [==============================] - 4s 3ms/step - loss: 1.2996 - accuracy: 0.5498 - val_loss: 1.2974 - val_accuracy: 0.5523\n",
            "Epoch 53/100\n",
            "1313/1313 [==============================] - 4s 3ms/step - loss: 1.2962 - accuracy: 0.5482 - val_loss: 1.2937 - val_accuracy: 0.5536\n",
            "Epoch 54/100\n",
            "1313/1313 [==============================] - 4s 3ms/step - loss: 1.2931 - accuracy: 0.5528 - val_loss: 1.2896 - val_accuracy: 0.5564\n",
            "Epoch 55/100\n",
            "1313/1313 [==============================] - 4s 3ms/step - loss: 1.2892 - accuracy: 0.5531 - val_loss: 1.2885 - val_accuracy: 0.5578\n",
            "Epoch 56/100\n",
            "1313/1313 [==============================] - 4s 3ms/step - loss: 1.2840 - accuracy: 0.5533 - val_loss: 1.2825 - val_accuracy: 0.5593\n",
            "Epoch 57/100\n",
            "1313/1313 [==============================] - 4s 3ms/step - loss: 1.2822 - accuracy: 0.5562 - val_loss: 1.2796 - val_accuracy: 0.5603\n",
            "Epoch 58/100\n",
            "1313/1313 [==============================] - 5s 3ms/step - loss: 1.2757 - accuracy: 0.5557 - val_loss: 1.2762 - val_accuracy: 0.5612\n",
            "Epoch 59/100\n",
            "1313/1313 [==============================] - 4s 3ms/step - loss: 1.2747 - accuracy: 0.5553 - val_loss: 1.2766 - val_accuracy: 0.5586\n",
            "Epoch 60/100\n",
            "1313/1313 [==============================] - 4s 3ms/step - loss: 1.2733 - accuracy: 0.5570 - val_loss: 1.2714 - val_accuracy: 0.5602\n",
            "Epoch 61/100\n",
            "1313/1313 [==============================] - 4s 3ms/step - loss: 1.2685 - accuracy: 0.5581 - val_loss: 1.2690 - val_accuracy: 0.5634\n",
            "Epoch 62/100\n",
            "1313/1313 [==============================] - 5s 3ms/step - loss: 1.2653 - accuracy: 0.5588 - val_loss: 1.2656 - val_accuracy: 0.5622\n",
            "Epoch 63/100\n",
            "1313/1313 [==============================] - 4s 3ms/step - loss: 1.2619 - accuracy: 0.5613 - val_loss: 1.2633 - val_accuracy: 0.5654\n",
            "Epoch 64/100\n",
            "1313/1313 [==============================] - 4s 3ms/step - loss: 1.2582 - accuracy: 0.5653 - val_loss: 1.2617 - val_accuracy: 0.5652\n",
            "Epoch 65/100\n",
            "1313/1313 [==============================] - 4s 3ms/step - loss: 1.2581 - accuracy: 0.5618 - val_loss: 1.2592 - val_accuracy: 0.5648\n",
            "Epoch 66/100\n",
            "1313/1313 [==============================] - 4s 3ms/step - loss: 1.2556 - accuracy: 0.5640 - val_loss: 1.2542 - val_accuracy: 0.5671\n",
            "Epoch 67/100\n",
            "1313/1313 [==============================] - 5s 3ms/step - loss: 1.2526 - accuracy: 0.5657 - val_loss: 1.2518 - val_accuracy: 0.5669\n",
            "Epoch 68/100\n",
            "1313/1313 [==============================] - 5s 4ms/step - loss: 1.2491 - accuracy: 0.5652 - val_loss: 1.2519 - val_accuracy: 0.5680\n",
            "Epoch 69/100\n",
            "1313/1313 [==============================] - 5s 4ms/step - loss: 1.2468 - accuracy: 0.5685 - val_loss: 1.2502 - val_accuracy: 0.5698\n",
            "Epoch 70/100\n",
            "1313/1313 [==============================] - 5s 3ms/step - loss: 1.2463 - accuracy: 0.5666 - val_loss: 1.2460 - val_accuracy: 0.5699\n",
            "Epoch 71/100\n",
            "1313/1313 [==============================] - 4s 3ms/step - loss: 1.2393 - accuracy: 0.5699 - val_loss: 1.2434 - val_accuracy: 0.5743\n",
            "Epoch 72/100\n",
            "1313/1313 [==============================] - 4s 3ms/step - loss: 1.2392 - accuracy: 0.5700 - val_loss: 1.2412 - val_accuracy: 0.5724\n",
            "Epoch 73/100\n",
            "1313/1313 [==============================] - 4s 3ms/step - loss: 1.2343 - accuracy: 0.5726 - val_loss: 1.2390 - val_accuracy: 0.5722\n",
            "Epoch 74/100\n",
            "1313/1313 [==============================] - 5s 3ms/step - loss: 1.2328 - accuracy: 0.5733 - val_loss: 1.2365 - val_accuracy: 0.5748\n",
            "Epoch 75/100\n",
            "1313/1313 [==============================] - 4s 3ms/step - loss: 1.2318 - accuracy: 0.5732 - val_loss: 1.2375 - val_accuracy: 0.5726\n",
            "Epoch 76/100\n",
            "1313/1313 [==============================] - 4s 3ms/step - loss: 1.2306 - accuracy: 0.5725 - val_loss: 1.2336 - val_accuracy: 0.5756\n",
            "Epoch 77/100\n",
            "1313/1313 [==============================] - 4s 3ms/step - loss: 1.2287 - accuracy: 0.5729 - val_loss: 1.2304 - val_accuracy: 0.5754\n",
            "Epoch 78/100\n",
            "1313/1313 [==============================] - 4s 3ms/step - loss: 1.2261 - accuracy: 0.5730 - val_loss: 1.2307 - val_accuracy: 0.5769\n",
            "Epoch 79/100\n",
            "1313/1313 [==============================] - 4s 3ms/step - loss: 1.2243 - accuracy: 0.5752 - val_loss: 1.2266 - val_accuracy: 0.5763\n",
            "Epoch 80/100\n",
            "1313/1313 [==============================] - 4s 3ms/step - loss: 1.2179 - accuracy: 0.5781 - val_loss: 1.2239 - val_accuracy: 0.5791\n",
            "Epoch 81/100\n",
            "1313/1313 [==============================] - 4s 3ms/step - loss: 1.2179 - accuracy: 0.5780 - val_loss: 1.2269 - val_accuracy: 0.5789\n",
            "Epoch 82/100\n",
            "1313/1313 [==============================] - 4s 3ms/step - loss: 1.2165 - accuracy: 0.5777 - val_loss: 1.2224 - val_accuracy: 0.5801\n",
            "Epoch 83/100\n",
            "1313/1313 [==============================] - 4s 3ms/step - loss: 1.2140 - accuracy: 0.5790 - val_loss: 1.2181 - val_accuracy: 0.5816\n",
            "Epoch 84/100\n",
            "1313/1313 [==============================] - 4s 3ms/step - loss: 1.2083 - accuracy: 0.5804 - val_loss: 1.2191 - val_accuracy: 0.5783\n",
            "Epoch 85/100\n",
            "1313/1313 [==============================] - 4s 3ms/step - loss: 1.2084 - accuracy: 0.5811 - val_loss: 1.2146 - val_accuracy: 0.5839\n",
            "Epoch 86/100\n",
            "1313/1313 [==============================] - 5s 3ms/step - loss: 1.2079 - accuracy: 0.5828 - val_loss: 1.2194 - val_accuracy: 0.5831\n",
            "Epoch 87/100\n",
            "1313/1313 [==============================] - 5s 3ms/step - loss: 1.2052 - accuracy: 0.5822 - val_loss: 1.2152 - val_accuracy: 0.5821\n",
            "Epoch 88/100\n",
            "1313/1313 [==============================] - 4s 3ms/step - loss: 1.2051 - accuracy: 0.5845 - val_loss: 1.2089 - val_accuracy: 0.5837\n",
            "Epoch 89/100\n",
            "1313/1313 [==============================] - 5s 3ms/step - loss: 1.1995 - accuracy: 0.5854 - val_loss: 1.2081 - val_accuracy: 0.5851\n",
            "Epoch 90/100\n",
            "1313/1313 [==============================] - 5s 4ms/step - loss: 1.1987 - accuracy: 0.5834 - val_loss: 1.2078 - val_accuracy: 0.5877\n",
            "Epoch 91/100\n",
            "1313/1313 [==============================] - 5s 4ms/step - loss: 1.1931 - accuracy: 0.5863 - val_loss: 1.2019 - val_accuracy: 0.5886\n",
            "Epoch 92/100\n",
            "1313/1313 [==============================] - 4s 3ms/step - loss: 1.1952 - accuracy: 0.5858 - val_loss: 1.2016 - val_accuracy: 0.5863\n",
            "Epoch 93/100\n",
            "1313/1313 [==============================] - 4s 3ms/step - loss: 1.1932 - accuracy: 0.5861 - val_loss: 1.1999 - val_accuracy: 0.5895\n",
            "Epoch 94/100\n",
            "1313/1313 [==============================] - 4s 3ms/step - loss: 1.1909 - accuracy: 0.5895 - val_loss: 1.2069 - val_accuracy: 0.5859\n",
            "Epoch 95/100\n",
            "1313/1313 [==============================] - 4s 3ms/step - loss: 1.1886 - accuracy: 0.5847 - val_loss: 1.1956 - val_accuracy: 0.5889\n",
            "Epoch 96/100\n",
            "1313/1313 [==============================] - 4s 3ms/step - loss: 1.1866 - accuracy: 0.5899 - val_loss: 1.1959 - val_accuracy: 0.5920\n",
            "Epoch 97/100\n",
            "1313/1313 [==============================] - 4s 3ms/step - loss: 1.1817 - accuracy: 0.5903 - val_loss: 1.1985 - val_accuracy: 0.5884\n",
            "Epoch 98/100\n",
            "1313/1313 [==============================] - 5s 3ms/step - loss: 1.1804 - accuracy: 0.5921 - val_loss: 1.1910 - val_accuracy: 0.5932\n",
            "Epoch 99/100\n",
            "1313/1313 [==============================] - 4s 3ms/step - loss: 1.1783 - accuracy: 0.5932 - val_loss: 1.1896 - val_accuracy: 0.5922\n",
            "Epoch 100/100\n",
            "1313/1313 [==============================] - 4s 3ms/step - loss: 1.1807 - accuracy: 0.5912 - val_loss: 1.1912 - val_accuracy: 0.5921\n",
            "Model: \"sequential_4\"\n",
            "_________________________________________________________________\n",
            "Layer (type)                 Output Shape              Param #   \n",
            "=================================================================\n",
            "zero_padding2d_4 (ZeroPaddin (None, 34, 34, 3)         0         \n",
            "_________________________________________________________________\n",
            "activation_16 (Activation)   (None, 34, 34, 3)         0         \n",
            "_________________________________________________________________\n",
            "conv2d_7 (Conv2D)            (None, 32, 32, 32)        896       \n",
            "_________________________________________________________________\n",
            "activation_17 (Activation)   (None, 32, 32, 32)        0         \n",
            "_________________________________________________________________\n",
            "max_pooling2d_7 (MaxPooling2 (None, 16, 16, 32)        0         \n",
            "_________________________________________________________________\n",
            "dropout_3 (Dropout)          (None, 16, 16, 32)        0         \n",
            "_________________________________________________________________\n",
            "flatten_4 (Flatten)          (None, 8192)              0         \n",
            "_________________________________________________________________\n",
            "dense_5 (Dense)              (None, 10)                81930     \n",
            "_________________________________________________________________\n",
            "activation_18 (Activation)   (None, 10)                0         \n",
            "=================================================================\n",
            "Total params: 82,826\n",
            "Trainable params: 82,826\n",
            "Non-trainable params: 0\n",
            "_________________________________________________________________\n"
          ],
          "name": "stdout"
        }
      ]
    },
    {
      "cell_type": "code",
      "metadata": {
        "colab": {
          "base_uri": "https://localhost:8080/",
          "height": 350
        },
        "id": "7YvbBqViaFuy",
        "outputId": "96a5e326-af75-4612-8392-35d030d92b57"
      },
      "source": [
        "plotmodelhistory(history)"
      ],
      "execution_count": null,
      "outputs": [
        {
          "output_type": "display_data",
          "data": {
            "image/png": "[encoded data removed]",
            "text/plain": [
              "<Figure size 1080x360 with 2 Axes>"
            ]
          },
          "metadata": {
            "tags": [],
            "needs_background": "light"
          }
        }
      ]
    },
    {
      "cell_type": "code",
      "metadata": {
        "id": "Kisy4BpHE70n"
      },
      "source": [
        "plot_test_loss = []\n",
        "plot_test_acc = []"
      ],
      "execution_count": null,
      "outputs": []
    },
    {
      "cell_type": "code",
      "metadata": {
        "colab": {
          "base_uri": "https://localhost:8080/"
        },
        "id": "XFGcLaIkO1G8",
        "outputId": "937aa1cf-3956-43ec-d3d7-e227f3db8404"
      },
      "source": [
        "# Score trained model.\n",
        "scores = model.evaluate(xtest, ytest, verbose=1)\n",
        "print('Test loss:', scores[0])\n",
        "print('Test accuracy:', scores[1])"
      ],
      "execution_count": null,
      "outputs": [
        {
          "output_type": "stream",
          "text": [
            "563/563 [==============================] - 1s 2ms/step - loss: 1.1912 - accuracy: 0.5921\n",
            "Test loss: 1.1911931037902832\n",
            "Test accuracy: 0.5921111106872559\n"
          ],
          "name": "stdout"
        }
      ]
    },
    {
      "cell_type": "code",
      "metadata": {
        "id": "N9U4ubo_FTQn"
      },
      "source": [
        "# plot_test_loss = []\n",
        "# plot_test_acc = []\n",
        "# for i in range(4):\n",
        "#   scores = model.evaluate(xtest, ytest, verbose=1)\n",
        "plot_test_loss.append(scores[0])\n",
        "plot_test_acc.append(scores[1]*100)"
      ],
      "execution_count": null,
      "outputs": []
    },
    {
      "cell_type": "markdown",
      "metadata": {
        "id": "_zDY_GdYd3n1"
      },
      "source": [
        "## 2. 2 Dense Layers"
      ]
    },
    {
      "cell_type": "code",
      "metadata": {
        "id": "Eifb5JKrd7r0"
      },
      "source": [
        "#define the convnet\n",
        "model = Sequential()\n",
        "# CONV => RELU => CONV => RELU => POOL => DROPOUT\n",
        "model.add(ZeroPadding2D(padding=(1, 1), data_format=None))\n",
        "model.add(Activation('relu'))\n",
        "model.add(Conv2D(32, (3, 3)))\n",
        "model.add(Activation('relu'))\n",
        "model.add(BatchNormalization())\n",
        "model.add(MaxPooling2D(pool_size=(2, 2)))\n",
        "model.add(Dropout(0.5))\n",
        "\n",
        "# a softmax classifier\n",
        "model.add(Flatten())\n",
        "model.add(Dense(64))\n",
        "model.add(Activation('relu'))\n",
        "model.add(Dropout(0.5))\n",
        "# a softmax classifier\n",
        "model.add(Dense(num_classes))\n",
        "model.add(Activation('softmax'))\n",
        "\n",
        "# model.summary()"
      ],
      "execution_count": null,
      "outputs": []
    },
    {
      "cell_type": "code",
      "metadata": {
        "colab": {
          "base_uri": "https://localhost:8080/"
        },
        "id": "VjieA6L2ePXj",
        "outputId": "6db74e4b-378c-49f5-8000-6c884f2fafe1"
      },
      "source": [
        "# initiate RMSprop optimizer\n",
        "# opt = keras.optimizers.RMSprop(learning_rate=0.001, decay=1e-6)\n",
        "opt = keras.optimizers.SGD(learning_rate=0.001, momentum=0.0, nesterov=False, name=\"SGD\")\n",
        "\n",
        "# Let's train the model using RMSprop\n",
        "model.compile(loss='categorical_crossentropy',\n",
        "              optimizer=opt,\n",
        "              metrics=['accuracy'])\n",
        "\n",
        "history = None  # For recording the history of trainning process.\n",
        "history = model.fit(xtrain, ytrain,\n",
        "      batch_size=batch_size,\n",
        "      epochs=epochs,\n",
        "      validation_data=(xtest, ytest),\n",
        "      shuffle=True)\n",
        "\n",
        "model.summary()"
      ],
      "execution_count": null,
      "outputs": [
        {
          "output_type": "stream",
          "text": [
            "Epoch 1/100\n",
            "1313/1313 [==============================] - 5s 4ms/step - loss: 2.2432 - accuracy: 0.2367 - val_loss: 1.7893 - val_accuracy: 0.3979\n",
            "Epoch 2/100\n",
            "1313/1313 [==============================] - 5s 4ms/step - loss: 1.8617 - accuracy: 0.3329 - val_loss: 1.6504 - val_accuracy: 0.4370\n",
            "Epoch 3/100\n",
            "1313/1313 [==============================] - 5s 4ms/step - loss: 1.7492 - accuracy: 0.3691 - val_loss: 1.5978 - val_accuracy: 0.4306\n",
            "Epoch 4/100\n",
            "1313/1313 [==============================] - 5s 4ms/step - loss: 1.6569 - accuracy: 0.4025 - val_loss: 1.5069 - val_accuracy: 0.4806\n",
            "Epoch 5/100\n",
            "1313/1313 [==============================] - 5s 4ms/step - loss: 1.5960 - accuracy: 0.4220 - val_loss: 1.4424 - val_accuracy: 0.5019\n",
            "Epoch 6/100\n",
            "1313/1313 [==============================] - 5s 4ms/step - loss: 1.5450 - accuracy: 0.4442 - val_loss: 1.4512 - val_accuracy: 0.4836\n",
            "Epoch 7/100\n",
            "1313/1313 [==============================] - 5s 4ms/step - loss: 1.5107 - accuracy: 0.4553 - val_loss: 1.3614 - val_accuracy: 0.5207\n",
            "Epoch 8/100\n",
            "1313/1313 [==============================] - 5s 4ms/step - loss: 1.4718 - accuracy: 0.4727 - val_loss: 1.4374 - val_accuracy: 0.4871\n",
            "Epoch 9/100\n",
            "1313/1313 [==============================] - 5s 4ms/step - loss: 1.4460 - accuracy: 0.4792 - val_loss: 1.3355 - val_accuracy: 0.5267\n",
            "Epoch 10/100\n",
            "1313/1313 [==============================] - 5s 4ms/step - loss: 1.4253 - accuracy: 0.4899 - val_loss: 1.3700 - val_accuracy: 0.5191\n",
            "Epoch 11/100\n",
            "1313/1313 [==============================] - 5s 4ms/step - loss: 1.3993 - accuracy: 0.4985 - val_loss: 1.2612 - val_accuracy: 0.5578\n",
            "Epoch 12/100\n",
            "1313/1313 [==============================] - 5s 4ms/step - loss: 1.3771 - accuracy: 0.5059 - val_loss: 1.3225 - val_accuracy: 0.5263\n",
            "Epoch 13/100\n",
            "1313/1313 [==============================] - 5s 4ms/step - loss: 1.3539 - accuracy: 0.5164 - val_loss: 1.2622 - val_accuracy: 0.5576\n",
            "Epoch 14/100\n",
            "1313/1313 [==============================] - 5s 4ms/step - loss: 1.3432 - accuracy: 0.5215 - val_loss: 1.3817 - val_accuracy: 0.5131\n",
            "Epoch 15/100\n",
            "1313/1313 [==============================] - 5s 4ms/step - loss: 1.3237 - accuracy: 0.5266 - val_loss: 1.3552 - val_accuracy: 0.5160\n",
            "Epoch 16/100\n",
            "1313/1313 [==============================] - 5s 4ms/step - loss: 1.3095 - accuracy: 0.5335 - val_loss: 1.2860 - val_accuracy: 0.5448\n",
            "Epoch 17/100\n",
            "1313/1313 [==============================] - 5s 4ms/step - loss: 1.2937 - accuracy: 0.5370 - val_loss: 1.2327 - val_accuracy: 0.5704\n",
            "Epoch 18/100\n",
            "1313/1313 [==============================] - 5s 4ms/step - loss: 1.2746 - accuracy: 0.5442 - val_loss: 1.3250 - val_accuracy: 0.5259\n",
            "Epoch 19/100\n",
            "1313/1313 [==============================] - 5s 4ms/step - loss: 1.2635 - accuracy: 0.5493 - val_loss: 1.1581 - val_accuracy: 0.5950\n",
            "Epoch 20/100\n",
            "1313/1313 [==============================] - 5s 4ms/step - loss: 1.2521 - accuracy: 0.5513 - val_loss: 1.1589 - val_accuracy: 0.5946\n",
            "Epoch 21/100\n",
            "1313/1313 [==============================] - 5s 4ms/step - loss: 1.2457 - accuracy: 0.5561 - val_loss: 1.1792 - val_accuracy: 0.5908\n",
            "Epoch 22/100\n",
            "1313/1313 [==============================] - 5s 4ms/step - loss: 1.2326 - accuracy: 0.5616 - val_loss: 1.5293 - val_accuracy: 0.4576\n",
            "Epoch 23/100\n",
            "1313/1313 [==============================] - 5s 4ms/step - loss: 1.2197 - accuracy: 0.5622 - val_loss: 1.2495 - val_accuracy: 0.5584\n",
            "Epoch 24/100\n",
            "1313/1313 [==============================] - 5s 4ms/step - loss: 1.2128 - accuracy: 0.5691 - val_loss: 1.1835 - val_accuracy: 0.5823\n",
            "Epoch 25/100\n",
            "1313/1313 [==============================] - 5s 4ms/step - loss: 1.2018 - accuracy: 0.5721 - val_loss: 1.2353 - val_accuracy: 0.5552\n",
            "Epoch 26/100\n",
            "1313/1313 [==============================] - 5s 4ms/step - loss: 1.1878 - accuracy: 0.5790 - val_loss: 1.1236 - val_accuracy: 0.6074\n",
            "Epoch 27/100\n",
            "1313/1313 [==============================] - 5s 4ms/step - loss: 1.1818 - accuracy: 0.5750 - val_loss: 1.1613 - val_accuracy: 0.5956\n",
            "Epoch 28/100\n",
            "1313/1313 [==============================] - 5s 4ms/step - loss: 1.1721 - accuracy: 0.5810 - val_loss: 1.1450 - val_accuracy: 0.6012\n",
            "Epoch 29/100\n",
            "1313/1313 [==============================] - 5s 4ms/step - loss: 1.1606 - accuracy: 0.5887 - val_loss: 1.1400 - val_accuracy: 0.5993\n",
            "Epoch 30/100\n",
            "1313/1313 [==============================] - 5s 4ms/step - loss: 1.1573 - accuracy: 0.5873 - val_loss: 1.1400 - val_accuracy: 0.6074\n",
            "Epoch 31/100\n",
            "1313/1313 [==============================] - 5s 4ms/step - loss: 1.1517 - accuracy: 0.5888 - val_loss: 1.0947 - val_accuracy: 0.6205\n",
            "Epoch 32/100\n",
            "1313/1313 [==============================] - 5s 4ms/step - loss: 1.1395 - accuracy: 0.5959 - val_loss: 1.1317 - val_accuracy: 0.5956\n",
            "Epoch 33/100\n",
            "1313/1313 [==============================] - 5s 4ms/step - loss: 1.1350 - accuracy: 0.5956 - val_loss: 1.6753 - val_accuracy: 0.4297\n",
            "Epoch 34/100\n",
            "1313/1313 [==============================] - 5s 4ms/step - loss: 1.1247 - accuracy: 0.5992 - val_loss: 1.0629 - val_accuracy: 0.6336\n",
            "Epoch 35/100\n",
            "1313/1313 [==============================] - 5s 4ms/step - loss: 1.1219 - accuracy: 0.6007 - val_loss: 1.0572 - val_accuracy: 0.6336\n",
            "Epoch 36/100\n",
            "1313/1313 [==============================] - 5s 4ms/step - loss: 1.1121 - accuracy: 0.6055 - val_loss: 1.3372 - val_accuracy: 0.5229\n",
            "Epoch 37/100\n",
            "1313/1313 [==============================] - 5s 4ms/step - loss: 1.1090 - accuracy: 0.6063 - val_loss: 1.1228 - val_accuracy: 0.6127\n",
            "Epoch 38/100\n",
            "1313/1313 [==============================] - 5s 4ms/step - loss: 1.1039 - accuracy: 0.6054 - val_loss: 1.0802 - val_accuracy: 0.6178\n",
            "Epoch 39/100\n",
            "1313/1313 [==============================] - 5s 4ms/step - loss: 1.0884 - accuracy: 0.6145 - val_loss: 1.0253 - val_accuracy: 0.6446\n",
            "Epoch 40/100\n",
            "1313/1313 [==============================] - 5s 4ms/step - loss: 1.0860 - accuracy: 0.6122 - val_loss: 1.0450 - val_accuracy: 0.6366\n",
            "Epoch 41/100\n",
            "1313/1313 [==============================] - 5s 4ms/step - loss: 1.0796 - accuracy: 0.6190 - val_loss: 1.0249 - val_accuracy: 0.6408\n",
            "Epoch 42/100\n",
            "1313/1313 [==============================] - 5s 4ms/step - loss: 1.0726 - accuracy: 0.6181 - val_loss: 1.0241 - val_accuracy: 0.6433\n",
            "Epoch 43/100\n",
            "1313/1313 [==============================] - 5s 4ms/step - loss: 1.0704 - accuracy: 0.6203 - val_loss: 1.2570 - val_accuracy: 0.5473\n",
            "Epoch 44/100\n",
            "1313/1313 [==============================] - 5s 4ms/step - loss: 1.0646 - accuracy: 0.6210 - val_loss: 1.0456 - val_accuracy: 0.6344\n",
            "Epoch 45/100\n",
            "1313/1313 [==============================] - 5s 4ms/step - loss: 1.0496 - accuracy: 0.6280 - val_loss: 1.0038 - val_accuracy: 0.6511\n",
            "Epoch 46/100\n",
            "1313/1313 [==============================] - 5s 4ms/step - loss: 1.0538 - accuracy: 0.6267 - val_loss: 1.0231 - val_accuracy: 0.6402\n",
            "Epoch 47/100\n",
            "1313/1313 [==============================] - 5s 4ms/step - loss: 1.0418 - accuracy: 0.6321 - val_loss: 1.0688 - val_accuracy: 0.6206\n",
            "Epoch 48/100\n",
            "1313/1313 [==============================] - 5s 4ms/step - loss: 1.0386 - accuracy: 0.6295 - val_loss: 1.0018 - val_accuracy: 0.6492\n",
            "Epoch 49/100\n",
            "1313/1313 [==============================] - 5s 4ms/step - loss: 1.0368 - accuracy: 0.6314 - val_loss: 1.0399 - val_accuracy: 0.6468\n",
            "Epoch 50/100\n",
            "1313/1313 [==============================] - 6s 4ms/step - loss: 1.0325 - accuracy: 0.6335 - val_loss: 0.9980 - val_accuracy: 0.6559\n",
            "Epoch 51/100\n",
            "1313/1313 [==============================] - 6s 4ms/step - loss: 1.0223 - accuracy: 0.6367 - val_loss: 1.0059 - val_accuracy: 0.6529\n",
            "Epoch 52/100\n",
            "1313/1313 [==============================] - 5s 4ms/step - loss: 1.0198 - accuracy: 0.6391 - val_loss: 0.9758 - val_accuracy: 0.6638\n",
            "Epoch 53/100\n",
            "1313/1313 [==============================] - 5s 4ms/step - loss: 1.0122 - accuracy: 0.6402 - val_loss: 0.9848 - val_accuracy: 0.6571\n",
            "Epoch 54/100\n",
            "1313/1313 [==============================] - 5s 4ms/step - loss: 1.0118 - accuracy: 0.6413 - val_loss: 0.9798 - val_accuracy: 0.6611\n",
            "Epoch 55/100\n",
            "1313/1313 [==============================] - 5s 4ms/step - loss: 1.0070 - accuracy: 0.6428 - val_loss: 0.9646 - val_accuracy: 0.6671\n",
            "Epoch 56/100\n",
            "1313/1313 [==============================] - 5s 4ms/step - loss: 0.9967 - accuracy: 0.6452 - val_loss: 1.0144 - val_accuracy: 0.6417\n",
            "Epoch 57/100\n",
            "1313/1313 [==============================] - 5s 4ms/step - loss: 0.9933 - accuracy: 0.6491 - val_loss: 0.9751 - val_accuracy: 0.6617\n",
            "Epoch 58/100\n",
            "1313/1313 [==============================] - 5s 4ms/step - loss: 0.9925 - accuracy: 0.6513 - val_loss: 0.9764 - val_accuracy: 0.6644\n",
            "Epoch 59/100\n",
            "1313/1313 [==============================] - 5s 4ms/step - loss: 0.9825 - accuracy: 0.6520 - val_loss: 0.9887 - val_accuracy: 0.6576\n",
            "Epoch 60/100\n",
            "1313/1313 [==============================] - 5s 4ms/step - loss: 0.9709 - accuracy: 0.6566 - val_loss: 0.9504 - val_accuracy: 0.6733\n",
            "Epoch 61/100\n",
            "1313/1313 [==============================] - 5s 4ms/step - loss: 0.9759 - accuracy: 0.6538 - val_loss: 0.9548 - val_accuracy: 0.6674\n",
            "Epoch 62/100\n",
            "1313/1313 [==============================] - 5s 4ms/step - loss: 0.9719 - accuracy: 0.6562 - val_loss: 0.9859 - val_accuracy: 0.6545\n",
            "Epoch 63/100\n",
            "1313/1313 [==============================] - 5s 4ms/step - loss: 0.9658 - accuracy: 0.6576 - val_loss: 0.9635 - val_accuracy: 0.6604\n",
            "Epoch 64/100\n",
            "1313/1313 [==============================] - 5s 4ms/step - loss: 0.9622 - accuracy: 0.6583 - val_loss: 0.9690 - val_accuracy: 0.6636\n",
            "Epoch 65/100\n",
            "1313/1313 [==============================] - 5s 4ms/step - loss: 0.9613 - accuracy: 0.6565 - val_loss: 0.9572 - val_accuracy: 0.6662\n",
            "Epoch 66/100\n",
            "1313/1313 [==============================] - 5s 4ms/step - loss: 0.9586 - accuracy: 0.6620 - val_loss: 0.9546 - val_accuracy: 0.6638\n",
            "Epoch 67/100\n",
            "1313/1313 [==============================] - 5s 4ms/step - loss: 0.9489 - accuracy: 0.6675 - val_loss: 0.9880 - val_accuracy: 0.6526\n",
            "Epoch 68/100\n",
            "1313/1313 [==============================] - 5s 4ms/step - loss: 0.9427 - accuracy: 0.6675 - val_loss: 0.9287 - val_accuracy: 0.6787\n",
            "Epoch 69/100\n",
            "1313/1313 [==============================] - 5s 4ms/step - loss: 0.9370 - accuracy: 0.6685 - val_loss: 0.9652 - val_accuracy: 0.6583\n",
            "Epoch 70/100\n",
            "1313/1313 [==============================] - 5s 4ms/step - loss: 0.9424 - accuracy: 0.6663 - val_loss: 0.9978 - val_accuracy: 0.6470\n",
            "Epoch 71/100\n",
            "1313/1313 [==============================] - 5s 4ms/step - loss: 0.9319 - accuracy: 0.6688 - val_loss: 0.9842 - val_accuracy: 0.6701\n",
            "Epoch 72/100\n",
            "1313/1313 [==============================] - 5s 4ms/step - loss: 0.9248 - accuracy: 0.6708 - val_loss: 0.9529 - val_accuracy: 0.6695\n",
            "Epoch 73/100\n",
            "1313/1313 [==============================] - 5s 4ms/step - loss: 0.9322 - accuracy: 0.6685 - val_loss: 0.9247 - val_accuracy: 0.6794\n",
            "Epoch 74/100\n",
            "1313/1313 [==============================] - 5s 4ms/step - loss: 0.9172 - accuracy: 0.6748 - val_loss: 1.0651 - val_accuracy: 0.6223\n",
            "Epoch 75/100\n",
            "1313/1313 [==============================] - 5s 4ms/step - loss: 0.9123 - accuracy: 0.6772 - val_loss: 1.0052 - val_accuracy: 0.6442\n",
            "Epoch 76/100\n",
            "1313/1313 [==============================] - 5s 4ms/step - loss: 0.9160 - accuracy: 0.6753 - val_loss: 0.9904 - val_accuracy: 0.6508\n",
            "Epoch 77/100\n",
            "1313/1313 [==============================] - 5s 4ms/step - loss: 0.9111 - accuracy: 0.6780 - val_loss: 0.9291 - val_accuracy: 0.6757\n",
            "Epoch 78/100\n",
            "1313/1313 [==============================] - 5s 4ms/step - loss: 0.9005 - accuracy: 0.6837 - val_loss: 0.9167 - val_accuracy: 0.6867\n",
            "Epoch 79/100\n",
            "1313/1313 [==============================] - 5s 4ms/step - loss: 0.8989 - accuracy: 0.6816 - val_loss: 0.9138 - val_accuracy: 0.6806\n",
            "Epoch 80/100\n",
            "1313/1313 [==============================] - 5s 4ms/step - loss: 0.8978 - accuracy: 0.6834 - val_loss: 0.9351 - val_accuracy: 0.6802\n",
            "Epoch 81/100\n",
            "1313/1313 [==============================] - 5s 4ms/step - loss: 0.8939 - accuracy: 0.6830 - val_loss: 1.1072 - val_accuracy: 0.6075\n",
            "Epoch 82/100\n",
            "1313/1313 [==============================] - 5s 4ms/step - loss: 0.8842 - accuracy: 0.6872 - val_loss: 0.9119 - val_accuracy: 0.6835\n",
            "Epoch 83/100\n",
            "1313/1313 [==============================] - 5s 4ms/step - loss: 0.8816 - accuracy: 0.6851 - val_loss: 0.9559 - val_accuracy: 0.6659\n",
            "Epoch 84/100\n",
            "1313/1313 [==============================] - 5s 4ms/step - loss: 0.8857 - accuracy: 0.6862 - val_loss: 0.9335 - val_accuracy: 0.6717\n",
            "Epoch 85/100\n",
            "1313/1313 [==============================] - 5s 4ms/step - loss: 0.8717 - accuracy: 0.6913 - val_loss: 0.9247 - val_accuracy: 0.6777\n",
            "Epoch 86/100\n",
            "1313/1313 [==============================] - 5s 4ms/step - loss: 0.8704 - accuracy: 0.6895 - val_loss: 0.9300 - val_accuracy: 0.6799\n",
            "Epoch 87/100\n",
            "1313/1313 [==============================] - 5s 4ms/step - loss: 0.8685 - accuracy: 0.6896 - val_loss: 0.9369 - val_accuracy: 0.6775\n",
            "Epoch 88/100\n",
            "1313/1313 [==============================] - 5s 4ms/step - loss: 0.8694 - accuracy: 0.6917 - val_loss: 0.9928 - val_accuracy: 0.6602\n",
            "Epoch 89/100\n",
            "1313/1313 [==============================] - 5s 4ms/step - loss: 0.8605 - accuracy: 0.6935 - val_loss: 0.9001 - val_accuracy: 0.6854\n",
            "Epoch 90/100\n",
            "1313/1313 [==============================] - 5s 4ms/step - loss: 0.8576 - accuracy: 0.6968 - val_loss: 0.9036 - val_accuracy: 0.6900\n",
            "Epoch 91/100\n",
            "1313/1313 [==============================] - 5s 4ms/step - loss: 0.8553 - accuracy: 0.6990 - val_loss: 0.9236 - val_accuracy: 0.6817\n",
            "Epoch 92/100\n",
            "1313/1313 [==============================] - 5s 4ms/step - loss: 0.8509 - accuracy: 0.6989 - val_loss: 0.8850 - val_accuracy: 0.6941\n",
            "Epoch 93/100\n",
            "1313/1313 [==============================] - 5s 4ms/step - loss: 0.8521 - accuracy: 0.6971 - val_loss: 0.9130 - val_accuracy: 0.6789\n",
            "Epoch 94/100\n",
            "1313/1313 [==============================] - 5s 4ms/step - loss: 0.8394 - accuracy: 0.7020 - val_loss: 0.9358 - val_accuracy: 0.6779\n",
            "Epoch 95/100\n",
            "1313/1313 [==============================] - 5s 4ms/step - loss: 0.8362 - accuracy: 0.7053 - val_loss: 0.9133 - val_accuracy: 0.6793\n",
            "Epoch 96/100\n",
            "1313/1313 [==============================] - 5s 4ms/step - loss: 0.8339 - accuracy: 0.7033 - val_loss: 0.9680 - val_accuracy: 0.6674\n",
            "Epoch 97/100\n",
            "1313/1313 [==============================] - 5s 4ms/step - loss: 0.8395 - accuracy: 0.7008 - val_loss: 0.8852 - val_accuracy: 0.6936\n",
            "Epoch 98/100\n",
            "1313/1313 [==============================] - 5s 4ms/step - loss: 0.8331 - accuracy: 0.7064 - val_loss: 0.9420 - val_accuracy: 0.6684\n",
            "Epoch 99/100\n",
            "1313/1313 [==============================] - 5s 4ms/step - loss: 0.8312 - accuracy: 0.7057 - val_loss: 0.9200 - val_accuracy: 0.6790\n",
            "Epoch 100/100\n",
            "1313/1313 [==============================] - 5s 4ms/step - loss: 0.8207 - accuracy: 0.7101 - val_loss: 0.8963 - val_accuracy: 0.6936\n",
            "Model: \"sequential_5\"\n",
            "_________________________________________________________________\n",
            "Layer (type)                 Output Shape              Param #   \n",
            "=================================================================\n",
            "zero_padding2d_5 (ZeroPaddin (None, 34, 34, 3)         0         \n",
            "_________________________________________________________________\n",
            "activation_19 (Activation)   (None, 34, 34, 3)         0         \n",
            "_________________________________________________________________\n",
            "conv2d_8 (Conv2D)            (None, 32, 32, 32)        896       \n",
            "_________________________________________________________________\n",
            "activation_20 (Activation)   (None, 32, 32, 32)        0         \n",
            "_________________________________________________________________\n",
            "batch_normalization_6 (Batch (None, 32, 32, 32)        128       \n",
            "_________________________________________________________________\n",
            "max_pooling2d_8 (MaxPooling2 (None, 16, 16, 32)        0         \n",
            "_________________________________________________________________\n",
            "dropout_4 (Dropout)          (None, 16, 16, 32)        0         \n",
            "_________________________________________________________________\n",
            "flatten_5 (Flatten)          (None, 8192)              0         \n",
            "_________________________________________________________________\n",
            "dense_6 (Dense)              (None, 512)               4194816   \n",
            "_________________________________________________________________\n",
            "activation_21 (Activation)   (None, 512)               0         \n",
            "_________________________________________________________________\n",
            "dropout_5 (Dropout)          (None, 512)               0         \n",
            "_________________________________________________________________\n",
            "dense_7 (Dense)              (None, 10)                5130      \n",
            "_________________________________________________________________\n",
            "activation_22 (Activation)   (None, 10)                0         \n",
            "=================================================================\n",
            "Total params: 4,200,970\n",
            "Trainable params: 4,200,906\n",
            "Non-trainable params: 64\n",
            "_________________________________________________________________\n"
          ],
          "name": "stdout"
        }
      ]
    },
    {
      "cell_type": "code",
      "metadata": {
        "colab": {
          "base_uri": "https://localhost:8080/"
        },
        "id": "1Rkj84TBeYHB",
        "outputId": "8da9a10a-8d59-4ef8-8dd6-fa767cda2cef"
      },
      "source": [
        "plotmodelhistory(history)"
      ],
      "execution_count": null,
      "outputs": [
        {
          "output_type": "display_data",
          "data": {
            "image/png": "[encoded data removed]",
            "text/plain": [
              "<Figure size 1080x360 with 2 Axes>"
            ]
          },
          "metadata": {
            "tags": [],
            "needs_background": "light"
          }
        }
      ]
    },
    {
      "cell_type": "code",
      "metadata": {
        "id": "7p_N933KIGH3"
      },
      "source": [
        "# model.save('best model')"
      ],
      "execution_count": null,
      "outputs": []
    },
    {
      "cell_type": "code",
      "metadata": {
        "colab": {
          "base_uri": "https://localhost:8080/"
        },
        "id": "dZaeKVU_eaoh",
        "outputId": "4f3ceec2-39d0-4e4e-877f-65237c1d73b5"
      },
      "source": [
        "# Score trained model.\n",
        "scores = model.evaluate(xtest, ytest, verbose=1)\n",
        "print('Test loss:', scores[0])\n",
        "print('Test accuracy:', scores[1])"
      ],
      "execution_count": null,
      "outputs": [
        {
          "output_type": "stream",
          "text": [
            "563/563 [==============================] - 1s 2ms/step - loss: 0.8963 - accuracy: 0.6936\n",
            "Test loss: 0.8963325619697571\n",
            "Test accuracy: 0.6936110854148865\n"
          ],
          "name": "stdout"
        }
      ]
    },
    {
      "cell_type": "code",
      "metadata": {
        "colab": {
          "base_uri": "https://localhost:8080/"
        },
        "id": "TpLzWVXMLOlO",
        "outputId": "b7ad015b-a8d2-4074-9f5b-9e9d4aa8e2d2"
      },
      "source": [
        "checkpoint = ModelCheckpoint('bestmodel.h5', verbose=1, monitor='val_loss',save_best_only=True, mode='auto')  \n",
        "\n",
        "model.compile(optimizer='SGD', loss='mean_squared_error', metrics=['accuracy'])\n",
        "\n",
        "model.fit(xtrain, ytrain, epochs=1, validation_split=0.3, callbacks=[checkpoint], verbose = False)"
      ],
      "execution_count": null,
      "outputs": [
        {
          "output_type": "stream",
          "text": [
            "\n",
            "Epoch 00001: val_loss improved from inf to 0.02812, saving model to bestmodel.h5\n"
          ],
          "name": "stdout"
        },
        {
          "output_type": "execute_result",
          "data": {
            "text/plain": [
              "<tensorflow.python.keras.callbacks.History at 0x7fdb81d89358>"
            ]
          },
          "metadata": {
            "tags": []
          },
          "execution_count": 75
        }
      ]
    },
    {
      "cell_type": "code",
      "metadata": {
        "id": "X_YoosxlFZLo"
      },
      "source": [
        "# plot_test_loss = []\n",
        "# plot_test_acc = []\n",
        "# for i in range(4):\n",
        "#   scores = model.evaluate(xtest, ytest, verbose=1)\n",
        "plot_test_loss.append(scores[0])\n",
        "plot_test_acc.append(scores[1]*100)"
      ],
      "execution_count": null,
      "outputs": []
    },
    {
      "cell_type": "markdown",
      "metadata": {
        "id": "Q3Y2gw6QfCmv"
      },
      "source": [
        "## 3. 2 Block Conv2D, BatchNorm, Maxpool"
      ]
    },
    {
      "cell_type": "code",
      "metadata": {
        "id": "vxzbUaLqfLKA"
      },
      "source": [
        "#define the convnet\n",
        "model = Sequential()\n",
        "# CONV => RELU => CONV => RELU => POOL => DROPOUT\n",
        "model.add(ZeroPadding2D(padding=(1, 1), data_format=None))\n",
        "model.add(Activation('relu'))\n",
        "model.add(Conv2D(32, (3, 3)))\n",
        "model.add(Activation('relu'))\n",
        "model.add(BatchNormalization())\n",
        "model.add(MaxPooling2D(pool_size=(2, 2)))\n",
        "#model.add(Dropout(0.5))\n",
        "\n",
        "model.add(Conv2D(64, (3, 3)))\n",
        "model.add(Activation('relu'))\n",
        "model.add(BatchNormalization())\n",
        "model.add(MaxPooling2D(pool_size=(2, 2)))\n",
        "#model.add(Dropout(0.25))\n",
        "model.add(Flatten())\n",
        "# a softmax classifier\n",
        "model.add(Dense(num_classes))\n",
        "model.add(Activation('softmax'))\n",
        "\n",
        "#model.summary()"
      ],
      "execution_count": null,
      "outputs": []
    },
    {
      "cell_type": "code",
      "metadata": {
        "colab": {
          "base_uri": "https://localhost:8080/"
        },
        "id": "ymdZlW7uh4G2",
        "outputId": "6c92e7ab-6018-438a-cf4c-7a0778f9ae7b"
      },
      "source": [
        "# initiate RMSprop optimizer\n",
        "# opt = keras.optimizers.RMSprop(learning_rate=0.001, decay=1e-6)\n",
        "opt = keras.optimizers.SGD(learning_rate=0.001, momentum=0.0, nesterov=False, name=\"SGD\")\n",
        "\n",
        "# Let's train the model using RMSprop\n",
        "model.compile(loss='categorical_crossentropy',\n",
        "              optimizer=opt,\n",
        "              metrics=['accuracy'])\n",
        "\n",
        "history = None  # For recording the history of trainning process.\n",
        "history = model.fit(xtrain, ytrain,\n",
        "      batch_size=batch_size,\n",
        "      epochs=epochs,\n",
        "      validation_data=(xtest, ytest),\n",
        "      shuffle=True)\n",
        "model.summary()"
      ],
      "execution_count": null,
      "outputs": [
        {
          "output_type": "stream",
          "text": [
            "Epoch 1/100\n",
            "1313/1313 [==============================] - 5s 4ms/step - loss: 1.7302 - accuracy: 0.4048 - val_loss: 1.4736 - val_accuracy: 0.4760\n",
            "Epoch 2/100\n",
            "1313/1313 [==============================] - 5s 4ms/step - loss: 1.3622 - accuracy: 0.5172 - val_loss: 1.3827 - val_accuracy: 0.5174\n",
            "Epoch 3/100\n",
            "1313/1313 [==============================] - 5s 4ms/step - loss: 1.2424 - accuracy: 0.5624 - val_loss: 1.3670 - val_accuracy: 0.5232\n",
            "Epoch 4/100\n",
            "1313/1313 [==============================] - 5s 4ms/step - loss: 1.1678 - accuracy: 0.5899 - val_loss: 1.2651 - val_accuracy: 0.5613\n",
            "Epoch 5/100\n",
            "1313/1313 [==============================] - 5s 4ms/step - loss: 1.1060 - accuracy: 0.6120 - val_loss: 1.1505 - val_accuracy: 0.6023\n",
            "Epoch 6/100\n",
            "1313/1313 [==============================] - 5s 4ms/step - loss: 1.0547 - accuracy: 0.6339 - val_loss: 1.2033 - val_accuracy: 0.5914\n",
            "Epoch 7/100\n",
            "1313/1313 [==============================] - 5s 4ms/step - loss: 1.0175 - accuracy: 0.6446 - val_loss: 1.2110 - val_accuracy: 0.5954\n",
            "Epoch 8/100\n",
            "1313/1313 [==============================] - 5s 4ms/step - loss: 0.9776 - accuracy: 0.6625 - val_loss: 1.2906 - val_accuracy: 0.5657\n",
            "Epoch 9/100\n",
            "1313/1313 [==============================] - 6s 4ms/step - loss: 0.9486 - accuracy: 0.6723 - val_loss: 1.1274 - val_accuracy: 0.6124\n",
            "Epoch 10/100\n",
            "1313/1313 [==============================] - 5s 4ms/step - loss: 0.9205 - accuracy: 0.6815 - val_loss: 1.0503 - val_accuracy: 0.6392\n",
            "Epoch 11/100\n",
            "1313/1313 [==============================] - 5s 4ms/step - loss: 0.8958 - accuracy: 0.6921 - val_loss: 1.2292 - val_accuracy: 0.5860\n",
            "Epoch 12/100\n",
            "1313/1313 [==============================] - 5s 4ms/step - loss: 0.8743 - accuracy: 0.7005 - val_loss: 1.0421 - val_accuracy: 0.6446\n",
            "Epoch 13/100\n",
            "1313/1313 [==============================] - 5s 4ms/step - loss: 0.8506 - accuracy: 0.7060 - val_loss: 1.0678 - val_accuracy: 0.6366\n",
            "Epoch 14/100\n",
            "1313/1313 [==============================] - 5s 4ms/step - loss: 0.8338 - accuracy: 0.7113 - val_loss: 1.0621 - val_accuracy: 0.6386\n",
            "Epoch 15/100\n",
            "1313/1313 [==============================] - 5s 4ms/step - loss: 0.8160 - accuracy: 0.7172 - val_loss: 1.0334 - val_accuracy: 0.6466\n",
            "Epoch 16/100\n",
            "1313/1313 [==============================] - 5s 4ms/step - loss: 0.8008 - accuracy: 0.7237 - val_loss: 0.9865 - val_accuracy: 0.6643\n",
            "Epoch 17/100\n",
            "1313/1313 [==============================] - 5s 4ms/step - loss: 0.7814 - accuracy: 0.7315 - val_loss: 1.1930 - val_accuracy: 0.6048\n",
            "Epoch 18/100\n",
            "1313/1313 [==============================] - 5s 4ms/step - loss: 0.7660 - accuracy: 0.7344 - val_loss: 1.1952 - val_accuracy: 0.6194\n",
            "Epoch 19/100\n",
            "1313/1313 [==============================] - 5s 4ms/step - loss: 0.7534 - accuracy: 0.7397 - val_loss: 1.1092 - val_accuracy: 0.6341\n",
            "Epoch 20/100\n",
            "1313/1313 [==============================] - 5s 4ms/step - loss: 0.7403 - accuracy: 0.7443 - val_loss: 1.1184 - val_accuracy: 0.6255\n",
            "Epoch 21/100\n",
            "1313/1313 [==============================] - 5s 4ms/step - loss: 0.7268 - accuracy: 0.7490 - val_loss: 1.0091 - val_accuracy: 0.6576\n",
            "Epoch 22/100\n",
            "1313/1313 [==============================] - 5s 4ms/step - loss: 0.7148 - accuracy: 0.7553 - val_loss: 0.9829 - val_accuracy: 0.6680\n",
            "Epoch 23/100\n",
            "1313/1313 [==============================] - 5s 4ms/step - loss: 0.7024 - accuracy: 0.7577 - val_loss: 1.0266 - val_accuracy: 0.6563\n",
            "Epoch 24/100\n",
            "1313/1313 [==============================] - 5s 4ms/step - loss: 0.6904 - accuracy: 0.7624 - val_loss: 1.1179 - val_accuracy: 0.6376\n",
            "Epoch 25/100\n",
            "1313/1313 [==============================] - 5s 4ms/step - loss: 0.6802 - accuracy: 0.7652 - val_loss: 0.9704 - val_accuracy: 0.6767\n",
            "Epoch 26/100\n",
            "1313/1313 [==============================] - 5s 4ms/step - loss: 0.6685 - accuracy: 0.7700 - val_loss: 0.9647 - val_accuracy: 0.6800\n",
            "Epoch 27/100\n",
            "1313/1313 [==============================] - 5s 4ms/step - loss: 0.6579 - accuracy: 0.7738 - val_loss: 1.0140 - val_accuracy: 0.6627\n",
            "Epoch 28/100\n",
            "1313/1313 [==============================] - 5s 4ms/step - loss: 0.6486 - accuracy: 0.7773 - val_loss: 0.9957 - val_accuracy: 0.6746\n",
            "Epoch 29/100\n",
            "1313/1313 [==============================] - 5s 4ms/step - loss: 0.6363 - accuracy: 0.7822 - val_loss: 1.0084 - val_accuracy: 0.6696\n",
            "Epoch 30/100\n",
            "1313/1313 [==============================] - 5s 4ms/step - loss: 0.6283 - accuracy: 0.7848 - val_loss: 1.1423 - val_accuracy: 0.6224\n",
            "Epoch 31/100\n",
            "1313/1313 [==============================] - 5s 4ms/step - loss: 0.6190 - accuracy: 0.7876 - val_loss: 0.9623 - val_accuracy: 0.6826\n",
            "Epoch 32/100\n",
            "1313/1313 [==============================] - 5s 4ms/step - loss: 0.6091 - accuracy: 0.7922 - val_loss: 1.0941 - val_accuracy: 0.6489\n",
            "Epoch 33/100\n",
            "1313/1313 [==============================] - 5s 4ms/step - loss: 0.5986 - accuracy: 0.7934 - val_loss: 1.0293 - val_accuracy: 0.6651\n",
            "Epoch 34/100\n",
            "1313/1313 [==============================] - 5s 4ms/step - loss: 0.5924 - accuracy: 0.7950 - val_loss: 1.0459 - val_accuracy: 0.6636\n",
            "Epoch 35/100\n",
            "1313/1313 [==============================] - 5s 4ms/step - loss: 0.5861 - accuracy: 0.7991 - val_loss: 0.9510 - val_accuracy: 0.6864\n",
            "Epoch 36/100\n",
            "1313/1313 [==============================] - 5s 4ms/step - loss: 0.5752 - accuracy: 0.8029 - val_loss: 0.9864 - val_accuracy: 0.6816\n",
            "Epoch 37/100\n",
            "1313/1313 [==============================] - 5s 4ms/step - loss: 0.5661 - accuracy: 0.8053 - val_loss: 1.1600 - val_accuracy: 0.6339\n",
            "Epoch 38/100\n",
            "1313/1313 [==============================] - 5s 4ms/step - loss: 0.5590 - accuracy: 0.8080 - val_loss: 1.0644 - val_accuracy: 0.6574\n",
            "Epoch 39/100\n",
            "1313/1313 [==============================] - 5s 4ms/step - loss: 0.5524 - accuracy: 0.8114 - val_loss: 1.0289 - val_accuracy: 0.6705\n",
            "Epoch 40/100\n",
            "1313/1313 [==============================] - 5s 4ms/step - loss: 0.5443 - accuracy: 0.8157 - val_loss: 0.9836 - val_accuracy: 0.6820\n",
            "Epoch 41/100\n",
            "1313/1313 [==============================] - 5s 4ms/step - loss: 0.5352 - accuracy: 0.8180 - val_loss: 1.0520 - val_accuracy: 0.6667\n",
            "Epoch 42/100\n",
            "1313/1313 [==============================] - 5s 4ms/step - loss: 0.5285 - accuracy: 0.8214 - val_loss: 0.9798 - val_accuracy: 0.6879\n",
            "Epoch 43/100\n",
            "1313/1313 [==============================] - 5s 4ms/step - loss: 0.5212 - accuracy: 0.8208 - val_loss: 1.1117 - val_accuracy: 0.6570\n",
            "Epoch 44/100\n",
            "1313/1313 [==============================] - 5s 4ms/step - loss: 0.5140 - accuracy: 0.8233 - val_loss: 1.0650 - val_accuracy: 0.6677\n",
            "Epoch 45/100\n",
            "1313/1313 [==============================] - 5s 4ms/step - loss: 0.5105 - accuracy: 0.8275 - val_loss: 1.2583 - val_accuracy: 0.6331\n",
            "Epoch 46/100\n",
            "1313/1313 [==============================] - 5s 4ms/step - loss: 0.5016 - accuracy: 0.8290 - val_loss: 0.9909 - val_accuracy: 0.6898\n",
            "Epoch 47/100\n",
            "1313/1313 [==============================] - 5s 4ms/step - loss: 0.4931 - accuracy: 0.8321 - val_loss: 1.0954 - val_accuracy: 0.6681\n",
            "Epoch 48/100\n",
            "1313/1313 [==============================] - 5s 4ms/step - loss: 0.4887 - accuracy: 0.8346 - val_loss: 1.1446 - val_accuracy: 0.6509\n",
            "Epoch 49/100\n",
            "1313/1313 [==============================] - 5s 4ms/step - loss: 0.4795 - accuracy: 0.8383 - val_loss: 1.0319 - val_accuracy: 0.6797\n",
            "Epoch 50/100\n",
            "1313/1313 [==============================] - 5s 4ms/step - loss: 0.4755 - accuracy: 0.8390 - val_loss: 1.0352 - val_accuracy: 0.6797\n",
            "Epoch 51/100\n",
            "1313/1313 [==============================] - 5s 4ms/step - loss: 0.4676 - accuracy: 0.8419 - val_loss: 1.0594 - val_accuracy: 0.6690\n",
            "Epoch 52/100\n",
            "1313/1313 [==============================] - 5s 4ms/step - loss: 0.4627 - accuracy: 0.8436 - val_loss: 1.0696 - val_accuracy: 0.6769\n",
            "Epoch 53/100\n",
            "1313/1313 [==============================] - 5s 4ms/step - loss: 0.4546 - accuracy: 0.8455 - val_loss: 1.0365 - val_accuracy: 0.6832\n",
            "Epoch 54/100\n",
            "1313/1313 [==============================] - 5s 4ms/step - loss: 0.4507 - accuracy: 0.8468 - val_loss: 1.0742 - val_accuracy: 0.6746\n",
            "Epoch 55/100\n",
            "1313/1313 [==============================] - 5s 4ms/step - loss: 0.4429 - accuracy: 0.8505 - val_loss: 1.0785 - val_accuracy: 0.6728\n",
            "Epoch 56/100\n",
            "1313/1313 [==============================] - 5s 4ms/step - loss: 0.4386 - accuracy: 0.8545 - val_loss: 1.0056 - val_accuracy: 0.6909\n",
            "Epoch 57/100\n",
            "1313/1313 [==============================] - 5s 4ms/step - loss: 0.4300 - accuracy: 0.8551 - val_loss: 1.5295 - val_accuracy: 0.5885\n",
            "Epoch 58/100\n",
            "1313/1313 [==============================] - 5s 4ms/step - loss: 0.4266 - accuracy: 0.8562 - val_loss: 1.1533 - val_accuracy: 0.6645\n",
            "Epoch 59/100\n",
            "1313/1313 [==============================] - 5s 4ms/step - loss: 0.4211 - accuracy: 0.8584 - val_loss: 1.0353 - val_accuracy: 0.6873\n",
            "Epoch 60/100\n",
            "1313/1313 [==============================] - 5s 4ms/step - loss: 0.4163 - accuracy: 0.8607 - val_loss: 1.0321 - val_accuracy: 0.6897\n",
            "Epoch 61/100\n",
            "1313/1313 [==============================] - 5s 4ms/step - loss: 0.4106 - accuracy: 0.8629 - val_loss: 1.1487 - val_accuracy: 0.6657\n",
            "Epoch 62/100\n",
            "1313/1313 [==============================] - 5s 4ms/step - loss: 0.4024 - accuracy: 0.8652 - val_loss: 1.0817 - val_accuracy: 0.6813\n",
            "Epoch 63/100\n",
            "1313/1313 [==============================] - 5s 4ms/step - loss: 0.4000 - accuracy: 0.8654 - val_loss: 1.4394 - val_accuracy: 0.6012\n",
            "Epoch 64/100\n",
            "1313/1313 [==============================] - 5s 4ms/step - loss: 0.3940 - accuracy: 0.8677 - val_loss: 1.1149 - val_accuracy: 0.6748\n",
            "Epoch 65/100\n",
            "1313/1313 [==============================] - 5s 4ms/step - loss: 0.3904 - accuracy: 0.8682 - val_loss: 1.1389 - val_accuracy: 0.6686\n",
            "Epoch 66/100\n",
            "1313/1313 [==============================] - 6s 4ms/step - loss: 0.3859 - accuracy: 0.8706 - val_loss: 1.0752 - val_accuracy: 0.6839\n",
            "Epoch 67/100\n",
            "1313/1313 [==============================] - 6s 5ms/step - loss: 0.3809 - accuracy: 0.8723 - val_loss: 1.2867 - val_accuracy: 0.6368\n",
            "Epoch 68/100\n",
            "1313/1313 [==============================] - 5s 4ms/step - loss: 0.3730 - accuracy: 0.8758 - val_loss: 1.2198 - val_accuracy: 0.6516\n",
            "Epoch 69/100\n",
            "1313/1313 [==============================] - 5s 4ms/step - loss: 0.3711 - accuracy: 0.8755 - val_loss: 1.1607 - val_accuracy: 0.6611\n",
            "Epoch 70/100\n",
            "1313/1313 [==============================] - 5s 4ms/step - loss: 0.3648 - accuracy: 0.8783 - val_loss: 1.1385 - val_accuracy: 0.6733\n",
            "Epoch 71/100\n",
            "1313/1313 [==============================] - 5s 4ms/step - loss: 0.3608 - accuracy: 0.8796 - val_loss: 1.1362 - val_accuracy: 0.6736\n",
            "Epoch 72/100\n",
            "1313/1313 [==============================] - 5s 4ms/step - loss: 0.3562 - accuracy: 0.8839 - val_loss: 1.1210 - val_accuracy: 0.6786\n",
            "Epoch 73/100\n",
            "1313/1313 [==============================] - 5s 4ms/step - loss: 0.3515 - accuracy: 0.8828 - val_loss: 1.1287 - val_accuracy: 0.6807\n",
            "Epoch 74/100\n",
            "1313/1313 [==============================] - 5s 4ms/step - loss: 0.3468 - accuracy: 0.8867 - val_loss: 1.2063 - val_accuracy: 0.6617\n",
            "Epoch 75/100\n",
            "1313/1313 [==============================] - 5s 4ms/step - loss: 0.3410 - accuracy: 0.8883 - val_loss: 1.1321 - val_accuracy: 0.6757\n",
            "Epoch 76/100\n",
            "1313/1313 [==============================] - 5s 4ms/step - loss: 0.3404 - accuracy: 0.8887 - val_loss: 1.1694 - val_accuracy: 0.6705\n",
            "Epoch 77/100\n",
            "1313/1313 [==============================] - 5s 4ms/step - loss: 0.3354 - accuracy: 0.8896 - val_loss: 1.1453 - val_accuracy: 0.6825\n",
            "Epoch 78/100\n",
            "1313/1313 [==============================] - 5s 4ms/step - loss: 0.3311 - accuracy: 0.8922 - val_loss: 1.2242 - val_accuracy: 0.6597\n",
            "Epoch 79/100\n",
            "1313/1313 [==============================] - 5s 4ms/step - loss: 0.3275 - accuracy: 0.8914 - val_loss: 1.1651 - val_accuracy: 0.6756\n",
            "Epoch 80/100\n",
            "1313/1313 [==============================] - 5s 4ms/step - loss: 0.3221 - accuracy: 0.8942 - val_loss: 1.2469 - val_accuracy: 0.6557\n",
            "Epoch 81/100\n",
            "1313/1313 [==============================] - 6s 4ms/step - loss: 0.3192 - accuracy: 0.8950 - val_loss: 1.2247 - val_accuracy: 0.6636\n",
            "Epoch 82/100\n",
            "1313/1313 [==============================] - 5s 4ms/step - loss: 0.3160 - accuracy: 0.8970 - val_loss: 1.5188 - val_accuracy: 0.6129\n",
            "Epoch 83/100\n",
            "1313/1313 [==============================] - 5s 4ms/step - loss: 0.3115 - accuracy: 0.8992 - val_loss: 1.2182 - val_accuracy: 0.6753\n",
            "Epoch 84/100\n",
            "1313/1313 [==============================] - 5s 4ms/step - loss: 0.3071 - accuracy: 0.9006 - val_loss: 1.1982 - val_accuracy: 0.6733\n",
            "Epoch 85/100\n",
            "1313/1313 [==============================] - 5s 4ms/step - loss: 0.3021 - accuracy: 0.9024 - val_loss: 1.2583 - val_accuracy: 0.6673\n",
            "Epoch 86/100\n",
            "1313/1313 [==============================] - 5s 4ms/step - loss: 0.3033 - accuracy: 0.9015 - val_loss: 1.2339 - val_accuracy: 0.6748\n",
            "Epoch 87/100\n",
            "1313/1313 [==============================] - 5s 4ms/step - loss: 0.2943 - accuracy: 0.9048 - val_loss: 1.3884 - val_accuracy: 0.6429\n",
            "Epoch 88/100\n",
            "1313/1313 [==============================] - 5s 4ms/step - loss: 0.2931 - accuracy: 0.9038 - val_loss: 1.2371 - val_accuracy: 0.6778\n",
            "Epoch 89/100\n",
            "1313/1313 [==============================] - 5s 4ms/step - loss: 0.2891 - accuracy: 0.9066 - val_loss: 1.2229 - val_accuracy: 0.6762\n",
            "Epoch 90/100\n",
            "1313/1313 [==============================] - 5s 4ms/step - loss: 0.2839 - accuracy: 0.9081 - val_loss: 1.3299 - val_accuracy: 0.6594\n",
            "Epoch 91/100\n",
            "1313/1313 [==============================] - 6s 4ms/step - loss: 0.2830 - accuracy: 0.9086 - val_loss: 1.2417 - val_accuracy: 0.6732\n",
            "Epoch 92/100\n",
            "1313/1313 [==============================] - 5s 4ms/step - loss: 0.2781 - accuracy: 0.9109 - val_loss: 1.2627 - val_accuracy: 0.6745\n",
            "Epoch 93/100\n",
            "1313/1313 [==============================] - 5s 4ms/step - loss: 0.2780 - accuracy: 0.9119 - val_loss: 1.2940 - val_accuracy: 0.6692\n",
            "Epoch 94/100\n",
            "1313/1313 [==============================] - 5s 4ms/step - loss: 0.2733 - accuracy: 0.9119 - val_loss: 1.4197 - val_accuracy: 0.6554\n",
            "Epoch 95/100\n",
            "1313/1313 [==============================] - 5s 4ms/step - loss: 0.2697 - accuracy: 0.9132 - val_loss: 1.3498 - val_accuracy: 0.6536\n",
            "Epoch 96/100\n",
            "1313/1313 [==============================] - 5s 4ms/step - loss: 0.2681 - accuracy: 0.9146 - val_loss: 1.2658 - val_accuracy: 0.6751\n",
            "Epoch 97/100\n",
            "1313/1313 [==============================] - 5s 4ms/step - loss: 0.2630 - accuracy: 0.9166 - val_loss: 1.2579 - val_accuracy: 0.6752\n",
            "Epoch 98/100\n",
            "1313/1313 [==============================] - 5s 4ms/step - loss: 0.2598 - accuracy: 0.9175 - val_loss: 1.3528 - val_accuracy: 0.6602\n",
            "Epoch 99/100\n",
            "1313/1313 [==============================] - 5s 4ms/step - loss: 0.2571 - accuracy: 0.9183 - val_loss: 1.3373 - val_accuracy: 0.6687\n",
            "Epoch 100/100\n",
            "1313/1313 [==============================] - 5s 4ms/step - loss: 0.2556 - accuracy: 0.9192 - val_loss: 1.3454 - val_accuracy: 0.6594\n",
            "Model: \"sequential_6\"\n",
            "_________________________________________________________________\n",
            "Layer (type)                 Output Shape              Param #   \n",
            "=================================================================\n",
            "zero_padding2d_6 (ZeroPaddin (None, 34, 34, 3)         0         \n",
            "_________________________________________________________________\n",
            "activation_23 (Activation)   (None, 34, 34, 3)         0         \n",
            "_________________________________________________________________\n",
            "conv2d_9 (Conv2D)            (None, 32, 32, 32)        896       \n",
            "_________________________________________________________________\n",
            "activation_24 (Activation)   (None, 32, 32, 32)        0         \n",
            "_________________________________________________________________\n",
            "batch_normalization_7 (Batch (None, 32, 32, 32)        128       \n",
            "_________________________________________________________________\n",
            "max_pooling2d_9 (MaxPooling2 (None, 16, 16, 32)        0         \n",
            "_________________________________________________________________\n",
            "conv2d_10 (Conv2D)           (None, 14, 14, 64)        18496     \n",
            "_________________________________________________________________\n",
            "activation_25 (Activation)   (None, 14, 14, 64)        0         \n",
            "_________________________________________________________________\n",
            "batch_normalization_8 (Batch (None, 14, 14, 64)        256       \n",
            "_________________________________________________________________\n",
            "max_pooling2d_10 (MaxPooling (None, 7, 7, 64)          0         \n",
            "_________________________________________________________________\n",
            "flatten_6 (Flatten)          (None, 3136)              0         \n",
            "_________________________________________________________________\n",
            "dense_8 (Dense)              (None, 10)                31370     \n",
            "_________________________________________________________________\n",
            "activation_26 (Activation)   (None, 10)                0         \n",
            "=================================================================\n",
            "Total params: 51,146\n",
            "Trainable params: 50,954\n",
            "Non-trainable params: 192\n",
            "_________________________________________________________________\n"
          ],
          "name": "stdout"
        }
      ]
    },
    {
      "cell_type": "code",
      "metadata": {
        "colab": {
          "base_uri": "https://localhost:8080/"
        },
        "id": "Mz-V95RVh8JQ",
        "outputId": "16fe5437-08eb-49f8-b9c8-b7950860b84f"
      },
      "source": [
        "plotmodelhistory(history)"
      ],
      "execution_count": null,
      "outputs": [
        {
          "output_type": "display_data",
          "data": {
            "image/png": "[encoded data removed]",
            "text/plain": [
              "<Figure size 1080x360 with 2 Axes>"
            ]
          },
          "metadata": {
            "tags": [],
            "needs_background": "light"
          }
        }
      ]
    },
    {
      "cell_type": "code",
      "metadata": {
        "colab": {
          "base_uri": "https://localhost:8080/"
        },
        "id": "67GraW0dh918",
        "outputId": "0e66d819-939f-4e8e-eb3e-c6ca50749498"
      },
      "source": [
        "# Score trained model.\n",
        "scores = model.evaluate(xtest, ytest, verbose=1)\n",
        "print('Test loss:', scores[0])\n",
        "print('Test accuracy:', scores[1])"
      ],
      "execution_count": null,
      "outputs": [
        {
          "output_type": "stream",
          "text": [
            "563/563 [==============================] - 1s 2ms/step - loss: 1.3454 - accuracy: 0.6594\n",
            "Test loss: 1.345404028892517\n",
            "Test accuracy: 0.6593888998031616\n"
          ],
          "name": "stdout"
        }
      ]
    },
    {
      "cell_type": "code",
      "metadata": {
        "id": "FOnOQQ8cFtPe"
      },
      "source": [
        "# plot_test_loss = []\n",
        "# plot_test_acc = []\n",
        "# for i in range(4):\n",
        "#   scores = model.evaluate(xtest, ytest, verbose=1)\n",
        "plot_test_loss.append(scores[0])\n",
        "plot_test_acc.append(scores[1]*100)"
      ],
      "execution_count": null,
      "outputs": []
    },
    {
      "cell_type": "markdown",
      "metadata": {
        "id": "ZLxkxmK2iVd-"
      },
      "source": [
        "## 4. 3 Blocks ..."
      ]
    },
    {
      "cell_type": "code",
      "metadata": {
        "id": "W1KBN_AwiaF1"
      },
      "source": [
        "#define the convnet\n",
        "model = Sequential()\n",
        "# zeropadding => RELU => CONV => RELU => POOL => DROPOUT\n",
        "model.add(ZeroPadding2D(padding=(1, 1), data_format=None))\n",
        "model.add(Activation('relu'))\n",
        "model.add(Conv2D(32, (3, 3)))\n",
        "model.add(Activation('relu'))\n",
        "model.add(BatchNormalization())\n",
        "model.add(MaxPooling2D(pool_size=(2, 2)))\n",
        "#model.add(Dropout(0.5))\n",
        "\n",
        "model.add(Conv2D(64, (3, 3)))\n",
        "model.add(Activation('relu'))\n",
        "model.add(BatchNormalization())\n",
        "model.add(MaxPooling2D(pool_size=(2, 2)))\n",
        "\n",
        "model.add(Conv2D(64, (3, 3)))\n",
        "model.add(Activation('relu'))\n",
        "model.add(BatchNormalization())\n",
        "model.add(MaxPooling2D(pool_size=(2, 2)))\n",
        "\n",
        "#model.add(Dropout(0.25))\n",
        "model.add(Flatten())\n",
        "# a softmax classifier\n",
        "model.add(Dense(num_classes))\n",
        "model.add(Activation('softmax'))\n",
        "\n",
        "#model.summary()"
      ],
      "execution_count": null,
      "outputs": []
    },
    {
      "cell_type": "code",
      "metadata": {
        "colab": {
          "base_uri": "https://localhost:8080/"
        },
        "id": "mLSkH86ZicmS",
        "outputId": "ebe08db7-91d7-4b5f-dd89-6931605b6a18"
      },
      "source": [
        "# initiate RMSprop optimizer\n",
        "# opt = keras.optimizers.RMSprop(learning_rate=0.001, decay=1e-6)\n",
        "opt = keras.optimizers.SGD(learning_rate=0.001, momentum=0.0, nesterov=False, name=\"SGD\")\n",
        "\n",
        "# Let's train the model using RMSprop\n",
        "model.compile(loss='categorical_crossentropy',\n",
        "              optimizer=opt,\n",
        "              metrics=['accuracy'])\n",
        "\n",
        "history = None  # For recording the history of trainning process.\n",
        "history = model.fit(xtrain, ytrain,\n",
        "      batch_size=batch_size,\n",
        "      epochs=epochs,\n",
        "      validation_data=(xtest, ytest),\n",
        "      shuffle=True)\n",
        "model.summary()"
      ],
      "execution_count": null,
      "outputs": [
        {
          "output_type": "stream",
          "text": [
            "Epoch 1/100\n",
            "1313/1313 [==============================] - 6s 4ms/step - loss: 1.8439 - accuracy: 0.3574 - val_loss: 1.6127 - val_accuracy: 0.4232\n",
            "Epoch 2/100\n",
            "1313/1313 [==============================] - 5s 4ms/step - loss: 1.4999 - accuracy: 0.4643 - val_loss: 1.4631 - val_accuracy: 0.4791\n",
            "Epoch 3/100\n",
            "1313/1313 [==============================] - 5s 4ms/step - loss: 1.3756 - accuracy: 0.5121 - val_loss: 1.3958 - val_accuracy: 0.5063\n",
            "Epoch 4/100\n",
            "1313/1313 [==============================] - 5s 4ms/step - loss: 1.2911 - accuracy: 0.5430 - val_loss: 1.3357 - val_accuracy: 0.5314\n",
            "Epoch 5/100\n",
            "1313/1313 [==============================] - 5s 4ms/step - loss: 1.2286 - accuracy: 0.5662 - val_loss: 1.3963 - val_accuracy: 0.5083\n",
            "Epoch 6/100\n",
            "1313/1313 [==============================] - 6s 4ms/step - loss: 1.1769 - accuracy: 0.5863 - val_loss: 1.5946 - val_accuracy: 0.4726\n",
            "Epoch 7/100\n",
            "1313/1313 [==============================] - 5s 4ms/step - loss: 1.1356 - accuracy: 0.6016 - val_loss: 1.2013 - val_accuracy: 0.5808\n",
            "Epoch 8/100\n",
            "1313/1313 [==============================] - 5s 4ms/step - loss: 1.0992 - accuracy: 0.6138 - val_loss: 1.2178 - val_accuracy: 0.5712\n",
            "Epoch 9/100\n",
            "1313/1313 [==============================] - 5s 4ms/step - loss: 1.0693 - accuracy: 0.6268 - val_loss: 1.2064 - val_accuracy: 0.5783\n",
            "Epoch 10/100\n",
            "1313/1313 [==============================] - 5s 4ms/step - loss: 1.0441 - accuracy: 0.6339 - val_loss: 1.2301 - val_accuracy: 0.5673\n",
            "Epoch 11/100\n",
            "1313/1313 [==============================] - 6s 4ms/step - loss: 1.0168 - accuracy: 0.6479 - val_loss: 1.1206 - val_accuracy: 0.6094\n",
            "Epoch 12/100\n",
            "1313/1313 [==============================] - 5s 4ms/step - loss: 0.9908 - accuracy: 0.6559 - val_loss: 1.1264 - val_accuracy: 0.6086\n",
            "Epoch 13/100\n",
            "1313/1313 [==============================] - 5s 4ms/step - loss: 0.9716 - accuracy: 0.6637 - val_loss: 1.1605 - val_accuracy: 0.5957\n",
            "Epoch 14/100\n",
            "1313/1313 [==============================] - 5s 4ms/step - loss: 0.9508 - accuracy: 0.6719 - val_loss: 1.3225 - val_accuracy: 0.5577\n",
            "Epoch 15/100\n",
            "1313/1313 [==============================] - 6s 4ms/step - loss: 0.9306 - accuracy: 0.6784 - val_loss: 1.1394 - val_accuracy: 0.6076\n",
            "Epoch 16/100\n",
            "1313/1313 [==============================] - 5s 4ms/step - loss: 0.9156 - accuracy: 0.6840 - val_loss: 1.1236 - val_accuracy: 0.6123\n",
            "Epoch 17/100\n",
            "1313/1313 [==============================] - 5s 4ms/step - loss: 0.8987 - accuracy: 0.6891 - val_loss: 1.1866 - val_accuracy: 0.6031\n",
            "Epoch 18/100\n",
            "1313/1313 [==============================] - 5s 4ms/step - loss: 0.8803 - accuracy: 0.6961 - val_loss: 1.0965 - val_accuracy: 0.6216\n",
            "Epoch 19/100\n",
            "1313/1313 [==============================] - 5s 4ms/step - loss: 0.8640 - accuracy: 0.7018 - val_loss: 1.3898 - val_accuracy: 0.5422\n",
            "Epoch 20/100\n",
            "1313/1313 [==============================] - 5s 4ms/step - loss: 0.8509 - accuracy: 0.7057 - val_loss: 1.5844 - val_accuracy: 0.4934\n",
            "Epoch 21/100\n",
            "1313/1313 [==============================] - 5s 4ms/step - loss: 0.8338 - accuracy: 0.7138 - val_loss: 1.0833 - val_accuracy: 0.6280\n",
            "Epoch 22/100\n",
            "1313/1313 [==============================] - 5s 4ms/step - loss: 0.8191 - accuracy: 0.7192 - val_loss: 1.2924 - val_accuracy: 0.5751\n",
            "Epoch 23/100\n",
            "1313/1313 [==============================] - 6s 4ms/step - loss: 0.8092 - accuracy: 0.7206 - val_loss: 1.0271 - val_accuracy: 0.6478\n",
            "Epoch 24/100\n",
            "1313/1313 [==============================] - 6s 5ms/step - loss: 0.7938 - accuracy: 0.7268 - val_loss: 1.0517 - val_accuracy: 0.6401\n",
            "Epoch 25/100\n",
            "1313/1313 [==============================] - 5s 4ms/step - loss: 0.7816 - accuracy: 0.7313 - val_loss: 1.1354 - val_accuracy: 0.6202\n",
            "Epoch 26/100\n",
            "1313/1313 [==============================] - 5s 4ms/step - loss: 0.7704 - accuracy: 0.7353 - val_loss: 1.0744 - val_accuracy: 0.6349\n",
            "Epoch 27/100\n",
            "1313/1313 [==============================] - 5s 4ms/step - loss: 0.7575 - accuracy: 0.7398 - val_loss: 1.1821 - val_accuracy: 0.6013\n",
            "Epoch 28/100\n",
            "1313/1313 [==============================] - 6s 4ms/step - loss: 0.7431 - accuracy: 0.7415 - val_loss: 1.1296 - val_accuracy: 0.6256\n",
            "Epoch 29/100\n",
            "1313/1313 [==============================] - 6s 4ms/step - loss: 0.7362 - accuracy: 0.7483 - val_loss: 1.0406 - val_accuracy: 0.6493\n",
            "Epoch 30/100\n",
            "1313/1313 [==============================] - 5s 4ms/step - loss: 0.7207 - accuracy: 0.7524 - val_loss: 1.0894 - val_accuracy: 0.6355\n",
            "Epoch 31/100\n",
            "1313/1313 [==============================] - 5s 4ms/step - loss: 0.7094 - accuracy: 0.7568 - val_loss: 1.0031 - val_accuracy: 0.6640\n",
            "Epoch 32/100\n",
            "1313/1313 [==============================] - 5s 4ms/step - loss: 0.6990 - accuracy: 0.7597 - val_loss: 1.0448 - val_accuracy: 0.6540\n",
            "Epoch 33/100\n",
            "1313/1313 [==============================] - 6s 4ms/step - loss: 0.6881 - accuracy: 0.7636 - val_loss: 1.0256 - val_accuracy: 0.6551\n",
            "Epoch 34/100\n",
            "1313/1313 [==============================] - 5s 4ms/step - loss: 0.6787 - accuracy: 0.7684 - val_loss: 1.2007 - val_accuracy: 0.6093\n",
            "Epoch 35/100\n",
            "1313/1313 [==============================] - 5s 4ms/step - loss: 0.6687 - accuracy: 0.7703 - val_loss: 1.1882 - val_accuracy: 0.6182\n",
            "Epoch 36/100\n",
            "1313/1313 [==============================] - 6s 4ms/step - loss: 0.6595 - accuracy: 0.7756 - val_loss: 1.2927 - val_accuracy: 0.5876\n",
            "Epoch 37/100\n",
            "1313/1313 [==============================] - 6s 4ms/step - loss: 0.6506 - accuracy: 0.7775 - val_loss: 1.0263 - val_accuracy: 0.6602\n",
            "Epoch 38/100\n",
            "1313/1313 [==============================] - 5s 4ms/step - loss: 0.6392 - accuracy: 0.7817 - val_loss: 1.1450 - val_accuracy: 0.6302\n",
            "Epoch 39/100\n",
            "1313/1313 [==============================] - 5s 4ms/step - loss: 0.6305 - accuracy: 0.7841 - val_loss: 1.0522 - val_accuracy: 0.6562\n",
            "Epoch 40/100\n",
            "1313/1313 [==============================] - 5s 4ms/step - loss: 0.6210 - accuracy: 0.7887 - val_loss: 1.0679 - val_accuracy: 0.6499\n",
            "Epoch 41/100\n",
            "1313/1313 [==============================] - 5s 4ms/step - loss: 0.6120 - accuracy: 0.7881 - val_loss: 1.2419 - val_accuracy: 0.6036\n",
            "Epoch 42/100\n",
            "1313/1313 [==============================] - 5s 4ms/step - loss: 0.6027 - accuracy: 0.7960 - val_loss: 1.0754 - val_accuracy: 0.6540\n",
            "Epoch 43/100\n",
            "1313/1313 [==============================] - 5s 4ms/step - loss: 0.5946 - accuracy: 0.7946 - val_loss: 1.0618 - val_accuracy: 0.6558\n",
            "Epoch 44/100\n",
            "1313/1313 [==============================] - 6s 4ms/step - loss: 0.5851 - accuracy: 0.8015 - val_loss: 1.0290 - val_accuracy: 0.6661\n",
            "Epoch 45/100\n",
            "1313/1313 [==============================] - 6s 4ms/step - loss: 0.5743 - accuracy: 0.8044 - val_loss: 1.1196 - val_accuracy: 0.6468\n",
            "Epoch 46/100\n",
            "1313/1313 [==============================] - 5s 4ms/step - loss: 0.5696 - accuracy: 0.8053 - val_loss: 1.0924 - val_accuracy: 0.6477\n",
            "Epoch 47/100\n",
            "1313/1313 [==============================] - 5s 4ms/step - loss: 0.5608 - accuracy: 0.8075 - val_loss: 1.0404 - val_accuracy: 0.6656\n",
            "Epoch 48/100\n",
            "1313/1313 [==============================] - 5s 4ms/step - loss: 0.5538 - accuracy: 0.8120 - val_loss: 1.1801 - val_accuracy: 0.6366\n",
            "Epoch 49/100\n",
            "1313/1313 [==============================] - 5s 4ms/step - loss: 0.5441 - accuracy: 0.8149 - val_loss: 1.0804 - val_accuracy: 0.6636\n",
            "Epoch 50/100\n",
            "1313/1313 [==============================] - 5s 4ms/step - loss: 0.5357 - accuracy: 0.8195 - val_loss: 1.0737 - val_accuracy: 0.6623\n",
            "Epoch 51/100\n",
            "1313/1313 [==============================] - 5s 4ms/step - loss: 0.5280 - accuracy: 0.8201 - val_loss: 1.1838 - val_accuracy: 0.6462\n",
            "Epoch 52/100\n",
            "1313/1313 [==============================] - 5s 4ms/step - loss: 0.5193 - accuracy: 0.8231 - val_loss: 1.0657 - val_accuracy: 0.6652\n",
            "Epoch 53/100\n",
            "1313/1313 [==============================] - 5s 4ms/step - loss: 0.5126 - accuracy: 0.8259 - val_loss: 1.0673 - val_accuracy: 0.6671\n",
            "Epoch 54/100\n",
            "1313/1313 [==============================] - 5s 4ms/step - loss: 0.5036 - accuracy: 0.8304 - val_loss: 1.0555 - val_accuracy: 0.6702\n",
            "Epoch 55/100\n",
            "1313/1313 [==============================] - 5s 4ms/step - loss: 0.4965 - accuracy: 0.8312 - val_loss: 1.2004 - val_accuracy: 0.6391\n",
            "Epoch 56/100\n",
            "1313/1313 [==============================] - 6s 4ms/step - loss: 0.4889 - accuracy: 0.8365 - val_loss: 1.1475 - val_accuracy: 0.6459\n",
            "Epoch 57/100\n",
            "1313/1313 [==============================] - 5s 4ms/step - loss: 0.4790 - accuracy: 0.8374 - val_loss: 1.1422 - val_accuracy: 0.6522\n",
            "Epoch 58/100\n",
            "1313/1313 [==============================] - 6s 4ms/step - loss: 0.4737 - accuracy: 0.8378 - val_loss: 1.1014 - val_accuracy: 0.6609\n",
            "Epoch 59/100\n",
            "1313/1313 [==============================] - 6s 4ms/step - loss: 0.4686 - accuracy: 0.8402 - val_loss: 1.1692 - val_accuracy: 0.6509\n",
            "Epoch 60/100\n",
            "1313/1313 [==============================] - 5s 4ms/step - loss: 0.4605 - accuracy: 0.8444 - val_loss: 1.2104 - val_accuracy: 0.6443\n",
            "Epoch 61/100\n",
            "1313/1313 [==============================] - 5s 4ms/step - loss: 0.4519 - accuracy: 0.8478 - val_loss: 1.1949 - val_accuracy: 0.6526\n",
            "Epoch 62/100\n",
            "1313/1313 [==============================] - 6s 4ms/step - loss: 0.4455 - accuracy: 0.8506 - val_loss: 1.2429 - val_accuracy: 0.6383\n",
            "Epoch 63/100\n",
            "1313/1313 [==============================] - 5s 4ms/step - loss: 0.4361 - accuracy: 0.8542 - val_loss: 1.1782 - val_accuracy: 0.6502\n",
            "Epoch 64/100\n",
            "1313/1313 [==============================] - 6s 4ms/step - loss: 0.4315 - accuracy: 0.8544 - val_loss: 1.1482 - val_accuracy: 0.6567\n",
            "Epoch 65/100\n",
            "1313/1313 [==============================] - 5s 4ms/step - loss: 0.4237 - accuracy: 0.8580 - val_loss: 1.1410 - val_accuracy: 0.6649\n",
            "Epoch 66/100\n",
            "1313/1313 [==============================] - 6s 4ms/step - loss: 0.4177 - accuracy: 0.8583 - val_loss: 1.2237 - val_accuracy: 0.6423\n",
            "Epoch 67/100\n",
            "1313/1313 [==============================] - 6s 4ms/step - loss: 0.4076 - accuracy: 0.8646 - val_loss: 1.1624 - val_accuracy: 0.6577\n",
            "Epoch 68/100\n",
            "1313/1313 [==============================] - 6s 4ms/step - loss: 0.4058 - accuracy: 0.8650 - val_loss: 1.2013 - val_accuracy: 0.6547\n",
            "Epoch 69/100\n",
            "1313/1313 [==============================] - 6s 4ms/step - loss: 0.3988 - accuracy: 0.8647 - val_loss: 1.3248 - val_accuracy: 0.6237\n",
            "Epoch 70/100\n",
            "1313/1313 [==============================] - 6s 4ms/step - loss: 0.3924 - accuracy: 0.8685 - val_loss: 1.2381 - val_accuracy: 0.6481\n",
            "Epoch 71/100\n",
            "1313/1313 [==============================] - 5s 4ms/step - loss: 0.3830 - accuracy: 0.8721 - val_loss: 1.2350 - val_accuracy: 0.6427\n",
            "Epoch 72/100\n",
            "1313/1313 [==============================] - 6s 4ms/step - loss: 0.3770 - accuracy: 0.8725 - val_loss: 1.1887 - val_accuracy: 0.6565\n",
            "Epoch 73/100\n",
            "1313/1313 [==============================] - 6s 4ms/step - loss: 0.3742 - accuracy: 0.8741 - val_loss: 1.1842 - val_accuracy: 0.6626\n",
            "Epoch 74/100\n",
            "1313/1313 [==============================] - 6s 4ms/step - loss: 0.3653 - accuracy: 0.8787 - val_loss: 1.2181 - val_accuracy: 0.6499\n",
            "Epoch 75/100\n",
            "1313/1313 [==============================] - 6s 4ms/step - loss: 0.3610 - accuracy: 0.8792 - val_loss: 1.2424 - val_accuracy: 0.6476\n",
            "Epoch 76/100\n",
            "1313/1313 [==============================] - 5s 4ms/step - loss: 0.3534 - accuracy: 0.8834 - val_loss: 1.3651 - val_accuracy: 0.6223\n",
            "Epoch 77/100\n",
            "1313/1313 [==============================] - 6s 4ms/step - loss: 0.3488 - accuracy: 0.8845 - val_loss: 1.2007 - val_accuracy: 0.6661\n",
            "Epoch 78/100\n",
            "1313/1313 [==============================] - 6s 4ms/step - loss: 0.3441 - accuracy: 0.8868 - val_loss: 1.3293 - val_accuracy: 0.6337\n",
            "Epoch 79/100\n",
            "1313/1313 [==============================] - 6s 4ms/step - loss: 0.3369 - accuracy: 0.8885 - val_loss: 1.3492 - val_accuracy: 0.6326\n",
            "Epoch 80/100\n",
            "1313/1313 [==============================] - 6s 5ms/step - loss: 0.3325 - accuracy: 0.8903 - val_loss: 1.2876 - val_accuracy: 0.6484\n",
            "Epoch 81/100\n",
            "1313/1313 [==============================] - 6s 4ms/step - loss: 0.3304 - accuracy: 0.8899 - val_loss: 1.2282 - val_accuracy: 0.6618\n",
            "Epoch 82/100\n",
            "1313/1313 [==============================] - 5s 4ms/step - loss: 0.3245 - accuracy: 0.8925 - val_loss: 1.2457 - val_accuracy: 0.6597\n",
            "Epoch 83/100\n",
            "1313/1313 [==============================] - 5s 4ms/step - loss: 0.3139 - accuracy: 0.8972 - val_loss: 1.3477 - val_accuracy: 0.6384\n",
            "Epoch 84/100\n",
            "1313/1313 [==============================] - 6s 4ms/step - loss: 0.3105 - accuracy: 0.8981 - val_loss: 1.2974 - val_accuracy: 0.6502\n",
            "Epoch 85/100\n",
            "1313/1313 [==============================] - 6s 4ms/step - loss: 0.3078 - accuracy: 0.8979 - val_loss: 1.3135 - val_accuracy: 0.6459\n",
            "Epoch 86/100\n",
            "1313/1313 [==============================] - 6s 4ms/step - loss: 0.3022 - accuracy: 0.8999 - val_loss: 1.3268 - val_accuracy: 0.6503\n",
            "Epoch 87/100\n",
            "1313/1313 [==============================] - 6s 4ms/step - loss: 0.2931 - accuracy: 0.9044 - val_loss: 1.3127 - val_accuracy: 0.6491\n",
            "Epoch 88/100\n",
            "1313/1313 [==============================] - 6s 4ms/step - loss: 0.2893 - accuracy: 0.9049 - val_loss: 1.3492 - val_accuracy: 0.6475\n",
            "Epoch 89/100\n",
            "1313/1313 [==============================] - 6s 4ms/step - loss: 0.2870 - accuracy: 0.9053 - val_loss: 1.3184 - val_accuracy: 0.6535\n",
            "Epoch 90/100\n",
            "1313/1313 [==============================] - 5s 4ms/step - loss: 0.2830 - accuracy: 0.9076 - val_loss: 1.3827 - val_accuracy: 0.6411\n",
            "Epoch 91/100\n",
            "1313/1313 [==============================] - 6s 4ms/step - loss: 0.2782 - accuracy: 0.9099 - val_loss: 1.3807 - val_accuracy: 0.6454\n",
            "Epoch 92/100\n",
            "1313/1313 [==============================] - 6s 4ms/step - loss: 0.2752 - accuracy: 0.9113 - val_loss: 1.4955 - val_accuracy: 0.6207\n",
            "Epoch 93/100\n",
            "1313/1313 [==============================] - 6s 4ms/step - loss: 0.2664 - accuracy: 0.9130 - val_loss: 1.3399 - val_accuracy: 0.6532\n",
            "Epoch 94/100\n",
            "1313/1313 [==============================] - 5s 4ms/step - loss: 0.2650 - accuracy: 0.9135 - val_loss: 1.5028 - val_accuracy: 0.6304\n",
            "Epoch 95/100\n",
            "1313/1313 [==============================] - 5s 4ms/step - loss: 0.2599 - accuracy: 0.9154 - val_loss: 1.7704 - val_accuracy: 0.5800\n",
            "Epoch 96/100\n",
            "1313/1313 [==============================] - 6s 4ms/step - loss: 0.2555 - accuracy: 0.9158 - val_loss: 1.3925 - val_accuracy: 0.6401\n",
            "Epoch 97/100\n",
            "1313/1313 [==============================] - 6s 4ms/step - loss: 0.2505 - accuracy: 0.9203 - val_loss: 1.6869 - val_accuracy: 0.6048\n",
            "Epoch 98/100\n",
            "1313/1313 [==============================] - 6s 4ms/step - loss: 0.2458 - accuracy: 0.9211 - val_loss: 1.8086 - val_accuracy: 0.5934\n",
            "Epoch 99/100\n",
            "1313/1313 [==============================] - 6s 4ms/step - loss: 0.2444 - accuracy: 0.9206 - val_loss: 1.3935 - val_accuracy: 0.6499\n",
            "Epoch 100/100\n",
            "1313/1313 [==============================] - 6s 4ms/step - loss: 0.2359 - accuracy: 0.9245 - val_loss: 1.7606 - val_accuracy: 0.6079\n",
            "Model: \"sequential_7\"\n",
            "_________________________________________________________________\n",
            "Layer (type)                 Output Shape              Param #   \n",
            "=================================================================\n",
            "zero_padding2d_7 (ZeroPaddin (None, 34, 34, 3)         0         \n",
            "_________________________________________________________________\n",
            "activation_27 (Activation)   (None, 34, 34, 3)         0         \n",
            "_________________________________________________________________\n",
            "conv2d_11 (Conv2D)           (None, 32, 32, 32)        896       \n",
            "_________________________________________________________________\n",
            "activation_28 (Activation)   (None, 32, 32, 32)        0         \n",
            "_________________________________________________________________\n",
            "batch_normalization_9 (Batch (None, 32, 32, 32)        128       \n",
            "_________________________________________________________________\n",
            "max_pooling2d_11 (MaxPooling (None, 16, 16, 32)        0         \n",
            "_________________________________________________________________\n",
            "conv2d_12 (Conv2D)           (None, 14, 14, 64)        18496     \n",
            "_________________________________________________________________\n",
            "activation_29 (Activation)   (None, 14, 14, 64)        0         \n",
            "_________________________________________________________________\n",
            "batch_normalization_10 (Batc (None, 14, 14, 64)        256       \n",
            "_________________________________________________________________\n",
            "max_pooling2d_12 (MaxPooling (None, 7, 7, 64)          0         \n",
            "_________________________________________________________________\n",
            "conv2d_13 (Conv2D)           (None, 5, 5, 64)          36928     \n",
            "_________________________________________________________________\n",
            "activation_30 (Activation)   (None, 5, 5, 64)          0         \n",
            "_________________________________________________________________\n",
            "batch_normalization_11 (Batc (None, 5, 5, 64)          256       \n",
            "_________________________________________________________________\n",
            "max_pooling2d_13 (MaxPooling (None, 2, 2, 64)          0         \n",
            "_________________________________________________________________\n",
            "flatten_7 (Flatten)          (None, 256)               0         \n",
            "_________________________________________________________________\n",
            "dense_9 (Dense)              (None, 10)                2570      \n",
            "_________________________________________________________________\n",
            "activation_31 (Activation)   (None, 10)                0         \n",
            "=================================================================\n",
            "Total params: 59,530\n",
            "Trainable params: 59,210\n",
            "Non-trainable params: 320\n",
            "_________________________________________________________________\n"
          ],
          "name": "stdout"
        }
      ]
    },
    {
      "cell_type": "code",
      "metadata": {
        "colab": {
          "base_uri": "https://localhost:8080/"
        },
        "id": "gukyvUGqifoz",
        "outputId": "ded26824-1b80-43cc-b13f-9bc558f89a82"
      },
      "source": [
        "plotmodelhistory(history)"
      ],
      "execution_count": null,
      "outputs": [
        {
          "output_type": "display_data",
          "data": {
            "image/png": "[encoded data removed]",
            "text/plain": [
              "<Figure size 1080x360 with 2 Axes>"
            ]
          },
          "metadata": {
            "tags": [],
            "needs_background": "light"
          }
        }
      ]
    },
    {
      "cell_type": "code",
      "metadata": {
        "colab": {
          "base_uri": "https://localhost:8080/"
        },
        "id": "KtWEmKM2ihdX",
        "outputId": "6e189d3b-3abe-44e4-b528-af3e8bd6695a"
      },
      "source": [
        "# Score trained model.\n",
        "scores = model.evaluate(xtest, ytest, verbose=1)\n",
        "print('Test loss:', scores[0])\n",
        "print('Test accuracy:', scores[1])"
      ],
      "execution_count": null,
      "outputs": [
        {
          "output_type": "stream",
          "text": [
            "563/563 [==============================] - 1s 2ms/step - loss: 1.7606 - accuracy: 0.6079\n",
            "Test loss: 1.7605640888214111\n",
            "Test accuracy: 0.6079444289207458\n"
          ],
          "name": "stdout"
        }
      ]
    },
    {
      "cell_type": "markdown",
      "metadata": {
        "id": "Wqx_ZoI_Bu-f"
      },
      "source": [
        "###Performance Table"
      ]
    },
    {
      "cell_type": "code",
      "metadata": {
        "id": "zaThvm_pA5wB"
      },
      "source": [
        "# plot_test_loss = []\n",
        "# plot_test_acc = []\n",
        "# for i in range(4):\n",
        "#   scores = model.evaluate(xtest, ytest, verbose=1)\n",
        "plot_test_loss.append(scores[0])\n",
        "plot_test_acc.append(scores[1]*100)  "
      ],
      "execution_count": null,
      "outputs": []
    },
    {
      "cell_type": "code",
      "metadata": {
        "colab": {
          "base_uri": "https://localhost:8080/"
        },
        "id": "eWWvfd5WF3_p",
        "outputId": "3ca6ee00-1fbc-44ec-ed25-6d31cf88e43b"
      },
      "source": [
        "dict = {'Loss': plot_test_loss, 'Accuracy': plot_test_acc}  \n",
        "df = pd.DataFrame(dict)\n",
        "print(df)"
      ],
      "execution_count": null,
      "outputs": [
        {
          "output_type": "stream",
          "text": [
            "       Loss   Accuracy\n",
            "0  1.191193  59.211111\n",
            "1  0.896333  69.361109\n",
            "2  1.345404  65.938890\n",
            "3  1.760564  60.794443\n"
          ],
          "name": "stdout"
        }
      ]
    },
    {
      "cell_type": "code",
      "metadata": {
        "id": "ZOJWz5G9jKrn"
      },
      "source": [
        "# !nvidia-smi"
      ],
      "execution_count": null,
      "outputs": []
    },
    {
      "cell_type": "code",
      "metadata": {
        "id": "dVL7aQJMjhAb"
      },
      "source": [
        "# !pip install wandb\n",
        "# import wandb\n",
        "# wandb.init()"
      ],
      "execution_count": null,
      "outputs": []
    }
  ]
}