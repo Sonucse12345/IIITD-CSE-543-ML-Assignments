{
  "nbformat": 4,
  "nbformat_minor": 0,
  "metadata": {
    "colab": {
      "name": "ML Assignment2_3.ipynb",
      "provenance": [],
      "collapsed_sections": []
    },
    "kernelspec": {
      "name": "python3",
      "display_name": "Python 3"
    }
  },
  "cells": [
    {
      "cell_type": "code",
      "metadata": {
        "id": "R7VJWGSwm_AW",
        "colab": {
          "base_uri": "https://localhost:8080/",
          "height": 51
        },
        "outputId": "fbff5ccd-4d6a-479f-e0fe-961f02864579"
      },
      "source": [
        "from google.colab import drive\n",
        "drive.mount('gdrive')\n",
        "%cd /content/gdrive/'My Drive'/Dataset/Assignment2/"
      ],
      "execution_count": null,
      "outputs": [
        {
          "output_type": "stream",
          "text": [
            "Mounted at gdrive\n",
            "/content/gdrive/My Drive/Dataset/Assignment2\n"
          ],
          "name": "stdout"
        }
      ]
    },
    {
      "cell_type": "code",
      "metadata": {
        "id": "LnBtAL_InOKP"
      },
      "source": [
        "import scipy.io as sio\n",
        "import matplotlib.pyplot as plt\n",
        "import numpy as np\n",
        "import pandas as pd\n",
        "from sklearn.manifold import TSNE\n",
        "from sklearn.preprocessing import StandardScaler\n",
        "from mpl_toolkits.mplot3d import Axes3D\n",
        "from mpl_toolkits import mplot3d\n",
        "from sklearn import metrics\n",
        "import seaborn as sn\n",
        "import os.path\n",
        "import joblib"
      ],
      "execution_count": null,
      "outputs": []
    },
    {
      "cell_type": "code",
      "metadata": {
        "id": "f8qms4HJnQe0",
        "colab": {
          "base_uri": "https://localhost:8080/",
          "height": 34
        },
        "outputId": "6deda8e3-cd46-4cd0-d761-a1482d9f8d07"
      },
      "source": [
        "test = sio.loadmat('dataset_2.mat')\n",
        "test.keys()"
      ],
      "execution_count": null,
      "outputs": [
        {
          "output_type": "execute_result",
          "data": {
            "text/plain": [
              "dict_keys(['__header__', '__version__', '__globals__', 'samples', 'labels'])"
            ]
          },
          "metadata": {
            "tags": []
          },
          "execution_count": 31
        }
      ]
    },
    {
      "cell_type": "code",
      "metadata": {
        "id": "0fD5g8JtnUdG",
        "colab": {
          "base_uri": "https://localhost:8080/",
          "height": 238
        },
        "outputId": "5f8d40c2-91e2-4fba-f4ca-708d65bc6da0"
      },
      "source": [
        "data = test['samples']\n",
        "labels = test['labels']\n",
        "print(data.ndim)\n",
        "print(data.shape)\n",
        "print(labels.ndim)\n",
        "print(labels.shape)\n",
        "print(labels[0].T.shape)\n",
        "print(data)\n",
        "print(labels)"
      ],
      "execution_count": null,
      "outputs": [
        {
          "output_type": "stream",
          "text": [
            "2\n",
            "(10000, 2)\n",
            "2\n",
            "(1, 10000)\n",
            "(10000,)\n",
            "[[-1.43675238 -3.9265797 ]\n",
            " [-2.00349195 -3.54813747]\n",
            " [-0.73024538 -4.45436567]\n",
            " ...\n",
            " [-3.0936506   3.44629184]\n",
            " [ 6.43886415  3.20051189]\n",
            " [ 5.34614831  3.80708106]]\n",
            "[[0 0 0 ... 1 3 3]]\n"
          ],
          "name": "stdout"
        }
      ]
    },
    {
      "cell_type": "code",
      "metadata": {
        "id": "WVK9adqgnXeE",
        "colab": {
          "base_uri": "https://localhost:8080/",
          "height": 34
        },
        "outputId": "ba31cbda-d89a-4ee1-8482-e59c109f8f70"
      },
      "source": [
        "#data2 = np.hsplit(data1,2)\n",
        "xaxis = []\n",
        "yaxis = []\n",
        "for x in data:\n",
        "  xaxis.append(x[0])\n",
        "  yaxis.append(x[1])\n",
        "print(len(xaxis))"
      ],
      "execution_count": null,
      "outputs": [
        {
          "output_type": "stream",
          "text": [
            "10000\n"
          ],
          "name": "stdout"
        }
      ]
    },
    {
      "cell_type": "code",
      "metadata": {
        "id": "l-RTICNrnaPb",
        "colab": {
          "base_uri": "https://localhost:8080/",
          "height": 267
        },
        "outputId": "2afb391e-d4aa-4b5b-a094-e13bf9b73b38"
      },
      "source": [
        "df = pd.DataFrame(dict(x=xaxis, y=yaxis, label=labels[0]))\n",
        "groups = df.groupby('label')\n",
        "fig, ax = plt.subplots()\n",
        "ax.margins(0.05) # Optional, just adds 5% padding to the autoscaling\n",
        "for name, group in groups:\n",
        "    ax.plot(group.x, group.y, marker='o', linestyle='', ms=4, label=name)\n",
        "ax.legend()\n",
        "plt.show()"
      ],
      "execution_count": null,
      "outputs": [
        {
          "output_type": "display_data",
          "data": {
            "image/png": "[encoded data removed]",
            "text/plain": [
              "<Figure size 432x288 with 1 Axes>"
            ]
          },
          "metadata": {
            "tags": [],
            "needs_background": "light"
          }
        }
      ]
    },
    {
      "cell_type": "markdown",
      "metadata": {
        "id": "H1Bfp9tgY29P"
      },
      "source": [
        "## Split"
      ]
    },
    {
      "cell_type": "code",
      "metadata": {
        "id": "rnot0MByY4os"
      },
      "source": [
        "def traintestsplit(df):\n",
        "  # shuffle = []\n",
        "  shuffle = np.random.permutation(len(df))\n",
        "  # for i in range(len(df)):\n",
        "  #   shuffle.append(i)\n",
        "  test_size = int(len(df) * 0.2)\n",
        "  set1 = shuffle[:test_size]\n",
        "  set2 = shuffle[test_size:test_size*2]\n",
        "  set3 = shuffle[test_size*2:test_size*3]\n",
        "  set4 = shuffle[test_size*3:test_size*4]\n",
        "  set5 = shuffle[test_size*4:]\n",
        "  dataset1 = df.iloc[set1]\n",
        "  dataset2 = df.iloc[set2]\n",
        "  dataset3 = df.iloc[set3]\n",
        "  dataset4 = df.iloc[set4]\n",
        "  dataset5 = df.iloc[set5]\n",
        "  return [dataset1, dataset2, dataset3, dataset4, dataset5]"
      ],
      "execution_count": null,
      "outputs": []
    },
    {
      "cell_type": "code",
      "metadata": {
        "id": "crqzt9EoZ0d8",
        "colab": {
          "base_uri": "https://localhost:8080/",
          "height": 255
        },
        "outputId": "53fe2dfd-96df-4d96-b783-6e3edcbcf3b6"
      },
      "source": [
        "print(df) "
      ],
      "execution_count": null,
      "outputs": [
        {
          "output_type": "stream",
          "text": [
            "             x         y  label\n",
            "0    -1.436752 -3.926580      0\n",
            "1    -2.003492 -3.548137      0\n",
            "2    -0.730245 -4.454366      0\n",
            "3    -2.997647 -4.502650      0\n",
            "4    -3.353432 -4.616474      0\n",
            "...        ...       ...    ...\n",
            "9995  4.702887  2.357193      2\n",
            "9996  4.772458  1.608002      2\n",
            "9997 -3.093651  3.446292      1\n",
            "9998  6.438864  3.200512      3\n",
            "9999  5.346148  3.807081      3\n",
            "\n",
            "[10000 rows x 3 columns]\n"
          ],
          "name": "stdout"
        }
      ]
    },
    {
      "cell_type": "code",
      "metadata": {
        "id": "U7IKKHiIY7Vx"
      },
      "source": [
        "def againsplit(train, test):\n",
        "  features = ['x','y']\n",
        "  xtrain = train[features]\n",
        "  xtest = test[features]\n",
        "  ytrain = train.label\n",
        "  ytest = test.label\n",
        "  return xtrain, ytrain, xtest, ytest"
      ],
      "execution_count": null,
      "outputs": []
    },
    {
      "cell_type": "markdown",
      "metadata": {
        "id": "y3vFQdNqTpMT"
      },
      "source": [
        "## b) OvO and OvA"
      ]
    },
    {
      "cell_type": "code",
      "metadata": {
        "id": "lK_z59yNTni9"
      },
      "source": [
        "class LogRegression(object):\n",
        "    \"\"\"docstring for LogRegression.\"\"\"\n",
        "    def __init__(self, lr=0.01, num_iter=1000, fit_intercept=True, verbose=False):\n",
        "        super(LogRegression, self).__init__()\n",
        "        self.lr = lr\n",
        "        self.num_iter = num_iter\n",
        "        self.fit_intercept = fit_intercept\n",
        "        self.verbose = verbose\n",
        "\n",
        "    def __add_intercept(self, X):\n",
        "        intercept = np.ones((X.shape[0], 1))\n",
        "        return np.concatenate((intercept, X), axis=1)\n",
        "    \n",
        "    def __sigmoid(self, z):\n",
        "        return 1 / (1 + np.exp(-z))\n",
        "    def __loss(self, h, y):\n",
        "        return (-y * np.log(h) - (1 - y) * np.log(1 - h)).mean()\n",
        "    \"\"\"You can give any required inputs to the fit()\"\"\"\n",
        "    def fit(self, X, y):\n",
        "      if self.fit_intercept:\n",
        "          X = self.__add_intercept(X)\n",
        "        \n",
        "        # weights initialization\n",
        "      self.theta = np.zeros(X.shape[1])\n",
        "        \n",
        "      for i in range(self.num_iter):\n",
        "          z = np.dot(X, self.theta)\n",
        "          h = self.__sigmoid(z)\n",
        "          gradient = np.dot(X.T, (h - y)) / y.size\n",
        "          self.theta -= self.lr * gradient\n",
        "            \n",
        "          if(self.verbose == True and i % 10000 == 0):\n",
        "              z = np.dot(X, self.theta)\n",
        "              h = self.__sigmoid(z)\n",
        "              print(f'loss: {self.__loss(h, y)} \\t')\n",
        "\n",
        "    def predict_prob(self, X):\n",
        "        if self.fit_intercept:\n",
        "            X = self.__add_intercept(X)\n",
        "    \n",
        "        return self.__sigmoid(np.dot(X, self.theta))\n",
        "    \n",
        "    def predict(self, X):\n",
        "        return np.round(self.predict_prob(X))\n",
        "    def predictaccurate(self, X):\n",
        "        return self.predict_prob(X)\n"
      ],
      "execution_count": null,
      "outputs": []
    },
    {
      "cell_type": "markdown",
      "metadata": {
        "id": "nD7v5mkwaL5F"
      },
      "source": [
        "### Main"
      ]
    },
    {
      "cell_type": "code",
      "metadata": {
        "id": "7DqERSEQaOCG"
      },
      "source": [
        "def classseparator(frame):  \n",
        "  separated = []\n",
        "  for i in range(4):\n",
        "    separated.append(frame.loc[frame['label'] == i])\n",
        "  # print(separated)\n",
        "  return separated"
      ],
      "execution_count": null,
      "outputs": []
    },
    {
      "cell_type": "code",
      "metadata": {
        "id": "ERGlFymVxPk3",
        "colab": {
          "base_uri": "https://localhost:8080/",
          "height": 51
        },
        "outputId": "6fca5524-3da3-4e0a-e1c1-af34c0d23188"
      },
      "source": [
        "%rm"
      ],
      "execution_count": null,
      "outputs": [
        {
          "output_type": "stream",
          "text": [
            "rm: missing operand\n",
            "Try 'rm --help' for more information.\n"
          ],
          "name": "stdout"
        }
      ]
    },
    {
      "cell_type": "code",
      "metadata": {
        "id": "WWy6RHbnZSMP"
      },
      "source": [
        "def lgregr(xtrain, ytrain, name, strvar):\n",
        "  regr = LogRegression()\n",
        "  filename = strvar + str(name[0]) + str(name[1]) + \".pkl\"\n",
        "  if os.path.isfile(filename):\n",
        "      regr = joblib.load(filename)\n",
        "      #print(\"Loading Existing model\")\n",
        "  else :\n",
        "      regr.fit(xtrain, ytrain)\n",
        "      joblib.dump(regr, filename)"
      ],
      "execution_count": null,
      "outputs": []
    },
    {
      "cell_type": "markdown",
      "metadata": {
        "id": "gk0LuNpVnzSr"
      },
      "source": [
        "### OVO - Map"
      ]
    },
    {
      "cell_type": "code",
      "metadata": {
        "id": "3z0rWUu0nyif"
      },
      "source": [
        "ovomark = []\n",
        "ovomark.append([0, 1])\n",
        "ovomark.append([0, 2])\n",
        "ovomark.append([0, 3])\n",
        "ovomark.append([2, 1])\n",
        "ovomark.append([3, 1])\n",
        "ovomark.append([2, 3])"
      ],
      "execution_count": null,
      "outputs": []
    },
    {
      "cell_type": "code",
      "metadata": {
        "id": "8bjwuQFwqjP6"
      },
      "source": [
        "def ovosplit(frame):\n",
        "  features = ['x','y']\n",
        "  xtrain = frame[features]\n",
        "  ytrain = frame.label\n",
        "  return xtrain, ytrain"
      ],
      "execution_count": null,
      "outputs": []
    },
    {
      "cell_type": "code",
      "metadata": {
        "id": "3JRA57N0xcNe"
      },
      "source": [
        "def most_frequent(List): \n",
        "    return max(set(List), key = List.count) "
      ],
      "execution_count": null,
      "outputs": []
    },
    {
      "cell_type": "code",
      "metadata": {
        "id": "mR-2-GfD0hjP"
      },
      "source": [
        "def findAccuracy(ytest, y_predict):\n",
        "  ptr = 0\n",
        "  neg = 0\n",
        "  total = len(ytest)\n",
        "  for i in ytest:\n",
        "    if(i != y_predict[ptr]):\n",
        "      neg+=1\n",
        "    ptr+=1\n",
        "  return (total - neg)/total"
      ],
      "execution_count": null,
      "outputs": []
    },
    {
      "cell_type": "code",
      "metadata": {
        "id": "Xa3ArtTPy8Zo"
      },
      "source": [
        "plottrain = []\n",
        "plottest = []"
      ],
      "execution_count": null,
      "outputs": []
    },
    {
      "cell_type": "code",
      "metadata": {
        "id": "6uFQy6INsDoQ"
      },
      "source": [
        "def performanceOVO(train, test, strvar):\n",
        "  xtrain, ytrain, xtest, ytest = againsplit(train, test)\n",
        "  ytrainpred = []\n",
        "  ytestpred = []\n",
        "  trainacc = []\n",
        "  validacc = []\n",
        "  for i in ovomark:\n",
        "    filename = strvar + str(i[0]) + str(i[1]) + \".pkl\" \n",
        "    regr = joblib.load(filename)\n",
        "    pred1 = regr.predict(xtrain)\n",
        "    pred2 = regr.predict(xtest)\n",
        "\n",
        "    # Change data [0/1] - > OVOMARK Format\n",
        "    for j in range(len(pred1)):\n",
        "      if pred1[j] == 0:\n",
        "        pred1[j] = i[0]\n",
        "      else:\n",
        "        pred1[j] = i[1]\n",
        "    for j in range(len(pred2)):\n",
        "      if pred2[j] == 0:\n",
        "        pred2[j] = i[0]\n",
        "      else:\n",
        "        pred2[j] = i[1]\n",
        "    \n",
        "    ytrainpred.append(pred1)\n",
        "    ytestpred.append(pred2)\n",
        "  \n",
        "  # Select the most frequent one [Voting]\n",
        "  for i in range(len(ytrainpred[0])):\n",
        "    temp = []\n",
        "    for j in range(len(ytrainpred)):\n",
        "      temp.append(ytrainpred[j][i])\n",
        "    trainacc.append(most_frequent(temp))\n",
        "  \n",
        "  for i in range(len(ytestpred[0])):\n",
        "    temp = []\n",
        "    for j in range(len(ytestpred)):\n",
        "      temp.append(ytestpred[j][i])\n",
        "    validacc.append(most_frequent(temp))\n",
        "\n",
        "  plottrain.append(findAccuracy(ytrain, trainacc))\n",
        "  plottest.append(findAccuracy(ytest, validacc))"
      ],
      "execution_count": null,
      "outputs": []
    },
    {
      "cell_type": "code",
      "metadata": {
        "id": "ElKnYwIGZVqR"
      },
      "source": [
        "for k in range(5):\n",
        "  # Carry out new fold\n",
        "  var = traintestsplit(df)\n",
        "  test = var[k]\n",
        "  var.pop(k)\n",
        "  train = pd.concat(var)\n",
        "  separated = classseparator(train)\n",
        "\n",
        "  # Preprocessing\n",
        "  ovo = []\n",
        "  for i in range(4):\n",
        "    for j in range(i+1, 4):\n",
        "      ovo.append(pd.concat([separated[i], separated[j]]))\n",
        "  ovo[1][\"label\"].replace(2, 1, inplace=True)\n",
        "  ovo[2][\"label\"].replace(3, 1, inplace=True)\n",
        "  ovo[3][\"label\"].replace(2, 0, inplace=True)\n",
        "  ovo[4][\"label\"].replace(3, 0, inplace=True)\n",
        "  ovo[5][\"label\"].replace(2, 0, inplace=True)\n",
        "  ovo[5][\"label\"].replace(3, 1, inplace=True)\n",
        "\n",
        "\n",
        "  for i in range(len(ovo)):\n",
        "    xtrain, ytrain = ovosplit(ovo[i])\n",
        "    lgregr(xtrain, ytrain, ovomark[i], \"ovo\")\n",
        "  \n",
        "  performanceOVO(train, test, \"ovo\")"
      ],
      "execution_count": null,
      "outputs": []
    },
    {
      "cell_type": "markdown",
      "metadata": {
        "id": "k84MoxYey0AW"
      },
      "source": [
        "## OVO Table"
      ]
    },
    {
      "cell_type": "code",
      "metadata": {
        "id": "ivdeL8y_yy_e",
        "colab": {
          "base_uri": "https://localhost:8080/",
          "height": 136
        },
        "outputId": "69ee7f58-d3dc-4a1a-872a-1f5c18cdb878"
      },
      "source": [
        "print(\"5fold permomance \" + str(j)+ \" :\")\n",
        "p = pd.DataFrame()\n",
        "p['Training'] = plottrain\n",
        "p['Validation'] = plottest\n",
        "print(p)"
      ],
      "execution_count": null,
      "outputs": [
        {
          "output_type": "stream",
          "text": [
            "5fold permomance 3 :\n",
            "   Training  Validation\n",
            "0  0.911750      0.9100\n",
            "1  0.910500      0.9150\n",
            "2  0.912250      0.9080\n",
            "3  0.909000      0.9210\n",
            "4  0.909875      0.9175\n"
          ],
          "name": "stdout"
        }
      ]
    },
    {
      "cell_type": "code",
      "metadata": {
        "id": "6B5VK_7B4d5X",
        "colab": {
          "base_uri": "https://localhost:8080/",
          "height": 136
        },
        "outputId": "7b595bd9-2f94-4cf8-a574-ce233a7aabc4"
      },
      "source": [
        "%ls"
      ],
      "execution_count": null,
      "outputs": [
        {
          "output_type": "stream",
          "text": [
            "2.Accuracy0.png    2.Loss0.png   2.train2.png  2.valid4.png   ovo21.pkl\n",
            "2.Accuracy1.png    2.Loss1.png   2.train3.png  dataset_1.mat  ovo23.pkl\n",
            "2.Accuracy2.png    2.Loss2.png   2.train4.png  dataset_2.mat  ovo31.pkl\n",
            "2.Accuracy3.png    2.Loss3.png   2.valid0.png  Dataset.data\n",
            "2.Accuracy4.png    2.Loss4.png   2.valid1.png  ovo01.pkl\n",
            "2.L2Accuracy0.png  2.train0.png  2.valid2.png  ovo02.pkl\n",
            "2.L2Loss0.png      2.train1.png  2.valid3.png  ovo03.pkl\n"
          ],
          "name": "stdout"
        }
      ]
    },
    {
      "cell_type": "markdown",
      "metadata": {
        "id": "yTUeZe-3g4so"
      },
      "source": [
        "## c) OVA"
      ]
    },
    {
      "cell_type": "code",
      "metadata": {
        "id": "BxZmywCJg7-v"
      },
      "source": [
        "ovamark = []\n",
        "ovamark.append([0, 5])\n",
        "ovamark.append([1, 5])\n",
        "ovamark.append([2, 5])\n",
        "ovamark.append([3, 5])"
      ],
      "execution_count": null,
      "outputs": []
    },
    {
      "cell_type": "code",
      "metadata": {
        "id": "d8eoB83950B8"
      },
      "source": [
        "plottrain = []\n",
        "plottest = []"
      ],
      "execution_count": null,
      "outputs": []
    },
    {
      "cell_type": "code",
      "metadata": {
        "id": "lOjujb_x6l5b"
      },
      "source": [
        "def performanceOVA(train, test, strvar):\n",
        "  xtrain, ytrain, xtest, ytest = againsplit(train, test)\n",
        "  ytrainpred = []\n",
        "  ytestpred = []\n",
        "  trainacc = []\n",
        "  validacc = []\n",
        "  for i in ovamark:\n",
        "    filename = strvar + str(i[0]) + str(i[1]) + \".pkl\" \n",
        "    regr = joblib.load(filename)\n",
        "    pred1 = regr.predictaccurate(xtrain)\n",
        "    pred2 = regr.predictaccurate(xtest)\n",
        "    \n",
        "    ytrainpred.append(pred1)\n",
        "    ytestpred.append(pred2)\n",
        "  \n",
        "  for i in range(len(ytrainpred[0])):\n",
        "    ptr = 0\n",
        "    mx = 1\n",
        "    for j in range(len(ytrainpred)):\n",
        "      if ytrainpred[j][i] < mx:\n",
        "        mx = ytrainpred[j][i]\n",
        "        ptr = j\n",
        "    trainacc.append(ptr)\n",
        "\n",
        "  for i in range(len(ytestpred[0])):\n",
        "    ptr = 0\n",
        "    mx = 1\n",
        "    for j in range(len(ytestpred)):\n",
        "      if ytestpred[j][i] < mx:\n",
        "        mx = ytestpred[j][i]\n",
        "        ptr = j\n",
        "    validacc.append(ptr)\n",
        "\n",
        "  plottrain.append(findAccuracy(ytrain, trainacc))\n",
        "  plottest.append(findAccuracy(ytest, validacc))"
      ],
      "execution_count": null,
      "outputs": []
    },
    {
      "cell_type": "code",
      "metadata": {
        "id": "s8a5cHOdvhQZ",
        "colab": {
          "base_uri": "https://localhost:8080/",
          "height": 102
        },
        "outputId": "ecc5a891-128d-4e71-a7b9-6cfe92bd1ae5"
      },
      "source": [
        "%rm *.pkl\n",
        "%ls"
      ],
      "execution_count": null,
      "outputs": [
        {
          "output_type": "stream",
          "text": [
            "2.Accuracy0.png  2.L2Accuracy0.png  2.Loss3.png   2.train3.png  2.valid3.png\n",
            "2.Accuracy1.png  2.L2Loss0.png      2.Loss4.png   2.train4.png  2.valid4.png\n",
            "2.Accuracy2.png  2.Loss0.png        2.train0.png  2.valid0.png  dataset_1.mat\n",
            "2.Accuracy3.png  2.Loss1.png        2.train1.png  2.valid1.png  dataset_2.mat\n",
            "2.Accuracy4.png  2.Loss2.png        2.train2.png  2.valid2.png  Dataset.data\n"
          ],
          "name": "stdout"
        }
      ]
    },
    {
      "cell_type": "code",
      "metadata": {
        "id": "c1yR_DdiktWZ"
      },
      "source": [
        "for k in range(5):\n",
        "  var = traintestsplit(df)\n",
        "  test = var[k]\n",
        "  var.pop(k)\n",
        "  train = pd.concat(var)\n",
        "  separated = classseparator(train)\n",
        "  \n",
        "  ova = []\n",
        "  for i in range(4):\n",
        "    temp = []\n",
        "    temp.append(separated[i])\n",
        "    for j in range(4):\n",
        "      if i != j:\n",
        "        tempdf = separated[j].copy()\n",
        "        tempdf['label'].replace(j,5, inplace = True)\n",
        "        temp.append(tempdf)\n",
        "    ova.append(pd.concat(temp))\n",
        "\n",
        "  ova[0][\"label\"].replace(0, 0, inplace=True)\n",
        "  ova[1][\"label\"].replace(1, 0, inplace=True)\n",
        "  ova[2][\"label\"].replace(2, 0, inplace=True)\n",
        "  ova[3][\"label\"].replace(3, 0, inplace=True)\n",
        "  ova[0][\"label\"].replace(5, 1, inplace=True)\n",
        "  ova[1][\"label\"].replace(5, 1, inplace=True)\n",
        "  ova[2][\"label\"].replace(5, 1, inplace=True)\n",
        "  ova[3][\"label\"].replace(5, 1, inplace=True)\n",
        "\n",
        "  for i in range(len(ova)):\n",
        "    xtrain, ytrain = ovosplit(ova[i])\n",
        "    lgregr(xtrain, ytrain, ovamark[i], \"ova\")\n",
        "  \n",
        "  performanceOVA(train, test, \"ova\")"
      ],
      "execution_count": null,
      "outputs": []
    },
    {
      "cell_type": "code",
      "metadata": {
        "id": "_BFBfuZD5vn8",
        "colab": {
          "base_uri": "https://localhost:8080/",
          "height": 136
        },
        "outputId": "90900fc7-25ba-4f96-97d4-2243c3b50b79"
      },
      "source": [
        "print(\"5fold permomance \" + str(j) + \" :\")\n",
        "p = pd.DataFrame()\n",
        "p['Training'] = plottrain\n",
        "p['Validation'] = plottest\n",
        "print(p)"
      ],
      "execution_count": null,
      "outputs": [
        {
          "output_type": "stream",
          "text": [
            "5fold permomance 3 :\n",
            "   Training  Validation\n",
            "0  0.911125      0.9110\n",
            "1  0.911625      0.9090\n",
            "2  0.910125      0.9150\n",
            "3  0.913625      0.9010\n",
            "4  0.911500      0.9095\n"
          ],
          "name": "stdout"
        }
      ]
    },
    {
      "cell_type": "markdown",
      "metadata": {
        "id": "mx_x-JBzmpEO"
      },
      "source": [
        "## d) Build IN function"
      ]
    },
    {
      "cell_type": "code",
      "metadata": {
        "id": "U_6wiYDMmsxD"
      },
      "source": [
        "from sklearn.linear_model import LogisticRegression\n",
        "def sklgregr(xtrain, ytrain, name, strvar):\n",
        "  regr = LogisticRegression()\n",
        "  filename = strvar + str(name[0]) + str(name[1]) + \".pkl\"\n",
        "  if os.path.isfile(filename):\n",
        "      regr = joblib.load(filename)\n",
        "      #print(\"Loading Existing model\")\n",
        "  else :\n",
        "      regr.fit(xtrain, ytrain)\n",
        "      joblib.dump(regr, filename)"
      ],
      "execution_count": null,
      "outputs": []
    },
    {
      "cell_type": "code",
      "metadata": {
        "id": "ODxGvzLznXoU"
      },
      "source": [
        "plottrain = []\n",
        "plottest = []\n",
        "\n",
        "for k in range(5):\n",
        "  # Carry out new fold\n",
        "  var = traintestsplit(df)\n",
        "  test = var[k]\n",
        "  var.pop(k)\n",
        "  train = pd.concat(var)\n",
        "  separated = classseparator(train)\n",
        "\n",
        "  # Preprocessing\n",
        "  ovo = []\n",
        "  for i in range(4):\n",
        "    for j in range(i+1, 4):\n",
        "      ovo.append(pd.concat([separated[i], separated[j]]))\n",
        "  ovo[1][\"label\"].replace(2, 1, inplace=True)\n",
        "  ovo[2][\"label\"].replace(3, 1, inplace=True)\n",
        "  ovo[3][\"label\"].replace(2, 0, inplace=True)\n",
        "  ovo[4][\"label\"].replace(3, 0, inplace=True)\n",
        "  ovo[5][\"label\"].replace(2, 0, inplace=True)\n",
        "  ovo[5][\"label\"].replace(3, 1, inplace=True)\n",
        "\n",
        "\n",
        "  for i in range(len(ovo)):\n",
        "    xtrain, ytrain = ovosplit(ovo[i])\n",
        "    sklgregr(xtrain, ytrain, ovomark[i], \"3d.ovo\")\n",
        "  \n",
        "  performanceOVO(train, test, \"3d.ovo\")"
      ],
      "execution_count": null,
      "outputs": []
    },
    {
      "cell_type": "code",
      "metadata": {
        "id": "m7G1XcN07CYD",
        "colab": {
          "base_uri": "https://localhost:8080/",
          "height": 136
        },
        "outputId": "cc38ddf1-af38-4821-9f55-f9cb871b4b34"
      },
      "source": [
        "print(\"5fold permomance\" + str(j) + \" :\")\n",
        "p = pd.DataFrame()\n",
        "p['Training'] = plottrain\n",
        "p['Validation'] = plottest\n",
        "print(p)"
      ],
      "execution_count": null,
      "outputs": [
        {
          "output_type": "stream",
          "text": [
            "5fold permomance3 :\n",
            "   Training  Validation\n",
            "0  0.924500      0.9245\n",
            "1  0.924250      0.9255\n",
            "2  0.922875      0.9310\n",
            "3  0.924500      0.9245\n",
            "4  0.925000      0.9225\n"
          ],
          "name": "stdout"
        }
      ]
    },
    {
      "cell_type": "code",
      "metadata": {
        "id": "SLl-8oBw9uB1"
      },
      "source": [
        "def performanceOVA2(train, test, strvar):\n",
        "  xtrain, ytrain, xtest, ytest = againsplit(train, test)\n",
        "  ytrainpred = []\n",
        "  ytestpred = []\n",
        "  trainacc = []\n",
        "  validacc = []\n",
        "  for i in ovamark:\n",
        "    filename = strvar + str(i[0]) + str(i[1]) + \".pkl\" \n",
        "    regr = joblib.load(filename)\n",
        "    pred1 = regr.predict(xtrain)\n",
        "    pred2 = regr.predict(xtest)\n",
        "    \n",
        "    ytrainpred.append(pred1)\n",
        "    ytestpred.append(pred2)\n",
        "  \n",
        "  \n",
        "  for i in range(len(ytrainpred[0])):\n",
        "    ptr = 0\n",
        "    mx = 1\n",
        "    for j in range(len(ytrainpred)):\n",
        "      if ytrainpred[j][i] < mx:\n",
        "        mx = ytrainpred[j][i]\n",
        "        ptr = j\n",
        "    trainacc.append(ptr)\n",
        "\n",
        "  for i in range(len(ytestpred[0])):\n",
        "    ptr = 0\n",
        "    mx = 1\n",
        "    for j in range(len(ytestpred)):\n",
        "      if ytestpred[j][i] < mx:\n",
        "        mx = ytestpred[j][i]\n",
        "        ptr = j\n",
        "    validacc.append(ptr)\n",
        "\n",
        "  plottrain.append(findAccuracy(ytrain, trainacc))\n",
        "  plottest.append(findAccuracy(ytest, validacc))"
      ],
      "execution_count": null,
      "outputs": []
    },
    {
      "cell_type": "code",
      "metadata": {
        "id": "NdvJy0kEniKk"
      },
      "source": [
        "plottrain = []\n",
        "plottest = []\n",
        "\n",
        "\n",
        "for k in range(5):\n",
        "  var = traintestsplit(df)\n",
        "  test = var[k]\n",
        "  var.pop(k)\n",
        "  train = pd.concat(var)\n",
        "  separated = classseparator(train)\n",
        "  \n",
        "  ova = []\n",
        "  for i in range(4):\n",
        "    temp = []\n",
        "    temp.append(separated[i])\n",
        "    for j in range(4):\n",
        "      if i != j:\n",
        "        tempdf = separated[j].copy()\n",
        "        tempdf['label'].replace(j,5, inplace = True)\n",
        "        temp.append(tempdf)\n",
        "    ova.append(pd.concat(temp))\n",
        "\n",
        "  ova[0][\"label\"].replace(0, 0, inplace=True)\n",
        "  ova[1][\"label\"].replace(1, 0, inplace=True)\n",
        "  ova[2][\"label\"].replace(2, 0, inplace=True)\n",
        "  ova[3][\"label\"].replace(3, 0, inplace=True)\n",
        "  ova[0][\"label\"].replace(5, 1, inplace=True)\n",
        "  ova[1][\"label\"].replace(5, 1, inplace=True)\n",
        "  ova[2][\"label\"].replace(5, 1, inplace=True)\n",
        "  ova[3][\"label\"].replace(5, 1, inplace=True)\n",
        "\n",
        "  for i in range(len(ova)):\n",
        "    xtrain, ytrain = ovosplit(ova[i])\n",
        "    sklgregr(xtrain, ytrain, ovamark[i], \"3d.ova\")\n",
        "  \n",
        "  performanceOVA2(train, test, \"3d.ova\")"
      ],
      "execution_count": null,
      "outputs": []
    },
    {
      "cell_type": "code",
      "metadata": {
        "id": "tNEDFFoh7xBi",
        "colab": {
          "base_uri": "https://localhost:8080/",
          "height": 136
        },
        "outputId": "80a656db-4c87-443b-be87-519810e72f84"
      },
      "source": [
        "print(\"5fold permomance\" + str(j) + \" :\")\n",
        "p = pd.DataFrame()\n",
        "p['Training'] = plottrain\n",
        "p['Validation'] = plottest\n",
        "print(p)"
      ],
      "execution_count": null,
      "outputs": [
        {
          "output_type": "stream",
          "text": [
            "5fold permomance3 :\n",
            "   Training  Validation\n",
            "0   0.84600       0.838\n",
            "1   0.84500       0.842\n",
            "2   0.84400       0.846\n",
            "3   0.84250       0.852\n",
            "4   0.84275       0.851\n"
          ],
          "name": "stdout"
        }
      ]
    }
  ]
}